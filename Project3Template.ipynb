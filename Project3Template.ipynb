{
 "cells": [
  {
   "cell_type": "markdown",
   "metadata": {},
   "source": [
    "# Skye and Drew's Excellent Adventure\n",
    "## Predictive Maintenance of Hydraulic Pumps with Industrial Applications\n"
   ]
  },
  {
   "cell_type": "markdown",
   "metadata": {},
   "source": [
    "![Hydraulic Machine](./images/NTT-Sept-17.png)\n",
    "## Overview / Business Problem\n",
    "\n",
    "The stakeholder is a hydroponic farming start-up called Square Roots. The start-up spends a considerable amount of time and resources to maintain/monitor their irrigation systems. Square Roots is seeking to future proof their irrigation systems by monitoring the operation of mechanical components through various sensor data. This project will provide Square Roots with recommendations regarding which sensors provide the best predictive data for understanding the maintenance condition of their hydraulic pumps. By implementing these recommendations, Square Roots will be able to efficiently recognize the characteristics that imply an issues and in-turn, troubleshoot before any faults take place.\n",
    "\n",
    "This project utilizes a data set which includes sensor data from 17 separate sensors collected over 2205 60-second hydraulic pump cycles. The pump condition was recorded for each 60-second cycle. The data set include five different target variables – cooler condition, valve condition, internal pump leakage, hydraulic accumulator (hydraulic pressure), and stable flag (stable condition). Although dependent on the target variable being utilized, a false positive with this data set generally implies an issue with the pump was predicted when there was no issue. In turn, a false negative implies no issues with the pump were predicted when there was in fact an issue. With regards to our stakeholder, Square Roots, a false negative would be more detrimental. Given the multiple target variables and multiple classes within a majority of these variables, the modeling performed within this analysis focuses on optimizing accuracy, the weighted F-1 score, and ROC-AUC score."
   ]
  },
  {
   "cell_type": "markdown",
   "metadata": {},
   "source": [
    "## Data Understanding\n",
    "<p>\n",
    "<a href=\"https://archive.ics.uci.edu/ml/datasets/Condition+monitoring+of+hydraulic+systems#\">**This data**</a> comes from a set of sensor measurements taken during 2205 sixty second cycles of a hydraulic pump testing rig. During the testing the pump's maintenance status was recorded. These various metrics of the test rigs physical condition will be the target variable for our tests. The sensor data will be the predictors.\n",
    "\n",
    "The goal will be to use sensor data (such as temperature, tank pressure, vibration magnitude, etc.) to\n",
    "predict the state of the hydraulic pump.\n",
    "\n",
    "The data is split between sensors. Each sensor has a specific sample rate qhich cooresponds to the columns\n",
    "in its table. So `TS1.txt` contains temprature readings from one sensor. Its sample rate was 1hz for\n",
    "each 60 second pump cycle. Therefore, in the `TS1.txt` file there are 60 columns and 2205 rows of data.\n",
    " \n",
    "### Structure of the Data\n",
    "**The structure of the data is this:**\n",
    "1. The rows represent 1 cycle of the hydraulic test rig.\n",
    "2. The individual txt files are sensor readings, rows represent a cycle, each column is a reading\n",
    "   from that specific sensor.\n",
    "3. Readings from each table are given in hz, and each cycle lasted 60 seconds. So, a 1hz sensor\n",
    "   provides a 60 column by 2205 row table.\n",
    "4. \"Profile.txt\" contains a 5 column by 2205 row table with system states encoded in each column.\n",
    "\n",
    "### Target Variables\n",
    "**Now that we can see the structure** of our target variables a little more clearly lets take a\n",
    "look at the `profile.txt` file in our dataset. \n",
    "\n",
    "I will pull it inot a primary DataFrame object, so that we can continue to work with it; adding \n",
    "predictor variables and iterating over a test pipeline to find the best combinations for prediction.\n",
    "\n",
    "Setting this up just requires pulling in the five columns and assigning column names based on our\n",
    "encoding keys from the above dictionary."
   ]
  },
  {
   "cell_type": "code",
   "execution_count": 1,
   "metadata": {},
   "outputs": [],
   "source": [
    "#Import all necessary libraries\n",
    "from glob import iglob\n",
    "from joblib import load, dump\n",
    "import os\n",
    "import pickle\n",
    "from tabulate import tabulate\n",
    "from typing import Union, BinaryIO\n",
    "from time import perf_counter\n",
    "\n",
    "from IPython.display import display, HTML\n",
    "\n",
    "import numpy as np\n",
    "import pandas as pd\n",
    "import matplotlib.pyplot as plt\n",
    "import matplotlib.colors as mcolors\n",
    "import seaborn as sns\n",
    "\n",
    "from sklearn.pipeline import Pipeline\n",
    "from sklearn.preprocessing import StandardScaler\n",
    "from sklearn.tree import DecisionTreeClassifier\n",
    "from sklearn.ensemble import RandomForestClassifier\n",
    "from sklearn.model_selection import train_test_split, GridSearchCV\n",
    "from sklearn.impute import SimpleImputer\n",
    "from sklearn.multioutput import MultiOutputClassifier\n",
    "from sklearn.linear_model import LogisticRegression\n",
    "from sklearn.neighbors import KNeighborsClassifier\n",
    "from sklearn import svm\n",
    "from sklearn.svm import SVC\n",
    "from xgboost import XGBClassifier\n",
    "from sklearn.metrics import (plot_confusion_matrix, accuracy_score, recall_score,\n",
    "                             precision_score, f1_score, roc_auc_score, plot_roc_curve, \n",
    "                             confusion_matrix, roc_curve)\n"
   ]
  },
  {
   "cell_type": "code",
   "execution_count": 2,
   "metadata": {},
   "outputs": [],
   "source": [
    "run -i \"./src/helper.py\""
   ]
  },
  {
   "cell_type": "code",
   "execution_count": 3,
   "metadata": {},
   "outputs": [],
   "source": [
    "run \"./src/RegularModel.py\""
   ]
  },
  {
   "cell_type": "code",
   "execution_count": 4,
   "metadata": {
    "scrolled": true
   },
   "outputs": [],
   "source": [
    "conf_m_colors = sns.cubehelix_palette(start=2, gamma=.5, dark=.4, light=1, hue=2, rot=1, as_cmap=True)"
   ]
  },
  {
   "cell_type": "code",
   "execution_count": 5,
   "metadata": {},
   "outputs": [],
   "source": [
    "df = pd.read_pickle(\"./target_variables/full_set.pkl\")"
   ]
  },
  {
   "cell_type": "code",
   "execution_count": 6,
   "metadata": {},
   "outputs": [
    {
     "data": {
      "text/html": [
       "<svg  width=\"935\" height=\"55\"><rect x=\"0\" y=\"0\" width=\"55\" height=\"55\" style=\"fill:#e0a9ff;stroke-width:2;stroke:rgb(255,255,255)\"/><rect x=\"55\" y=\"0\" width=\"55\" height=\"55\" style=\"fill:#fea0ff;stroke-width:2;stroke:rgb(255,255,255)\"/><rect x=\"110\" y=\"0\" width=\"55\" height=\"55\" style=\"fill:#ff9ff0;stroke-width:2;stroke:rgb(255,255,255)\"/><rect x=\"165\" y=\"0\" width=\"55\" height=\"55\" style=\"fill:#ffa1cc;stroke-width:2;stroke:rgb(255,255,255)\"/><rect x=\"220\" y=\"0\" width=\"55\" height=\"55\" style=\"fill:#ffacaa;stroke-width:2;stroke:rgb(255,255,255)\"/><rect x=\"275\" y=\"0\" width=\"55\" height=\"55\" style=\"fill:#ffb39b;stroke-width:2;stroke:rgb(255,255,255)\"/><rect x=\"330\" y=\"0\" width=\"55\" height=\"55\" style=\"fill:#f4c485;stroke-width:2;stroke:rgb(255,255,255)\"/><rect x=\"385\" y=\"0\" width=\"55\" height=\"55\" style=\"fill:#e6ce80;stroke-width:2;stroke:rgb(255,255,255)\"/><rect x=\"440\" y=\"0\" width=\"55\" height=\"55\" style=\"fill:#c8df80;stroke-width:2;stroke:rgb(255,255,255)\"/><rect x=\"495\" y=\"0\" width=\"55\" height=\"55\" style=\"fill:#acec90;stroke-width:2;stroke:rgb(255,255,255)\"/><rect x=\"550\" y=\"0\" width=\"55\" height=\"55\" style=\"fill:#a1f19c;stroke-width:2;stroke:rgb(255,255,255)\"/><rect x=\"605\" y=\"0\" width=\"55\" height=\"55\" style=\"fill:#92f5bb;stroke-width:2;stroke:rgb(255,255,255)\"/><rect x=\"660\" y=\"0\" width=\"55\" height=\"55\" style=\"fill:#8ff4cc;stroke-width:2;stroke:rgb(255,255,255)\"/><rect x=\"715\" y=\"0\" width=\"55\" height=\"55\" style=\"fill:#94eeec;stroke-width:2;stroke:rgb(255,255,255)\"/><rect x=\"770\" y=\"0\" width=\"55\" height=\"55\" style=\"fill:#a4e3ff;stroke-width:2;stroke:rgb(255,255,255)\"/><rect x=\"825\" y=\"0\" width=\"55\" height=\"55\" style=\"fill:#afdcff;stroke-width:2;stroke:rgb(255,255,255)\"/><rect x=\"880\" y=\"0\" width=\"55\" height=\"55\" style=\"fill:#cacfff;stroke-width:2;stroke:rgb(255,255,255)\"/></svg>"
      ],
      "text/plain": [
       "[[0.8774962454567256, 0.6636047581370687, 1.0],\n",
       " [0.9956221124951056, 0.6287083671107194, 1.0],\n",
       " [1.0, 0.6223394678730779, 0.9393652357242446],\n",
       " [1.0, 0.633305201053595, 0.8014007681467352],\n",
       " [1.0, 0.6734146720616778, 0.6654850946603394],\n",
       " [1.0, 0.7021594601793578, 0.6069208661489289],\n",
       " [0.9586421156012005, 0.7701934216267353, 0.5227535752954889],\n",
       " [0.9037810191880952, 0.8062744990690358, 0.5011094880605725],\n",
       " [0.7853880712677176, 0.8743324267283494, 0.5032799047535499],\n",
       " [0.6756850915177173, 0.9271167902258415, 0.5634064812202891],\n",
       " [0.6310732679089999, 0.9449090274617762, 0.6115722510129086],\n",
       " [0.5730034387303724, 0.9601405203680599, 0.7319114915738314],\n",
       " [0.5622016444548303, 0.95734134001079, 0.7981207582264164],\n",
       " [0.5790158752452275, 0.932865338027351, 0.9268278385905973],\n",
       " [0.6423322675348291, 0.889255649643448, 1.0],\n",
       " [0.6875742999280898, 0.8633468464680367, 1.0],\n",
       " [0.7939022777255433, 0.8104324011861166, 1.0]]"
      ]
     },
     "execution_count": 6,
     "metadata": {},
     "output_type": "execute_result"
    }
   ],
   "source": [
    "with open(\"./features/sensor_info.pkl\", \"rb\") as binary:\n",
    "    sensors = pickle.load(binary)\n",
    "columns = list(sensors.keys())\n",
    "colors = sns.cubehelix_palette(n_colors=17, start=2, gamma=.5, dark=.7, light=.6, hue=2, rot=9)\n",
    "color_dict = {col: color for col, color in zip(columns, colors)}\n",
    "colors"
   ]
  },
  {
   "cell_type": "code",
   "execution_count": 7,
   "metadata": {},
   "outputs": [
    {
     "data": {
      "image/png": "[encoded data removed]",
      "text/plain": [
       "<Figure size 864x1008 with 5 Axes>"
      ]
     },
     "metadata": {
      "needs_background": "light"
     },
     "output_type": "display_data"
    }
   ],
   "source": [
    "fig, ax = plt.subplots(5, 1, figsize=(12,14), tight_layout='tight')\n",
    "x_axis = df.index\n",
    "target_cols = df.columns\n",
    "for col in range(len(target_cols)):\n",
    "    ax[col].plot(x_axis, df[target_cols[col]], c=colors[col])\n",
    "    ax[col].set_title(target_cols[col])\n",
    "plt.savefig(\"./images/cycle_routines.png\")\n",
    "plt.show();"
   ]
  },
  {
   "cell_type": "markdown",
   "metadata": {},
   "source": [
    "## Data Preparation\n",
    "\n",
    "Describe and justify the process for preparing the data for analysis.\n",
    "\n",
    "Questions to consider:\n",
    "\n",
    "- Were there variables you dropped or created?\n",
    "- How did you address missing values or outliers?\n",
    "- Why are these choices appropriate given the data and the business problem?\n",
    "- Can you pipeline your preparation steps to use them consistently in the modeling process?\n",
    "\n",
    "Each row represents one full cycle and each column represents one sample (in this case 1 second) of readings from the temperatue sensor. To create features from this data we will need to come up with methods for aggregating each row of the sensor data into a single column of data.\n",
    "\n",
    "##### Raw Table (ex: TS1.txt)\n",
    "| cycle  |1s |2s |3s |.. |60s|\n",
    "| :---:  |---|---|---|---|---|\n",
    "| first: | 0 | 1 | 2 |...|59 |\n",
    "| second:| 0 | 1 | 2 |...|59 |\n",
    "|   ...  |...|...|...|...|...|\n",
    "| last:  | 0 | 1 | 2 |...|59 |\n",
    "\n",
    "\n",
    "##### Taking the average of each row:\n",
    "| test     |1s-60s | << |\n",
    "| :---:    | :---: |:---|\n",
    "| first:   | avg[0]| << |\n",
    "| second:  | avg[1]| << |\n",
    "|   ...    |  ...  | << |\n",
    "| last:    |avg[-1]| << |\n",
    "\n",
    "| test   |1s-20s    |21s-40s   |41s-60s   |  << |\n",
    "| :---:  | :---:    | :---:    | :---:    | :---|\n",
    "| first: |avg[0][0] |avg[0][1] |avg[0][2] |  << |\n",
    "| second:|avg[1][0] |avg[1][1] |avg[1][2] |  << |\n",
    "|   ...  |  ...     |  ...     |  ...     |  << |\n",
    "| last:  |avg[-1][0]|avg[-1][1]|avg[-1][2]|  << |\n",
    " \n",
    "* If we apply this \"pattern\" to `TS1.txt` we end up with one feature column: *the mean temperature reading\n",
    "from the sensor for all cycles*. \n",
    "* Repeating this pattern for each table of **sensor data** creates a full feature set of mean readings for\n",
    "all 17 sensors across each **2205 pump cycles**."
   ]
  },
  {
   "cell_type": "markdown",
   "metadata": {},
   "source": [
    "## Modeling\n",
    "\n",
    "As previously mentioned, the data set includes five target variables – cooler condition, valve condition, internal pump leakage, hydraulic accumulator (hydraulic pressure), and stable flag (stable condition). We determined that each of these target variables were vital to the stakeholder and will likely impact our final recommendation. As a result, several models were created. About two models were created for each target variable. Depending on the variable, utilized, certain features were utilized including simple averages of the 60-second cycle, the average change over the course of the cycle, the average and change every 20-seconds of the cycle, and standard deviation of both the full 60-second cycle and every 20-seconds. To begin, we will utilize a simple logistic regression model. Given the data and the stakeholder’s business problem, it will make most sense to run a grid search on several different model types to determine which produces the highest accuracy."
   ]
  },
  {
   "cell_type": "markdown",
   "metadata": {},
   "source": [
    "### Baseline Understanding\n",
    "\n",
    "- What does a baseline, model-less prediction look like?"
   ]
  },
  {
   "cell_type": "markdown",
   "metadata": {},
   "source": [
    "### Baseline Model"
   ]
  },
  {
   "cell_type": "markdown",
   "metadata": {},
   "source": [
    "To begin, the baseline model ran a simple logistic regression and included all X-variables and utilized ‘Valve Condition’ as the target variable. Valve Condition, measured as a percentage, includes four classifications – 100 meaning the pump was functioning at optimal switching behavior, 90 meaning there was a small lag, 80 meaning there was a severe lag, and 73 meaning the pump was close to total failure."
   ]
  },
  {
   "cell_type": "code",
   "execution_count": 8,
   "metadata": {
    "scrolled": true
   },
   "outputs": [
    {
     "name": "stdout",
     "output_type": "stream",
     "text": [
      "./target_variables/Internal_pump_leakage.pkl\n",
      "./target_variables/Valve_Condition.pkl\n",
      "./target_variables/stable_flag.pkl\n",
      "./target_variables/Cooler_Condition.pkl\n",
      "./target_variables/Hydraulic_accumulator_bar.pkl\n",
      "\n",
      "Internal Pump Leakage:\n",
      "score: 0.9879154078549849\n",
      "\n",
      "\n",
      "Valve Condition:\n",
      "score: 0.7371601208459214\n",
      "\n",
      "\n",
      "Stable Flag:\n",
      "score: 0.9063444108761329\n",
      "\n",
      "\n",
      "Cooler Condition:\n",
      "score: 0.9939577039274925\n",
      "\n",
      "\n",
      "Hydraulic Accumulator Bar:\n",
      "score: 0.6344410876132931\n",
      "\n"
     ]
    }
   ],
   "source": [
    "run \"./src/baseline_model.py\""
   ]
  },
  {
   "cell_type": "code",
   "execution_count": 9,
   "metadata": {},
   "outputs": [
    {
     "data": {
      "text/html": [
       "<div>\n",
       "<style scoped>\n",
       "    .dataframe tbody tr th:only-of-type {\n",
       "        vertical-align: middle;\n",
       "    }\n",
       "\n",
       "    .dataframe tbody tr th {\n",
       "        vertical-align: top;\n",
       "    }\n",
       "\n",
       "    .dataframe thead th {\n",
       "        text-align: right;\n",
       "    }\n",
       "</style>\n",
       "<table border=\"1\" class=\"dataframe\">\n",
       "  <thead>\n",
       "    <tr style=\"text-align: right;\">\n",
       "      <th></th>\n",
       "      <th>CE</th>\n",
       "      <th>CP</th>\n",
       "      <th>EPS1</th>\n",
       "      <th>FS1</th>\n",
       "      <th>FS2</th>\n",
       "      <th>PS1</th>\n",
       "      <th>PS2</th>\n",
       "      <th>PS3</th>\n",
       "      <th>PS4</th>\n",
       "      <th>PS5</th>\n",
       "      <th>PS6</th>\n",
       "      <th>SE</th>\n",
       "      <th>TS1</th>\n",
       "      <th>TS2</th>\n",
       "      <th>TS3</th>\n",
       "      <th>TS4</th>\n",
       "      <th>VS1</th>\n",
       "    </tr>\n",
       "  </thead>\n",
       "  <tbody>\n",
       "    <tr>\n",
       "      <th>0</th>\n",
       "      <td>39.601350</td>\n",
       "      <td>1.862750</td>\n",
       "      <td>2538.929167</td>\n",
       "      <td>6.709815</td>\n",
       "      <td>10.304592</td>\n",
       "      <td>160.673492</td>\n",
       "      <td>109.466914</td>\n",
       "      <td>1.991475</td>\n",
       "      <td>0.0</td>\n",
       "      <td>9.842169</td>\n",
       "      <td>9.728098</td>\n",
       "      <td>59.157183</td>\n",
       "      <td>35.621983</td>\n",
       "      <td>40.978767</td>\n",
       "      <td>38.471017</td>\n",
       "      <td>31.745250</td>\n",
       "      <td>0.576950</td>\n",
       "    </tr>\n",
       "    <tr>\n",
       "      <th>1</th>\n",
       "      <td>25.786433</td>\n",
       "      <td>1.255550</td>\n",
       "      <td>2531.498900</td>\n",
       "      <td>6.715315</td>\n",
       "      <td>10.403098</td>\n",
       "      <td>160.603320</td>\n",
       "      <td>109.354890</td>\n",
       "      <td>1.976234</td>\n",
       "      <td>0.0</td>\n",
       "      <td>9.635142</td>\n",
       "      <td>9.529488</td>\n",
       "      <td>59.335617</td>\n",
       "      <td>36.676967</td>\n",
       "      <td>41.532767</td>\n",
       "      <td>38.978967</td>\n",
       "      <td>34.493867</td>\n",
       "      <td>0.565850</td>\n",
       "    </tr>\n",
       "    <tr>\n",
       "      <th>2</th>\n",
       "      <td>22.218233</td>\n",
       "      <td>1.113217</td>\n",
       "      <td>2519.928000</td>\n",
       "      <td>6.718522</td>\n",
       "      <td>10.366250</td>\n",
       "      <td>160.347720</td>\n",
       "      <td>109.158845</td>\n",
       "      <td>1.972224</td>\n",
       "      <td>0.0</td>\n",
       "      <td>9.530548</td>\n",
       "      <td>9.427949</td>\n",
       "      <td>59.543150</td>\n",
       "      <td>37.880800</td>\n",
       "      <td>42.442450</td>\n",
       "      <td>39.631950</td>\n",
       "      <td>35.646150</td>\n",
       "      <td>0.576533</td>\n",
       "    </tr>\n",
       "    <tr>\n",
       "      <th>3</th>\n",
       "      <td>20.459817</td>\n",
       "      <td>1.062150</td>\n",
       "      <td>2511.541633</td>\n",
       "      <td>6.720565</td>\n",
       "      <td>10.302678</td>\n",
       "      <td>160.188088</td>\n",
       "      <td>109.064807</td>\n",
       "      <td>1.946575</td>\n",
       "      <td>0.0</td>\n",
       "      <td>9.438827</td>\n",
       "      <td>9.337430</td>\n",
       "      <td>59.794900</td>\n",
       "      <td>38.879050</td>\n",
       "      <td>43.403983</td>\n",
       "      <td>40.403383</td>\n",
       "      <td>36.579467</td>\n",
       "      <td>0.569267</td>\n",
       "    </tr>\n",
       "    <tr>\n",
       "      <th>4</th>\n",
       "      <td>19.787017</td>\n",
       "      <td>1.070467</td>\n",
       "      <td>2503.449500</td>\n",
       "      <td>6.690308</td>\n",
       "      <td>10.237750</td>\n",
       "      <td>160.000472</td>\n",
       "      <td>108.931434</td>\n",
       "      <td>1.922707</td>\n",
       "      <td>0.0</td>\n",
       "      <td>9.358762</td>\n",
       "      <td>9.260636</td>\n",
       "      <td>59.455267</td>\n",
       "      <td>39.803917</td>\n",
       "      <td>44.332750</td>\n",
       "      <td>41.310550</td>\n",
       "      <td>37.427900</td>\n",
       "      <td>0.577367</td>\n",
       "    </tr>\n",
       "  </tbody>\n",
       "</table>\n",
       "</div>"
      ],
      "text/plain": [
       "          CE        CP         EPS1       FS1        FS2         PS1  \\\n",
       "0  39.601350  1.862750  2538.929167  6.709815  10.304592  160.673492   \n",
       "1  25.786433  1.255550  2531.498900  6.715315  10.403098  160.603320   \n",
       "2  22.218233  1.113217  2519.928000  6.718522  10.366250  160.347720   \n",
       "3  20.459817  1.062150  2511.541633  6.720565  10.302678  160.188088   \n",
       "4  19.787017  1.070467  2503.449500  6.690308  10.237750  160.000472   \n",
       "\n",
       "          PS2       PS3  PS4       PS5       PS6         SE        TS1  \\\n",
       "0  109.466914  1.991475  0.0  9.842169  9.728098  59.157183  35.621983   \n",
       "1  109.354890  1.976234  0.0  9.635142  9.529488  59.335617  36.676967   \n",
       "2  109.158845  1.972224  0.0  9.530548  9.427949  59.543150  37.880800   \n",
       "3  109.064807  1.946575  0.0  9.438827  9.337430  59.794900  38.879050   \n",
       "4  108.931434  1.922707  0.0  9.358762  9.260636  59.455267  39.803917   \n",
       "\n",
       "         TS2        TS3        TS4       VS1  \n",
       "0  40.978767  38.471017  31.745250  0.576950  \n",
       "1  41.532767  38.978967  34.493867  0.565850  \n",
       "2  42.442450  39.631950  35.646150  0.576533  \n",
       "3  43.403983  40.403383  36.579467  0.569267  \n",
       "4  44.332750  41.310550  37.427900  0.577367  "
      ]
     },
     "execution_count": 9,
     "metadata": {},
     "output_type": "execute_result"
    }
   ],
   "source": [
    "feature_avg = pd.read_pickle('./features/cycle_mean.pkl')\n",
    "feature_avg.head()"
   ]
  },
  {
   "cell_type": "code",
   "execution_count": 10,
   "metadata": {},
   "outputs": [],
   "source": [
    "#Set the first model's X and y variables\n",
    "#Here, we will include all of the columns in our feature averages data frame\n",
    "base_model_X = pd.read_pickle(\"./features/cycle_mean.pkl\")\n",
    "base_model_y = pd.read_pickle(\"./target_variables/Valve_Condition.pkl\")"
   ]
  },
  {
   "cell_type": "code",
   "execution_count": 11,
   "metadata": {},
   "outputs": [],
   "source": [
    "# shuffle and split, stratify keeps target distribution same in train/test\n",
    "base_model_X_train, base_model_X_test, base_model_y_train, base_model_y_test = train_test_split(base_model_X, \n",
    "                                                                                base_model_y, \n",
    "                                                                                test_size = 0.15, \n",
    "                                                                                random_state = 42)\n",
    "\n",
    "base_model_steps = [('std_scaler', StandardScaler()),\n",
    "        ('dec_tree', DecisionTreeClassifier(random_state = 42))]\n",
    "base_model_pipeline = Pipeline(base_model_steps)\n",
    "# Train the pipeline (tranformations & predictor)\n",
    "base_model_pipeline.fit(base_model_X_train, base_model_y_train)\n",
    "base_model_prediction = base_model_pipeline.predict(base_model_X_test)"
   ]
  },
  {
   "cell_type": "code",
   "execution_count": 12,
   "metadata": {},
   "outputs": [],
   "source": [
    "base_model_pipe_grid = {'dec_tree__criterion': ['gini', 'entropy'],\n",
    "                   'dec_tree__max_depth': [2,4,6,8,10,12]}\n",
    "\n",
    "base_model_gs_pipe = GridSearchCV(estimator = base_model_pipeline, \n",
    "                       param_grid = base_model_pipe_grid, scoring = 'precision_micro')\n",
    "\n",
    "base_model_gs_pipe.fit(base_model_X_train, base_model_y_train);"
   ]
  },
  {
   "cell_type": "code",
   "execution_count": 13,
   "metadata": {},
   "outputs": [
    {
     "data": {
      "text/plain": [
       "0.9486404833836858"
      ]
     },
     "execution_count": 13,
     "metadata": {},
     "output_type": "execute_result"
    }
   ],
   "source": [
    "base_model_gs_pipe.score(base_model_X_test, base_model_y_test)"
   ]
  },
  {
   "cell_type": "code",
   "execution_count": 14,
   "metadata": {},
   "outputs": [
    {
     "data": {
      "text/html": [
       "<table>\n",
       "<thead>\n",
       "<tr><th>    </th><th style=\"text-align: right;\">  importance</th></tr>\n",
       "</thead>\n",
       "<tbody>\n",
       "<tr><td>PS2 </td><td style=\"text-align: right;\">  0.408505  </td></tr>\n",
       "<tr><td>PS1 </td><td style=\"text-align: right;\">  0.239325  </td></tr>\n",
       "<tr><td>SE  </td><td style=\"text-align: right;\">  0.204327  </td></tr>\n",
       "<tr><td>PS5 </td><td style=\"text-align: right;\">  0.0285996 </td></tr>\n",
       "<tr><td>TS1 </td><td style=\"text-align: right;\">  0.0255069 </td></tr>\n",
       "<tr><td>PS6 </td><td style=\"text-align: right;\">  0.0226475 </td></tr>\n",
       "<tr><td>TS2 </td><td style=\"text-align: right;\">  0.021628  </td></tr>\n",
       "<tr><td>PS4 </td><td style=\"text-align: right;\">  0.0128051 </td></tr>\n",
       "<tr><td>TS3 </td><td style=\"text-align: right;\">  0.0108177 </td></tr>\n",
       "<tr><td>VS1 </td><td style=\"text-align: right;\">  0.00742259</td></tr>\n",
       "<tr><td>FS2 </td><td style=\"text-align: right;\">  0.00557228</td></tr>\n",
       "<tr><td>TS4 </td><td style=\"text-align: right;\">  0.00458594</td></tr>\n",
       "<tr><td>CE  </td><td style=\"text-align: right;\">  0.00408295</td></tr>\n",
       "<tr><td>EPS1</td><td style=\"text-align: right;\">  0.00298095</td></tr>\n",
       "<tr><td>PS3 </td><td style=\"text-align: right;\">  0.00119422</td></tr>\n",
       "<tr><td>CP  </td><td style=\"text-align: right;\">  0         </td></tr>\n",
       "<tr><td>FS1 </td><td style=\"text-align: right;\">  0         </td></tr>\n",
       "</tbody>\n",
       "</table>"
      ],
      "text/plain": [
       "'<table>\\n<thead>\\n<tr><th>    </th><th style=\"text-align: right;\">  importance</th></tr>\\n</thead>\\n<tbody>\\n<tr><td>PS2 </td><td style=\"text-align: right;\">  0.408505  </td></tr>\\n<tr><td>PS1 </td><td style=\"text-align: right;\">  0.239325  </td></tr>\\n<tr><td>SE  </td><td style=\"text-align: right;\">  0.204327  </td></tr>\\n<tr><td>PS5 </td><td style=\"text-align: right;\">  0.0285996 </td></tr>\\n<tr><td>TS1 </td><td style=\"text-align: right;\">  0.0255069 </td></tr>\\n<tr><td>PS6 </td><td style=\"text-align: right;\">  0.0226475 </td></tr>\\n<tr><td>TS2 </td><td style=\"text-align: right;\">  0.021628  </td></tr>\\n<tr><td>PS4 </td><td style=\"text-align: right;\">  0.0128051 </td></tr>\\n<tr><td>TS3 </td><td style=\"text-align: right;\">  0.0108177 </td></tr>\\n<tr><td>VS1 </td><td style=\"text-align: right;\">  0.00742259</td></tr>\\n<tr><td>FS2 </td><td style=\"text-align: right;\">  0.00557228</td></tr>\\n<tr><td>TS4 </td><td style=\"text-align: right;\">  0.00458594</td></tr>\\n<tr><td>CE  </td><td style=\"text-align: right;\">  0.00408295</td></tr>\\n<tr><td>EPS1</td><td style=\"text-align: right;\">  0.00298095</td></tr>\\n<tr><td>PS3 </td><td style=\"text-align: right;\">  0.00119422</td></tr>\\n<tr><td>CP  </td><td style=\"text-align: right;\">  0         </td></tr>\\n<tr><td>FS1 </td><td style=\"text-align: right;\">  0         </td></tr>\\n</tbody>\\n</table>'"
      ]
     },
     "metadata": {},
     "output_type": "display_data"
    }
   ],
   "source": [
    "#Create a list of feature importances\n",
    "features1 = list(zip(base_model_X_train.columns, \n",
    "         base_model_gs_pipe.best_estimator_.named_steps['dec_tree'].feature_importances_))\n",
    "\n",
    "#Sort the list in descending order\n",
    "features1.sort(reverse=True, key=lambda x : x[1])\n",
    "feat, val = [[f for f, v in features1],\n",
    "             [[v] for f, v in features1]]\n",
    "\n",
    "#Display the sorted list in a table\n",
    "display(tabulate(val, headers=[\"importance\"], showindex=feat, tablefmt=\"html\"))"
   ]
  },
  {
   "cell_type": "markdown",
   "metadata": {},
   "source": [
    "### Multiple Model Testing with Grid Search"
   ]
  },
  {
   "cell_type": "markdown",
   "metadata": {},
   "source": [
    "As previously mentioned, we are going to perform a grid search on multiple models to determine the highest performing models. For now, we will utilize a simple average of the test cycles as the feature.  Once we’ve determined the top performing models, we can perform grid searches with these models and repeat the process for other combinations of target variables and features."
   ]
  },
  {
   "cell_type": "markdown",
   "metadata": {},
   "source": [
    "### First Model:\n",
    "### Feature, Target Variable: Simple Average, Valve Condition\n",
    "\n",
    "For our first model, we are utilizing the grid search to evaluate the Valve Condition as our target variable and utilizing the average metrics of each cycle (simple average) as our feature. To begin, we will evaluate five different models – a logistic regression model, a decision tree model, a random forest model, a K-nearest neighbors (KNN) model, a support vector machine model, and an XGBoost model. We will run a grid search for each of these models to evaluate the hyperparameters that will produce the highest accuracy scores. As a reminder, Valve Condition, measured as a percentage, includes four classifications – 100 meaning the pump was functioning at optimal switching behavior, 90 meaning there was a small lag, 80 meaning there was a severe lag, and 73 meaning the pump was close to total failure."
   ]
  },
  {
   "cell_type": "code",
   "execution_count": 15,
   "metadata": {},
   "outputs": [],
   "source": [
    "#Create a pipeline for each model type and be sure to scale the data using StandrdScaler()\n",
    "model1_lr_pipe = Pipeline([('scaler', StandardScaler()),\n",
    "                    ('lr', LogisticRegression(random_state = 42))])\n",
    "\n",
    "model1_dtree_pipe = Pipeline([('scaler', StandardScaler()),\n",
    "                    ('dtree',DecisionTreeClassifier(random_state = 42))])\n",
    "\n",
    "model1_rf_pipe = Pipeline([('scaler', StandardScaler()),\n",
    "                    ('rf',RandomForestClassifier(random_state = 42))])\n",
    "\n",
    "model1_knn_pipe = Pipeline([('scaler', StandardScaler()),\n",
    "                    ('knn', KNeighborsClassifier())])\n",
    "\n",
    "model1_svm_pipe = Pipeline([('scaler', StandardScaler()),\n",
    "                     ('svm', svm.SVC(random_state = 42))])\n",
    "\n",
    "model1_xgb_pipe = Pipeline([('scaler', StandardScaler()),\n",
    "                     ('xgb', XGBClassifier(random_state = 42))])"
   ]
  },
  {
   "cell_type": "code",
   "execution_count": 16,
   "metadata": {},
   "outputs": [],
   "source": [
    "#Create any paramter ranges that will be utilized in the model grids\n",
    "model1_param_range = [1, 2, 3, 4, 5, 6]\n",
    "model1_param_range_fl = [1.0, 0.5, 0.1]\n",
    "model1_n_estimators = [50, 100, 150]\n",
    "model1_learning_rates = [.1, .2, .3]\n",
    "\n",
    "#Create grids with parameters that we would like to use for each model\n",
    "model1_lr_param_grid = [{'lr__penalty': ['l1', 'l2'],\n",
    "                   'lr__C': model1_param_range_fl,\n",
    "                   'lr__solver': ['liblinear']}]\n",
    "\n",
    "model1_dtree_param_grid = [{'dtree__criterion': ['gini', 'entropy'],\n",
    "                   'dtree__min_samples_leaf': model1_param_range,\n",
    "                   'dtree__max_depth': model1_param_range,\n",
    "                   'dtree__min_samples_split': model1_param_range[1:]}]\n",
    "\n",
    "model1_rf_param_grid = [{'rf__min_samples_leaf': model1_param_range,\n",
    "                   'rf__max_depth': model1_param_range,\n",
    "                   'rf__min_samples_split': model1_param_range[1:]}]\n",
    "\n",
    "model1_knn_param_grid = [{'knn__n_neighbors': model1_param_range,\n",
    "                   'knn__weights': ['uniform', 'distance'],\n",
    "                   'knn__metric': ['euclidean', 'manhattan']}]\n",
    "\n",
    "model1_svm_param_grid = [{'svm__kernel': ['linear', 'rbf'], \n",
    "                    'svm__C': model1_param_range}]\n",
    "\n",
    "model1_xgb_param_grid = [{'xgb__learning_rate': model1_learning_rates,\n",
    "                    'xgb__max_depth': model1_param_range,\n",
    "                    'xgb__min_child_weight': model1_param_range[:2],\n",
    "                    'xgb__subsample': model1_param_range_fl,\n",
    "                    'xgb__n_estimators': model1_n_estimators}]"
   ]
  },
  {
   "cell_type": "code",
   "execution_count": 17,
   "metadata": {},
   "outputs": [],
   "source": [
    "#Create grid searches for each model and set cross validation to 3 and n_jobs to -1 (this will help the models run faster)\n",
    "model1_lr_grid_search = GridSearchCV(estimator = model1_lr_pipe,\n",
    "                              param_grid = model1_lr_param_grid,\n",
    "                              scoring = 'accuracy',\n",
    "                              cv = 3,\n",
    "                              n_jobs = -1)\n",
    "\n",
    "model1_dtree_grid_search = GridSearchCV(estimator = model1_dtree_pipe,\n",
    "                                 param_grid = model1_dtree_param_grid,\n",
    "                                 scoring = 'accuracy',\n",
    "                                 cv = 3,\n",
    "                                 n_jobs = -1)\n",
    "\n",
    "model1_rf_grid_search = GridSearchCV(estimator = model1_rf_pipe,\n",
    "                              param_grid = model1_rf_param_grid,\n",
    "                              scoring = 'accuracy',\n",
    "                              cv = 3,\n",
    "                              n_jobs = -1)\n",
    "\n",
    "model1_knn_grid_search = GridSearchCV(estimator = model1_knn_pipe,\n",
    "                               param_grid = model1_knn_param_grid,\n",
    "                               scoring = 'accuracy',\n",
    "                               cv = 3,\n",
    "                               n_jobs = -1)\n",
    "\n",
    "model1_svm_grid_search = GridSearchCV(estimator = model1_svm_pipe,\n",
    "                               param_grid = model1_svm_param_grid,\n",
    "                               scoring = 'accuracy',\n",
    "                               cv = 3,\n",
    "                               n_jobs = -1)\n",
    "\n",
    "model1_xgb_grid_search = GridSearchCV(estimator = model1_xgb_pipe,\n",
    "                               param_grid = model1_xgb_param_grid,\n",
    "                               scoring = 'accuracy',\n",
    "                               cv = 3,\n",
    "                               n_jobs = -1)"
   ]
  },
  {
   "cell_type": "code",
   "execution_count": 56,
   "metadata": {
    "scrolled": true
   },
   "outputs": [
    {
     "name": "stderr",
     "output_type": "stream",
     "text": [
      "/opt/anaconda3/envs/learn-env/lib/python3.8/site-packages/sklearn/svm/_base.py:976: ConvergenceWarning: Liblinear failed to converge, increase the number of iterations.\n",
      "  warnings.warn(\"Liblinear failed to converge, increase \"\n"
     ]
    }
   ],
   "source": [
    "#Create a list of the grid searches previously put together\n",
    "grids = [model1_lr_grid_search, \n",
    "         model1_dtree_grid_search, \n",
    "         model1_rf_grid_search, \n",
    "         model1_knn_grid_search, \n",
    "         model1_svm_grid_search, \n",
    "         model1_xgb_grid_search]\n",
    "\n",
    "#Create a for loop to fitthe train models\n",
    "for i in grids:\n",
    "    i.fit(base_model_X_train, base_model_y_train)"
   ]
  },
  {
   "cell_type": "code",
   "execution_count": 57,
   "metadata": {},
   "outputs": [
    {
     "name": "stdout",
     "output_type": "stream",
     "text": [
      "Logistic Regression Test Accuracy: 0.8700906344410876\n",
      "Logistic Regression Best Params: {'lr__C': 1.0, 'lr__penalty': 'l1', 'lr__solver': 'liblinear'}\n",
      "\u000b",
      "\n",
      "Decision Trees Test Accuracy: 0.797583081570997\n",
      "Decision Trees Best Params: {'dtree__criterion': 'gini', 'dtree__max_depth': 6, 'dtree__min_samples_leaf': 1, 'dtree__min_samples_split': 6}\n",
      "\u000b",
      "\n",
      "Random Forest Test Accuracy: 0.8610271903323263\n",
      "Random Forest Best Params: {'rf__max_depth': 6, 'rf__min_samples_leaf': 1, 'rf__min_samples_split': 2}\n",
      "\u000b",
      "\n",
      "K-Nearest Neighbors Test Accuracy: 0.918429003021148\n",
      "K-Nearest Neighbors Best Params: {'knn__metric': 'manhattan', 'knn__n_neighbors': 1, 'knn__weights': 'uniform'}\n",
      "\u000b",
      "\n",
      "Support Vector Machines Test Accuracy: 0.9788519637462235\n",
      "Support Vector Machines Best Params: {'svm__C': 6, 'svm__kernel': 'linear'}\n",
      "\u000b",
      "\n",
      "XGBoost Test Accuracy: 0.972809667673716\n",
      "XGBoost Best Params: {'xgb__learning_rate': 0.2, 'xgb__max_depth': 5, 'xgb__min_child_weight': 1, 'xgb__n_estimators': 150, 'xgb__subsample': 0.5}\n",
      "\u000b",
      "\n"
     ]
    }
   ],
   "source": [
    "#Create a dictionary of each model used\n",
    "grid_dict = {0: 'Logistic Regression', 1: 'Decision Trees', \n",
    "             2: 'Random Forest', 3: 'K-Nearest Neighbors', \n",
    "             4: 'Support Vector Machines', 5: 'XGBoost'}\n",
    "\n",
    "#Combine the dictionar with the applicable model's best parameters and accuracy scores\n",
    "for i, model in enumerate(grids):\n",
    "    print('{} Test Accuracy: {}'.format(grid_dict[i],\\\n",
    "    model.score(base_model_X_test, base_model_y_test)))\n",
    "    print('{} Best Params: {}'.format(grid_dict[i], model.best_params_))\n",
    "    print('\\v')"
   ]
  },
  {
   "cell_type": "markdown",
   "metadata": {},
   "source": [
    "Here we are including confusion matrices to evaluate the false positive and false negative rates for the stakeholder. For this target variable, we will build confusion matrices for the XGB and KNN models."
   ]
  },
  {
   "cell_type": "code",
   "execution_count": 62,
   "metadata": {
    "scrolled": false
   },
   "outputs": [
    {
     "data": {
      "image/png": "[encoded data removed]",
      "text/plain": [
       "<Figure size 864x360 with 4 Axes>"
      ]
     },
     "metadata": {
      "needs_background": "light"
     },
     "output_type": "display_data"
    }
   ],
   "source": [
    "#Create two subplots\n",
    "fig, ax = plt.subplots(1, 2, figsize=(12, 5))\n",
    "\n",
    "#Have each subplot represent a confusion matrix for each model\n",
    "plot_confusion_matrix(model1_xgb_grid_search, base_model_X_test, base_model_y_test, cmap=conf_m_colors, ax=ax[0])\n",
    "plot_confusion_matrix(model1_knn_grid_search, base_model_X_test, base_model_y_test, cmap=conf_m_colors, ax=ax[1])\n",
    "ax[0].set_title('XGB')\n",
    "ax[1].set_title('KNN')\n",
    "plt.show()"
   ]
  },
  {
   "cell_type": "markdown",
   "metadata": {},
   "source": [
    "Lastly, for two models, we will include a summary of scores including the accuracy score, the F-1 weighted score, and the ROC-AUC score. We previously presented the accuracy score however by including the F-1 weighted and ROC-AUC scores, the stakeholder will be able to evaluate the precision and recall through the F-1 weighted score and the classifier’s ability to distinguish between classes through the ROC-AUC score."
   ]
  },
  {
   "cell_type": "code",
   "execution_count": 22,
   "metadata": {},
   "outputs": [
    {
     "name": "stdout",
     "output_type": "stream",
     "text": [
      "('Accuracy Score: ', 0.918429003021148)\n",
      "('F-1 Weighted Score: ', 0.9186346493473566)\n",
      "('ROC-AUC Score: ', 0.9432591283982722)\n",
      "\u000b",
      "\n",
      "('Accuracy Score: ', 0.972809667673716)\n",
      "('F-1 Weighted Score: ', 0.9727442972719881)\n",
      "('ROC-AUC Score: ', 0.9990739744776906)\n"
     ]
    }
   ],
   "source": [
    "#Print all accuracy scores for each model\n",
    "print(get_accuracy('KNN', model1_knn_grid_search, base_model_X_test, base_model_y_test))\n",
    "print(get_f1_weighted_score('KNN', model1_knn_grid_search, base_model_X_test, base_model_y_test))\n",
    "print(get_roc_auc_score('KNN', model1_knn_grid_search, base_model_X_test, base_model_y_test))\n",
    "print('\\v')\n",
    "print(get_accuracy('XGB', model1_xgb_grid_search, base_model_X_test, base_model_y_test))\n",
    "print(get_f1_weighted_score('XGB', model1_xgb_grid_search, base_model_X_test, base_model_y_test))\n",
    "print(get_roc_auc_score('XGB', model1_xgb_grid_search, base_model_X_test, base_model_y_test))"
   ]
  },
  {
   "cell_type": "markdown",
   "metadata": {},
   "source": [
    "## Modeling Iterations\n",
    "\n",
    "The below iterations will now take the general structure we have laid out above and essentially repeat the process with the balance of the target variables."
   ]
  },
  {
   "cell_type": "markdown",
   "metadata": {},
   "source": [
    "### Second Model:\n",
    "\n",
    "### Feature, Target Variable: Simple Average, Internal Pump Leakage"
   ]
  },
  {
   "cell_type": "markdown",
   "metadata": {},
   "source": [
    "This second model will again utilize grid search to evaluate the target variable, now Internal Pump and again utilize the simple average as our feature. As a reminder, the Internal Pump Leakage target variable is measured with three classifications includes – 0 meaning no leakage, 1 meaning weak leakage, and 2 meaning severe leakage."
   ]
  },
  {
   "cell_type": "markdown",
   "metadata": {},
   "source": [
    "### Grid Search Class / Function"
   ]
  },
  {
   "cell_type": "markdown",
   "metadata": {},
   "source": [
    "Given we will utilize the grid search on the same five models as previously done, we will create a class function such that the grid searches and modeling are easily reproducible."
   ]
  },
  {
   "cell_type": "markdown",
   "metadata": {},
   "source": [
    "```python\n",
    "class RegularModel:\n",
    "\n",
    "    def __init__(self, X_path:Union[BinaryIO, str], y_path:Union[BinaryIO, str], X_name:str='', y_name:str='', random_state:int=42, test_size:float=0.15):\n",
    "        self._X = pd.read_pickle(X_path)\n",
    "        self._y = pd.read_pickle(y_path)\n",
    "        self.features = X_name\n",
    "        self.target = y_name\n",
    "        self.rs = random_state\n",
    "        self.test_size = test_size\n",
    "        self._X_train, self._X_test, self._y_train, self._y_test = train_test_split(self._X, \n",
    "                                                                                        self._y, \n",
    "                                                                                        test_size = self.test_size, \n",
    "                                                                                        random_state = self.rs)\n",
    "\n",
    "        _knn_pipe = Pipeline([('scaler', StandardScaler()),\n",
    "                            ('knn', KNeighborsClassifier())])\n",
    "        \n",
    "        _xgb_pipe = Pipeline([('scaler', StandardScaler()),\n",
    "                             ('xgb', XGBClassifier(random_state = self.rs))])\n",
    "\n",
    "        param_range = [1, 2, 3, 4, 5, 6]\n",
    "        param_range_fl = [1.0, 0.5, 0.1]\n",
    "        n_estimators = [50, 100, 150]\n",
    "        learning_rates = [.1, .2, .3]\n",
    "\n",
    "        knn_param_grid = [{'knn__n_neighbors': param_range,\n",
    "                           'knn__weights': ['uniform', 'distance'],\n",
    "                           'knn__metric': ['euclidean', 'manhattan']}]\n",
    "\n",
    "        xgb_param_grid = [{'xgb__learning_rate': learning_rates,\n",
    "                            'xgb__max_depth': param_range,\n",
    "                            'xgb__min_child_weight': param_range[:2],\n",
    "                            'xgb__subsample': param_range_fl,\n",
    "                            'xgb__n_estimators': n_estimators}]\n",
    "\n",
    "        self.knn_grid_search = GridSearchCV(estimator = _knn_pipe,\n",
    "                                       param_grid = knn_param_grid,\n",
    "                                       scoring = 'accuracy',\n",
    "                                       cv = 3,\n",
    "                                       n_jobs = -1)\n",
    "\n",
    "        self.xgb_grid_search = GridSearchCV(estimator = _xgb_pipe,\n",
    "                                       param_grid = xgb_param_grid,\n",
    "                                       scoring = 'accuracy',\n",
    "                                       cv = 3,\n",
    "                                       n_jobs = -1)\n",
    "        \n",
    "        self.grids = [self.knn_grid_search, self.xgb_grid_search]\n",
    "\n",
    "    def fit_model(self):\n",
    "        for i in self.grids:\n",
    "            i.fit(self._X_train, self._y_train)\n",
    "        return self\n",
    "    \n",
    "    def save_model(self, filename:Union[BinaryIO, str]):\n",
    "        if not isinstance(joblib, Module):\n",
    "            from joblib import dump\n",
    "        dump(self, filename)\n",
    "\n",
    "    def report(self, how:str=\"print\", where:Union[BinaryIO, str]=\"\"):\n",
    "        grid_dict = {0: 'K-Nearest Neighbors', 1: 'XGBoost'}\n",
    "        rep_list = []\n",
    "        rep_list.append(f\"Feature type: {self.features}\\nTarget Variable: {self.target}\\n\")\n",
    "        rep_list.append('\\n')\n",
    "        for i, model in enumerate(self.grids):\n",
    "            rep_list.append('{} Test Accuracy: {}\\n'.format(grid_dict[i],\\\n",
    "            model.score(self._X_test, self._y_test)))\n",
    "            rep_list.append('{} Best Params: {}\\n'.format(grid_dict[i], model.best_params_))\n",
    "            rep_list.append('\\n')\n",
    "        if how == \"file\":\n",
    "            if not where:\n",
    "                raise ValueError(\"You must pass a string with filename and path to use 'file' output method.\")\n",
    "            with open(where, 'w') as file:\n",
    "                file.writelines(rep_list)\n",
    "                return print(f\"Report ouput to {where}.\")\n",
    "        return print(*rep_list)\n",
    "```"
   ]
  },
  {
   "cell_type": "code",
   "execution_count": 23,
   "metadata": {},
   "outputs": [
    {
     "data": {
      "text/plain": [
       "<__main__.RegularModel at 0x7fbfe84d88e0>"
      ]
     },
     "execution_count": 23,
     "metadata": {},
     "output_type": "execute_result"
    }
   ],
   "source": [
    "#Load in the X and y variables from the applicable pickle files\n",
    "model2_X = \"./features/cycle_mean.pkl\"\n",
    "model2_y = \"./target_variables/Internal_pump_leakage.pkl\"\n",
    "\n",
    "#Load the model using the previously defined function\n",
    "model2 = RegularModel(model2_X, model2_y, 'Simple Averages', 'Internal Pump Leakage')\n",
    "\n",
    "#Fit the model using the previously defined function\n",
    "model2.fit_model()"
   ]
  },
  {
   "cell_type": "code",
   "execution_count": 24,
   "metadata": {
    "scrolled": true
   },
   "outputs": [
    {
     "data": {
      "text/html": [
       "<table>\n",
       "<thead>\n",
       "<tr><th>                   </th><th style=\"text-align: right;\">  Model 2</th></tr>\n",
       "</thead>\n",
       "<tbody>\n",
       "<tr><td>Accuracy Score:    </td><td style=\"text-align: right;\"> 0.987915</td></tr>\n",
       "<tr><td>ROC-AUC Score:     </td><td style=\"text-align: right;\"> 0.999786</td></tr>\n",
       "<tr><td>F-1 Weighted Score:</td><td style=\"text-align: right;\"> 0.987915</td></tr>\n",
       "</tbody>\n",
       "</table>"
      ],
      "text/plain": [
       "'<table>\\n<thead>\\n<tr><th>                   </th><th style=\"text-align: right;\">  Model 2</th></tr>\\n</thead>\\n<tbody>\\n<tr><td>Accuracy Score:    </td><td style=\"text-align: right;\"> 0.987915</td></tr>\\n<tr><td>ROC-AUC Score:     </td><td style=\"text-align: right;\"> 0.999786</td></tr>\\n<tr><td>F-1 Weighted Score:</td><td style=\"text-align: right;\"> 0.987915</td></tr>\\n</tbody>\\n</table>'"
      ]
     },
     "metadata": {},
     "output_type": "display_data"
    }
   ],
   "source": [
    "#Return the summary metrics using our previously defined functions\n",
    "metric = get_metrics(\"Model_2\", 1, \"./models/model_2.joblib\")\n",
    "headers = []\n",
    "value = []\n",
    "for header, val in metric:\n",
    "    headers.append(header)\n",
    "    value.append([val])\n",
    "display(tabulate(value, headers=[\"Model 2\"], showindex=headers, tablefmt='html'))"
   ]
  },
  {
   "cell_type": "code",
   "execution_count": 25,
   "metadata": {
    "scrolled": false
   },
   "outputs": [
    {
     "data": {
      "text/html": [
       "<table>\n",
       "<thead>\n",
       "<tr><th>    </th><th style=\"text-align: right;\">  importance</th></tr>\n",
       "</thead>\n",
       "<tbody>\n",
       "<tr><td>SE  </td><td style=\"text-align: right;\">  0.359089  </td></tr>\n",
       "<tr><td>FS1 </td><td style=\"text-align: right;\">  0.267551  </td></tr>\n",
       "<tr><td>TS2 </td><td style=\"text-align: right;\">  0.0642261 </td></tr>\n",
       "<tr><td>EPS1</td><td style=\"text-align: right;\">  0.0628446 </td></tr>\n",
       "<tr><td>CP  </td><td style=\"text-align: right;\">  0.0428683 </td></tr>\n",
       "<tr><td>CE  </td><td style=\"text-align: right;\">  0.0407903 </td></tr>\n",
       "<tr><td>PS1 </td><td style=\"text-align: right;\">  0.0382625 </td></tr>\n",
       "<tr><td>FS2 </td><td style=\"text-align: right;\">  0.033654  </td></tr>\n",
       "<tr><td>PS5 </td><td style=\"text-align: right;\">  0.0148339 </td></tr>\n",
       "<tr><td>TS1 </td><td style=\"text-align: right;\">  0.0128708 </td></tr>\n",
       "<tr><td>TS3 </td><td style=\"text-align: right;\">  0.0122494 </td></tr>\n",
       "<tr><td>PS3 </td><td style=\"text-align: right;\">  0.0121908 </td></tr>\n",
       "<tr><td>PS6 </td><td style=\"text-align: right;\">  0.00938193</td></tr>\n",
       "<tr><td>PS4 </td><td style=\"text-align: right;\">  0.00799136</td></tr>\n",
       "<tr><td>VS1 </td><td style=\"text-align: right;\">  0.0079574 </td></tr>\n",
       "<tr><td>PS2 </td><td style=\"text-align: right;\">  0.00784628</td></tr>\n",
       "<tr><td>TS4 </td><td style=\"text-align: right;\">  0.00539237</td></tr>\n",
       "</tbody>\n",
       "</table>"
      ],
      "text/plain": [
       "'<table>\\n<thead>\\n<tr><th>    </th><th style=\"text-align: right;\">  importance</th></tr>\\n</thead>\\n<tbody>\\n<tr><td>SE  </td><td style=\"text-align: right;\">  0.359089  </td></tr>\\n<tr><td>FS1 </td><td style=\"text-align: right;\">  0.267551  </td></tr>\\n<tr><td>TS2 </td><td style=\"text-align: right;\">  0.0642261 </td></tr>\\n<tr><td>EPS1</td><td style=\"text-align: right;\">  0.0628446 </td></tr>\\n<tr><td>CP  </td><td style=\"text-align: right;\">  0.0428683 </td></tr>\\n<tr><td>CE  </td><td style=\"text-align: right;\">  0.0407903 </td></tr>\\n<tr><td>PS1 </td><td style=\"text-align: right;\">  0.0382625 </td></tr>\\n<tr><td>FS2 </td><td style=\"text-align: right;\">  0.033654  </td></tr>\\n<tr><td>PS5 </td><td style=\"text-align: right;\">  0.0148339 </td></tr>\\n<tr><td>TS1 </td><td style=\"text-align: right;\">  0.0128708 </td></tr>\\n<tr><td>TS3 </td><td style=\"text-align: right;\">  0.0122494 </td></tr>\\n<tr><td>PS3 </td><td style=\"text-align: right;\">  0.0121908 </td></tr>\\n<tr><td>PS6 </td><td style=\"text-align: right;\">  0.00938193</td></tr>\\n<tr><td>PS4 </td><td style=\"text-align: right;\">  0.00799136</td></tr>\\n<tr><td>VS1 </td><td style=\"text-align: right;\">  0.0079574 </td></tr>\\n<tr><td>PS2 </td><td style=\"text-align: right;\">  0.00784628</td></tr>\\n<tr><td>TS4 </td><td style=\"text-align: right;\">  0.00539237</td></tr>\\n</tbody>\\n</table>'"
      ]
     },
     "metadata": {},
     "output_type": "display_data"
    }
   ],
   "source": [
    "#Create a list of feature importances\n",
    "features2 = list(zip(model2._X_train.columns, \n",
    "         model2.grids[1].best_estimator_.named_steps['xgb'].feature_importances_))\n",
    "\n",
    "#Sort the list in descending order\n",
    "features2.sort(reverse=True, key=lambda x : x[1])\n",
    "feat, val = [[f for f, v in features2],\n",
    "             [[v] for f, v in features2]]\n",
    "\n",
    "#Display the sorted list in a table\n",
    "display(tabulate(val, headers=[\"importance\"], showindex=feat, tablefmt=\"html\"))"
   ]
  },
  {
   "cell_type": "code",
   "execution_count": 63,
   "metadata": {},
   "outputs": [
    {
     "data": {
      "image/png": "[encoded data removed]",
      "text/plain": [
       "<Figure size 864x360 with 4 Axes>"
      ]
     },
     "metadata": {
      "needs_background": "light"
     },
     "output_type": "display_data"
    }
   ],
   "source": [
    "#Create two subplots\n",
    "fig, ax = plt.subplots(1, 2, figsize=(12, 5))\n",
    "\n",
    "#Have each subplot represent a confusion matrix for each model\n",
    "plot_confusion_matrix(model2.grids[1], model2._X_test, model2._y_test, cmap=conf_m_colors, ax=ax[0])\n",
    "plot_confusion_matrix(model2.grids[0], model2._X_test, model2._y_test, cmap=conf_m_colors, ax=ax[1])\n",
    "ax[0].set_title('XGB')\n",
    "ax[1].set_title('KNN')\n",
    "plt.show()"
   ]
  },
  {
   "cell_type": "markdown",
   "metadata": {},
   "source": [
    "### Third Model:\n",
    "### Feature, Target Variable: Simple Average, Hydraulic Accumulator / Bar"
   ]
  },
  {
   "cell_type": "markdown",
   "metadata": {},
   "source": [
    "This third model will again utilize grid search and the class function previously created to evaluate the target variable, Hydraulic Accumulator (pressure) and again utilize the simple average as our feature. Hydraulic Accumulator, measured in bars, includes four classifications – 130 meaning optimal pressure, 115 meaning slightly reduced pressure, 100 meaning severely reduced pressure, and 90 meaning close to failure."
   ]
  },
  {
   "cell_type": "code",
   "execution_count": 27,
   "metadata": {},
   "outputs": [
    {
     "data": {
      "text/plain": [
       "<__main__.RegularModel at 0x7fbfb8963f40>"
      ]
     },
     "execution_count": 27,
     "metadata": {},
     "output_type": "execute_result"
    }
   ],
   "source": [
    "model3_X = \"./features/cycle_mean.pkl\"\n",
    "model3_y = \"./target_variables/Hydraulic_accumulator_bar.pkl\"\n",
    "model3 = RegularModel(model3_X, model3_y, 'Simple Averages', 'Hydraulic Accumulator / Bar')\n",
    "model3.fit_model()"
   ]
  },
  {
   "cell_type": "code",
   "execution_count": 28,
   "metadata": {},
   "outputs": [
    {
     "name": "stdout",
     "output_type": "stream",
     "text": [
      "Feature type: Simple Averages\n",
      "Target Variable: Hydraulic Accumulator / Bar\n",
      " \n",
      " K-Nearest Neighbors Test Accuracy: 0.9637462235649547\n",
      " K-Nearest Neighbors Best Params: {'knn__metric': 'manhattan', 'knn__n_neighbors': 4, 'knn__weights': 'distance'}\n",
      " \n",
      " XGBoost Test Accuracy: 0.9697885196374623\n",
      " XGBoost Best Params: {'xgb__learning_rate': 0.2, 'xgb__max_depth': 4, 'xgb__min_child_weight': 1, 'xgb__n_estimators': 150, 'xgb__subsample': 0.5}\n",
      " \n",
      "\n"
     ]
    }
   ],
   "source": [
    "model3.report()"
   ]
  },
  {
   "cell_type": "code",
   "execution_count": 29,
   "metadata": {},
   "outputs": [
    {
     "name": "stdout",
     "output_type": "stream",
     "text": [
      "('Accuracy Score: ', 0.9637462235649547)\n",
      "('F-1 Weighted Score: ', 0.9635651973655772)\n",
      "('ROC-AUC Score: ', 0.9842895771996268)\n",
      "\u000b",
      "\n",
      "('Accuracy Score: ', 0.9697885196374623)\n",
      "('F-1 Weighted Score: ', 0.9698609457765859)\n",
      "('ROC-AUC Score: ', 0.9994806072890597)\n"
     ]
    }
   ],
   "source": [
    "print(get_accuracy('KNN', model3.grids[0], model3._X_test, model3._y_test))\n",
    "print(get_f1_weighted_score('KNN', model3.grids[0], model3._X_test, model3._y_test))\n",
    "print(get_roc_auc_score('KNN', model3.grids[0], model3._X_test, model3._y_test))\n",
    "print('\\v')\n",
    "print(get_accuracy('XGB', model3.grids[1], model3._X_test, model3._y_test))\n",
    "print(get_f1_weighted_score('XGB', model3.grids[1], model3._X_test, model3._y_test))\n",
    "print(get_roc_auc_score('XGB', model3.grids[1], model3._X_test, model3._y_test))"
   ]
  },
  {
   "cell_type": "code",
   "execution_count": 65,
   "metadata": {},
   "outputs": [
    {
     "data": {
      "image/png": "[encoded data removed]",
      "text/plain": [
       "<Figure size 864x360 with 4 Axes>"
      ]
     },
     "metadata": {
      "needs_background": "light"
     },
     "output_type": "display_data"
    }
   ],
   "source": [
    "fig, ax = plt.subplots(1, 2, figsize=(12, 5))\n",
    "plot_confusion_matrix(model3.grids[1], model3._X_test, model3._y_test, cmap=conf_m_colors, ax=ax[0])\n",
    "plot_confusion_matrix(model3.grids[0], model3._X_test, model3._y_test, cmap=conf_m_colors, ax=ax[1])\n",
    "ax[0].set_title('XGB')\n",
    "ax[1].set_title('KNN')\n",
    "plt.show()"
   ]
  },
  {
   "cell_type": "markdown",
   "metadata": {},
   "source": [
    "### Fourth Model:\n",
    "### Feature, Target Variable: Simple Average, Stable Flag"
   ]
  },
  {
   "cell_type": "markdown",
   "metadata": {},
   "source": [
    "This fourth model will again utilize grid search, the class function previously and the simple average as our feature. With this model, we will utilize Stable Flag (stability measurement) as the target variable. Unlike the other target variables, Stable Flag only measures two classifications – 0 meaning conditions were stable, and 1 meaning static conditions might not have been reached yet."
   ]
  },
  {
   "cell_type": "code",
   "execution_count": 31,
   "metadata": {},
   "outputs": [
    {
     "data": {
      "text/plain": [
       "<__main__.RegularModel at 0x7fbfcb79a2b0>"
      ]
     },
     "execution_count": 31,
     "metadata": {},
     "output_type": "execute_result"
    }
   ],
   "source": [
    "model4_X = \"./features/cycle_mean.pkl\"\n",
    "model4_y = \"./target_variables/stable_flag.pkl\"\n",
    "model4 = RegularModel(model4_X, model4_y, 'Simple Averages', 'Stable Flag')\n",
    "model4.fit_model()"
   ]
  },
  {
   "cell_type": "code",
   "execution_count": 32,
   "metadata": {},
   "outputs": [
    {
     "name": "stdout",
     "output_type": "stream",
     "text": [
      "Feature type: Simple Averages\n",
      "Target Variable: Stable Flag\n",
      " \n",
      " K-Nearest Neighbors Test Accuracy: 0.9637462235649547\n",
      " K-Nearest Neighbors Best Params: {'knn__metric': 'manhattan', 'knn__n_neighbors': 1, 'knn__weights': 'uniform'}\n",
      " \n",
      " XGBoost Test Accuracy: 0.9667673716012085\n",
      " XGBoost Best Params: {'xgb__learning_rate': 0.3, 'xgb__max_depth': 5, 'xgb__min_child_weight': 1, 'xgb__n_estimators': 150, 'xgb__subsample': 0.5}\n",
      " \n",
      "\n"
     ]
    }
   ],
   "source": [
    "model4.report()"
   ]
  },
  {
   "cell_type": "code",
   "execution_count": 33,
   "metadata": {},
   "outputs": [
    {
     "name": "stdout",
     "output_type": "stream",
     "text": [
      "('Accuracy Score: ', 0.9637462235649547)\n",
      "('F-1 Weighted Score: ', 0.9633435772317546)\n",
      "\u000b",
      "\n",
      "('Accuracy Score: ', 0.9667673716012085)\n",
      "('F-1 Weighted Score: ', 0.9663477541221549)\n"
     ]
    }
   ],
   "source": [
    "print(get_accuracy('KNN', model4.grids[0], model4._X_test, model4._y_test))\n",
    "print(get_f1_weighted_score('KNN', model4.grids[0], model4._X_test, model4._y_test))\n",
    "print('\\v')\n",
    "print(get_accuracy('XGB', model4.grids[1], model4._X_test, model4._y_test))\n",
    "print(get_f1_weighted_score('XGB', model4.grids[1], model4._X_test, model4._y_test))"
   ]
  },
  {
   "cell_type": "code",
   "execution_count": 34,
   "metadata": {},
   "outputs": [
    {
     "data": {
      "text/html": [
       "<table>\n",
       "<thead>\n",
       "<tr><th>    </th><th style=\"text-align: right;\">  importance</th></tr>\n",
       "</thead>\n",
       "<tbody>\n",
       "<tr><td>SE  </td><td style=\"text-align: right;\">   0.222309 </td></tr>\n",
       "<tr><td>PS5 </td><td style=\"text-align: right;\">   0.188596 </td></tr>\n",
       "<tr><td>PS1 </td><td style=\"text-align: right;\">   0.101923 </td></tr>\n",
       "<tr><td>FS1 </td><td style=\"text-align: right;\">   0.075081 </td></tr>\n",
       "<tr><td>CE  </td><td style=\"text-align: right;\">   0.0555207</td></tr>\n",
       "<tr><td>PS2 </td><td style=\"text-align: right;\">   0.045497 </td></tr>\n",
       "<tr><td>FS2 </td><td style=\"text-align: right;\">   0.0448013</td></tr>\n",
       "<tr><td>PS6 </td><td style=\"text-align: right;\">   0.0445329</td></tr>\n",
       "<tr><td>PS4 </td><td style=\"text-align: right;\">   0.0436018</td></tr>\n",
       "<tr><td>TS2 </td><td style=\"text-align: right;\">   0.0406459</td></tr>\n",
       "<tr><td>CP  </td><td style=\"text-align: right;\">   0.0277059</td></tr>\n",
       "<tr><td>TS3 </td><td style=\"text-align: right;\">   0.0225384</td></tr>\n",
       "<tr><td>TS1 </td><td style=\"text-align: right;\">   0.0221843</td></tr>\n",
       "<tr><td>EPS1</td><td style=\"text-align: right;\">   0.0169017</td></tr>\n",
       "<tr><td>VS1 </td><td style=\"text-align: right;\">   0.0167754</td></tr>\n",
       "<tr><td>PS3 </td><td style=\"text-align: right;\">   0.0157285</td></tr>\n",
       "<tr><td>TS4 </td><td style=\"text-align: right;\">   0.0156564</td></tr>\n",
       "</tbody>\n",
       "</table>"
      ],
      "text/plain": [
       "'<table>\\n<thead>\\n<tr><th>    </th><th style=\"text-align: right;\">  importance</th></tr>\\n</thead>\\n<tbody>\\n<tr><td>SE  </td><td style=\"text-align: right;\">   0.222309 </td></tr>\\n<tr><td>PS5 </td><td style=\"text-align: right;\">   0.188596 </td></tr>\\n<tr><td>PS1 </td><td style=\"text-align: right;\">   0.101923 </td></tr>\\n<tr><td>FS1 </td><td style=\"text-align: right;\">   0.075081 </td></tr>\\n<tr><td>CE  </td><td style=\"text-align: right;\">   0.0555207</td></tr>\\n<tr><td>PS2 </td><td style=\"text-align: right;\">   0.045497 </td></tr>\\n<tr><td>FS2 </td><td style=\"text-align: right;\">   0.0448013</td></tr>\\n<tr><td>PS6 </td><td style=\"text-align: right;\">   0.0445329</td></tr>\\n<tr><td>PS4 </td><td style=\"text-align: right;\">   0.0436018</td></tr>\\n<tr><td>TS2 </td><td style=\"text-align: right;\">   0.0406459</td></tr>\\n<tr><td>CP  </td><td style=\"text-align: right;\">   0.0277059</td></tr>\\n<tr><td>TS3 </td><td style=\"text-align: right;\">   0.0225384</td></tr>\\n<tr><td>TS1 </td><td style=\"text-align: right;\">   0.0221843</td></tr>\\n<tr><td>EPS1</td><td style=\"text-align: right;\">   0.0169017</td></tr>\\n<tr><td>VS1 </td><td style=\"text-align: right;\">   0.0167754</td></tr>\\n<tr><td>PS3 </td><td style=\"text-align: right;\">   0.0157285</td></tr>\\n<tr><td>TS4 </td><td style=\"text-align: right;\">   0.0156564</td></tr>\\n</tbody>\\n</table>'"
      ]
     },
     "metadata": {},
     "output_type": "display_data"
    }
   ],
   "source": [
    "features4 = list(zip(model4._X_train.columns, \n",
    "         model4.grids[1].best_estimator_.named_steps['xgb'].feature_importances_))\n",
    "features4.sort(reverse=True, key=lambda x : x[1])\n",
    "feat, val = [[f for f, v in features4],\n",
    "             [[v] for f, v in features4]]\n",
    "display(tabulate(val, headers=[\"importance\"], showindex=feat, tablefmt=\"html\"))"
   ]
  },
  {
   "cell_type": "code",
   "execution_count": 66,
   "metadata": {
    "scrolled": true
   },
   "outputs": [
    {
     "data": {
      "image/png": "[encoded data removed]",
      "text/plain": [
       "<Figure size 864x360 with 4 Axes>"
      ]
     },
     "metadata": {
      "needs_background": "light"
     },
     "output_type": "display_data"
    }
   ],
   "source": [
    "fig, ax = plt.subplots(1, 2, figsize=(12, 5))\n",
    "plot_confusion_matrix(model4.grids[1], model4._X_test, model4._y_test, cmap=conf_m_colors, ax=ax[0])\n",
    "plot_confusion_matrix(model4.grids[0], model4._X_test, model4._y_test, cmap=conf_m_colors, ax=ax[1])\n",
    "ax[0].set_title('XGB')\n",
    "ax[1].set_title('KNN')\n",
    "plt.show()"
   ]
  },
  {
   "cell_type": "markdown",
   "metadata": {},
   "source": [
    "### Fifth Model:\n",
    "### Feature, Target Variable: Simple Average, Cooler Condition / %"
   ]
  },
  {
   "cell_type": "markdown",
   "metadata": {},
   "source": [
    "This fifth model will again utilize grid search, the class function previously and the simple average as our feature. With this model, we will evaluate our last target variable, Cooler Condition as the target variable. Cooler Condition, measured as a percentage, includes three classifications – 100 meaning full efficiency, 20 meaning reduced efficiency, and 3 meaning close to failure."
   ]
  },
  {
   "cell_type": "code",
   "execution_count": 36,
   "metadata": {},
   "outputs": [
    {
     "data": {
      "text/plain": [
       "<__main__.RegularModel at 0x7fbf68041040>"
      ]
     },
     "execution_count": 36,
     "metadata": {},
     "output_type": "execute_result"
    }
   ],
   "source": [
    "model5_X = \"./features/cycle_mean.pkl\"\n",
    "model5_y = \"./target_variables/Cooler_Condition.pkl\"\n",
    "model5 = RegularModel(model5_X, model5_y, 'Simple Averages', 'Cooler Condition / %')\n",
    "model5.fit_model()"
   ]
  },
  {
   "cell_type": "markdown",
   "metadata": {},
   "source": [
    "As seen below, it appears our KNN and XGBoost models are reporting perfect scores. This high score is likely being drive by select features that are heavily correlated with our target variable, Cooler Condition."
   ]
  },
  {
   "cell_type": "code",
   "execution_count": 37,
   "metadata": {},
   "outputs": [
    {
     "name": "stdout",
     "output_type": "stream",
     "text": [
      "Feature type: Simple Averages\n",
      "Target Variable: Cooler Condition / %\n",
      " \n",
      " K-Nearest Neighbors Test Accuracy: 1.0\n",
      " K-Nearest Neighbors Best Params: {'knn__metric': 'euclidean', 'knn__n_neighbors': 1, 'knn__weights': 'uniform'}\n",
      " \n",
      " XGBoost Test Accuracy: 1.0\n",
      " XGBoost Best Params: {'xgb__learning_rate': 0.1, 'xgb__max_depth': 1, 'xgb__min_child_weight': 1, 'xgb__n_estimators': 150, 'xgb__subsample': 1.0}\n",
      " \n",
      "\n"
     ]
    }
   ],
   "source": [
    "model5.report()"
   ]
  },
  {
   "cell_type": "markdown",
   "metadata": {},
   "source": [
    "As noted below, there are about eight characteristics/sensors that have relatively higher correlations with the target variable, Cooler Condition, than others."
   ]
  },
  {
   "cell_type": "code",
   "execution_count": 38,
   "metadata": {
    "scrolled": false
   },
   "outputs": [
    {
     "data": {
      "text/html": [
       "<table>\n",
       "<thead>\n",
       "<tr><th>    </th><th style=\"text-align: right;\">  importance</th></tr>\n",
       "</thead>\n",
       "<tbody>\n",
       "<tr><td>CE  </td><td style=\"text-align: right;\"> 0.593746   </td></tr>\n",
       "<tr><td>PS2 </td><td style=\"text-align: right;\"> 0.202248   </td></tr>\n",
       "<tr><td>CP  </td><td style=\"text-align: right;\"> 0.191238   </td></tr>\n",
       "<tr><td>PS4 </td><td style=\"text-align: right;\"> 0.00634088 </td></tr>\n",
       "<tr><td>TS4 </td><td style=\"text-align: right;\"> 0.00593607 </td></tr>\n",
       "<tr><td>SE  </td><td style=\"text-align: right;\"> 0.000439237</td></tr>\n",
       "<tr><td>FS2 </td><td style=\"text-align: right;\"> 2.87687e-05</td></tr>\n",
       "<tr><td>PS3 </td><td style=\"text-align: right;\"> 2.30741e-05</td></tr>\n",
       "<tr><td>EPS1</td><td style=\"text-align: right;\"> 0          </td></tr>\n",
       "<tr><td>FS1 </td><td style=\"text-align: right;\"> 0          </td></tr>\n",
       "<tr><td>PS1 </td><td style=\"text-align: right;\"> 0          </td></tr>\n",
       "<tr><td>PS5 </td><td style=\"text-align: right;\"> 0          </td></tr>\n",
       "<tr><td>PS6 </td><td style=\"text-align: right;\"> 0          </td></tr>\n",
       "<tr><td>TS1 </td><td style=\"text-align: right;\"> 0          </td></tr>\n",
       "<tr><td>TS2 </td><td style=\"text-align: right;\"> 0          </td></tr>\n",
       "<tr><td>TS3 </td><td style=\"text-align: right;\"> 0          </td></tr>\n",
       "<tr><td>VS1 </td><td style=\"text-align: right;\"> 0          </td></tr>\n",
       "</tbody>\n",
       "</table>"
      ],
      "text/plain": [
       "'<table>\\n<thead>\\n<tr><th>    </th><th style=\"text-align: right;\">  importance</th></tr>\\n</thead>\\n<tbody>\\n<tr><td>CE  </td><td style=\"text-align: right;\"> 0.593746   </td></tr>\\n<tr><td>PS2 </td><td style=\"text-align: right;\"> 0.202248   </td></tr>\\n<tr><td>CP  </td><td style=\"text-align: right;\"> 0.191238   </td></tr>\\n<tr><td>PS4 </td><td style=\"text-align: right;\"> 0.00634088 </td></tr>\\n<tr><td>TS4 </td><td style=\"text-align: right;\"> 0.00593607 </td></tr>\\n<tr><td>SE  </td><td style=\"text-align: right;\"> 0.000439237</td></tr>\\n<tr><td>FS2 </td><td style=\"text-align: right;\"> 2.87687e-05</td></tr>\\n<tr><td>PS3 </td><td style=\"text-align: right;\"> 2.30741e-05</td></tr>\\n<tr><td>EPS1</td><td style=\"text-align: right;\"> 0          </td></tr>\\n<tr><td>FS1 </td><td style=\"text-align: right;\"> 0          </td></tr>\\n<tr><td>PS1 </td><td style=\"text-align: right;\"> 0          </td></tr>\\n<tr><td>PS5 </td><td style=\"text-align: right;\"> 0          </td></tr>\\n<tr><td>PS6 </td><td style=\"text-align: right;\"> 0          </td></tr>\\n<tr><td>TS1 </td><td style=\"text-align: right;\"> 0          </td></tr>\\n<tr><td>TS2 </td><td style=\"text-align: right;\"> 0          </td></tr>\\n<tr><td>TS3 </td><td style=\"text-align: right;\"> 0          </td></tr>\\n<tr><td>VS1 </td><td style=\"text-align: right;\"> 0          </td></tr>\\n</tbody>\\n</table>'"
      ]
     },
     "metadata": {},
     "output_type": "display_data"
    }
   ],
   "source": [
    "features5 = list(zip(model5._X_train.columns, \n",
    "         model5.grids[1].best_estimator_.named_steps['xgb'].feature_importances_))\n",
    "features5.sort(reverse=True, key=lambda x : x[1])\n",
    "feat, val = [[f for f, v in features5],\n",
    "             [[v] for f, v in features5]]\n",
    "display(tabulate(val, headers=[\"importance\"], showindex=feat, tablefmt=\"html\"))"
   ]
  },
  {
   "cell_type": "markdown",
   "metadata": {},
   "source": [
    "### Sixth Model: Second Iteration of the Fifth Model"
   ]
  },
  {
   "cell_type": "markdown",
   "metadata": {},
   "source": [
    "The sixth and final model for the simple mean feature, will essentially be the fifth model but with the removal of the eight characteristics outlined above."
   ]
  },
  {
   "cell_type": "code",
   "execution_count": 39,
   "metadata": {},
   "outputs": [],
   "source": [
    "model6_df = pd.read_pickle(model5_X)"
   ]
  },
  {
   "cell_type": "code",
   "execution_count": 40,
   "metadata": {},
   "outputs": [],
   "source": [
    "model6_df = model6_df.drop(['CE', 'FS2', 'PS5', 'PS6', 'CP', 'TS1', 'TS4', 'TS2'], axis = 1)\n",
    "model6_df.to_pickle('./features/model6_dropped_columns.pkl')"
   ]
  },
  {
   "cell_type": "markdown",
   "metadata": {},
   "source": [
    "```python\n",
    "model6_X = './features/model6_dropped_columns.pkl'\n",
    "model6_y = './target_variables/Cooler_Condition.pkl'\n",
    "model6 = RegularModel(model6_X, model6_y, 'Simple Averages', 'Cooler Condition / %')\n",
    "model6.fit_model()\n",
    "```"
   ]
  },
  {
   "cell_type": "code",
   "execution_count": 41,
   "metadata": {
    "scrolled": true
   },
   "outputs": [],
   "source": [
    "model6 = load(\"./models/model_6.joblib\")"
   ]
  },
  {
   "cell_type": "code",
   "execution_count": 42,
   "metadata": {
    "scrolled": false
   },
   "outputs": [
    {
     "data": {
      "image/png": "[encoded data removed]",
      "text/plain": [
       "<Figure size 864x360 with 4 Axes>"
      ]
     },
     "metadata": {
      "needs_background": "light"
     },
     "output_type": "display_data"
    }
   ],
   "source": [
    "fig, ax = plt.subplots(1, 2, figsize=(12, 5))\n",
    "plot_confusion_matrix(model6.grids[1], model6._X_test, model6._y_test, cmap=conf_m_colors, ax=ax[0])\n",
    "plot_confusion_matrix(model6.grids[0], model6._X_test, model6._y_test, cmap=conf_m_colors, ax=ax[1])\n",
    "plt.show()"
   ]
  },
  {
   "cell_type": "code",
   "execution_count": 43,
   "metadata": {
    "scrolled": true
   },
   "outputs": [
    {
     "data": {
      "text/html": [
       "<table>\n",
       "<thead>\n",
       "<tr><th>    </th><th style=\"text-align: right;\">  importance</th></tr>\n",
       "</thead>\n",
       "<tbody>\n",
       "<tr><td>PS3 </td><td style=\"text-align: right;\"> 0.352387   </td></tr>\n",
       "<tr><td>EPS1</td><td style=\"text-align: right;\"> 0.231314   </td></tr>\n",
       "<tr><td>TS3 </td><td style=\"text-align: right;\"> 0.215159   </td></tr>\n",
       "<tr><td>PS2 </td><td style=\"text-align: right;\"> 0.115249   </td></tr>\n",
       "<tr><td>VS1 </td><td style=\"text-align: right;\"> 0.0456344  </td></tr>\n",
       "<tr><td>PS4 </td><td style=\"text-align: right;\"> 0.0282399  </td></tr>\n",
       "<tr><td>SE  </td><td style=\"text-align: right;\"> 0.00932862 </td></tr>\n",
       "<tr><td>FS1 </td><td style=\"text-align: right;\"> 0.00180954 </td></tr>\n",
       "<tr><td>PS1 </td><td style=\"text-align: right;\"> 0.000878686</td></tr>\n",
       "</tbody>\n",
       "</table>"
      ],
      "text/plain": [
       "'<table>\\n<thead>\\n<tr><th>    </th><th style=\"text-align: right;\">  importance</th></tr>\\n</thead>\\n<tbody>\\n<tr><td>PS3 </td><td style=\"text-align: right;\"> 0.352387   </td></tr>\\n<tr><td>EPS1</td><td style=\"text-align: right;\"> 0.231314   </td></tr>\\n<tr><td>TS3 </td><td style=\"text-align: right;\"> 0.215159   </td></tr>\\n<tr><td>PS2 </td><td style=\"text-align: right;\"> 0.115249   </td></tr>\\n<tr><td>VS1 </td><td style=\"text-align: right;\"> 0.0456344  </td></tr>\\n<tr><td>PS4 </td><td style=\"text-align: right;\"> 0.0282399  </td></tr>\\n<tr><td>SE  </td><td style=\"text-align: right;\"> 0.00932862 </td></tr>\\n<tr><td>FS1 </td><td style=\"text-align: right;\"> 0.00180954 </td></tr>\\n<tr><td>PS1 </td><td style=\"text-align: right;\"> 0.000878686</td></tr>\\n</tbody>\\n</table>'"
      ]
     },
     "metadata": {},
     "output_type": "display_data"
    }
   ],
   "source": [
    "features6 = list(zip(model6._X_train.columns, \n",
    "         model6.grids[1].best_estimator_.named_steps['xgb'].feature_importances_))\n",
    "features6.sort(reverse=True, key=lambda x : x[1])\n",
    "feat, val = [[f for f, v in features6],\n",
    "             [[v] for f, v in features6]]\n",
    "display(tabulate(val, headers=[\"importance\"], showindex=feat, tablefmt=\"html\"))"
   ]
  },
  {
   "cell_type": "code",
   "execution_count": 44,
   "metadata": {},
   "outputs": [
    {
     "data": {
      "text/html": [
       "<table>\n",
       "<thead>\n",
       "<tr><th>                   </th><th style=\"text-align: right;\">  Model 6</th></tr>\n",
       "</thead>\n",
       "<tbody>\n",
       "<tr><td>Accuracy Score:    </td><td style=\"text-align: right;\"> 0.996979</td></tr>\n",
       "<tr><td>ROC-AUC Score:     </td><td style=\"text-align: right;\"> 1       </td></tr>\n",
       "<tr><td>F-1 Weighted Score:</td><td style=\"text-align: right;\"> 0.996981</td></tr>\n",
       "</tbody>\n",
       "</table>"
      ],
      "text/plain": [
       "'<table>\\n<thead>\\n<tr><th>                   </th><th style=\"text-align: right;\">  Model 6</th></tr>\\n</thead>\\n<tbody>\\n<tr><td>Accuracy Score:    </td><td style=\"text-align: right;\"> 0.996979</td></tr>\\n<tr><td>ROC-AUC Score:     </td><td style=\"text-align: right;\"> 1       </td></tr>\\n<tr><td>F-1 Weighted Score:</td><td style=\"text-align: right;\"> 0.996981</td></tr>\\n</tbody>\\n</table>'"
      ]
     },
     "metadata": {},
     "output_type": "display_data"
    }
   ],
   "source": [
    "metric = get_metrics(\"Model_6\", 1, \"./models/model_6.joblib\")\n",
    "headers = []\n",
    "value = []\n",
    "for header, val in metric:\n",
    "    headers.append(header)\n",
    "    value.append([val])\n",
    "display(tabulate(value, headers=[\"Model 6\"], showindex=headers, tablefmt='html'))"
   ]
  },
  {
   "cell_type": "markdown",
   "metadata": {},
   "source": [
    "## Modeling Other Features"
   ]
  },
  {
   "cell_type": "markdown",
   "metadata": {},
   "source": [
    "### Looping\n",
    "Below we are using the previous work we did to loop through the feature sets and target variables. We first fit a model for each combination of features and targets, and then return the test results for each allowing us to compare them and select the best models."
   ]
  },
  {
   "cell_type": "code",
   "execution_count": 45,
   "metadata": {},
   "outputs": [],
   "source": [
    "# creating a list of the feature and target sets saved to pickle files\n",
    "features = [] \n",
    "for itm in iglob('./features/*.pkl'):\n",
    "    filename = os.path.basename(itm)[:-4]\n",
    "    if filename in [\"cond_encoding\", \"sensor_info\"]:\n",
    "        continue\n",
    "    features.append((filename, itm)) \n",
    "target_vars = [] \n",
    "for f_path in iglob(\"./target_variables/*.pkl\"):\n",
    "    filename = os.path.basename(f_path)[:-4]\n",
    "    target_vars.append((filename, f_path))"
   ]
  },
  {
   "cell_type": "markdown",
   "metadata": {},
   "source": [
    "**Above** I am making a list of both the **feature** and the **target** variable files containing their respective data.\n",
    "\n",
    "**Below** we create a list of arguments to be passed to the `pool_func` operation."
   ]
  },
  {
   "cell_type": "code",
   "execution_count": 46,
   "metadata": {},
   "outputs": [],
   "source": [
    "# creating a list of arguments to pass to the model fit loop\n",
    "args_list = []\n",
    "for name, path in target_vars:\n",
    "    for feature, pkl in features:\n",
    "        args_list.append((pkl, path, feature, name))"
   ]
  },
  {
   "cell_type": "markdown",
   "metadata": {},
   "source": [
    "### Pool Function\n",
    "**The below function** uses the `args_list` to loop through our feature and target variable sets and fit a model to each one. It then saves the models to binary pickle files so we can access them later without refitting.\n",
    "\n",
    "**Lastly** our function outputs the test results for each models as a text file corresponding to the pickled model's name and then returns the time it took to fit and run the model."
   ]
  },
  {
   "cell_type": "code",
   "execution_count": 47,
   "metadata": {},
   "outputs": [],
   "source": [
    "def pool_func(args):\n",
    "    start_t = perf_counter()\n",
    "    _, _, feature, target = args\n",
    "    model_inst = RegularModel(*args)\n",
    "    model_inst.fit_model()\n",
    "    dump(model_inst, f\"./models/{target}_{feature}.pkl\")\n",
    "    log_loc = f\"./models/{target}_{feature}.txt\"\n",
    "    model_inst.report(\"file\", where=log_loc)\n",
    "        \n",
    "    end_t = perf_counter()\n",
    "    return (f\"Target variable {target} with feature set {feature}\", end_t - start_t)"
   ]
  },
  {
   "cell_type": "markdown",
   "metadata": {
    "scrolled": true
   },
   "source": [
    "```python\n",
    "for args in args_list:\n",
    "     msg, duration = pool_func(args)\n",
    "     print(f\"{msg} took {duration} to compute.\")\n",
    "```"
   ]
  },
  {
   "cell_type": "markdown",
   "metadata": {},
   "source": [
    "### Results!\n",
    "**Above** is the loop for our pool function. It is in a markdown code block to prevent it from being run on accident. It takes 20 - 30 minutes to complete and we do not want to save over any of our pickle files unless we decide to explicitly.\n",
    "\n",
    "**Below** is a print out of our results. From this process we were able to identify the best model/feature/target variable pairings and focus on those for our **final iteration**."
   ]
  },
  {
   "cell_type": "markdown",
   "metadata": {},
   "source": [
    "| Target     | Feature                   |   KNN Accuracry |   XGBoost Accuracy |\n",
    "|   :---:    |          :---:            |      :---:      |        :---:       |\n",
    "| avg_3rds   | Cooler_Condition          |        1        |           1        |\n",
    "| avg_change | Cooler_Condition          |        0.924471 |           0.987915 |\n",
    "| cycle_mean | Cooler_Condition          |        1        |           1        |\n",
    "| dx_3rds    | Cooler_Condition          |        0.927492 |           0.996979 |\n",
    "| std_3rds   | Cooler_Condition          |        0.996979 |           0.990937 |\n",
    "| std_dev    | Cooler_Condition          |        0.990937 |           0.990937 |\n",
    "| avg_3rds   | Hydraulic_accumulator_bar |        0.963746 |           0.987915 |\n",
    "| avg_change | Hydraulic_accumulator_bar |        0.818731 |           0.963746 |\n",
    "| cycle_mean | Hydraulic_accumulator_bar |        0.963746 |           0.969789 |\n",
    "| dx_3rds    | Hydraulic_accumulator_bar |        0.670695 |           0.942598 |\n",
    "| std_3rds   | Hydraulic_accumulator_bar |        0.930514 |           0.975831 |\n",
    "| std_dev    | Hydraulic_accumulator_bar |        0.8429   |           0.915408 |\n",
    "| avg_3rds   | Internal_pump_leakage     |        0.990937 |           0.996979 |\n",
    "| avg_change | Internal_pump_leakage     |        0.697885 |           0.854985 |\n",
    "| cycle_mean | Internal_pump_leakage     |        0.990937 |           0.987915 |\n",
    "| dx_3rds    | Internal_pump_leakage     |        0.646526 |           0.794562 |\n",
    "| std_3rds   | Internal_pump_leakage     |        0.92145  |           0.969789 |\n",
    "| std_dev    | Internal_pump_leakage     |        0.963746 |           0.984894 |\n",
    "| avg_3rds   | stable_flag               |        0.966767 |           0.963746 |\n",
    "| avg_change | stable_flag               |        0.827795 |           0.942598 |\n",
    "| cycle_mean | stable_flag               |        0.963746 |           0.966767 |\n",
    "| dx_3rds    | stable_flag               |        0.800604 |           0.912387 |\n",
    "| std_3rds   | stable_flag               |        0.957704 |           0.969789 |\n",
    "| std_dev    | stable_flag               |        0.954683 |           0.969789 |\n",
    "| avg_3rds   | Valve_Condition           |        0.984894 |           0.987915 |\n",
    "| avg_change | Valve_Condition           |        0.465257 |           0.504532 |\n",
    "| cycle_mean | Valve_Condition           |        0.918429 |           0.97281  |\n",
    "| dx_3rds    | Valve_Condition           |        0.44713  |           0.483384 |\n",
    "| std_3rds   | Valve_Condition           |        0.694864 |           0.933535 |\n",
    "| std_dev    | Valve_Condition           |        0.752266 |           0.960725 |"
   ]
  },
  {
   "cell_type": "markdown",
   "metadata": {},
   "source": [
    "## Evaluation\n",
    "\n",
    "The evaluation of each model should accompany the creation of each model, and you should be sure to evaluate your models consistently.\n",
    "\n",
    "Evaluate how well your work solves the stated business problem. \n",
    "\n",
    "Questions to consider:\n",
    "\n",
    "- How do you interpret the results?\n",
    "- How well does your model fit your data? How much better is this than your baseline model? Is it over or under fit?\n",
    "- How well does your model/data fit any relevant modeling assumptions?\n",
    "\n",
    "For the final model, you might also consider:\n",
    "\n",
    "- How confident are you that your results would generalize beyond the data you have?\n",
    "- How confident are you that this model would benefit the business if put into use?\n",
    "- What does this final model tell you about the relationship between your inputs and outputs?"
   ]
  },
  {
   "cell_type": "code",
   "execution_count": 48,
   "metadata": {},
   "outputs": [],
   "source": [
    "name, avg = get_feature_avg(\"./features/sensor_info.pkl\", \"./models/*.pkl\", top=5)"
   ]
  },
  {
   "cell_type": "code",
   "execution_count": 49,
   "metadata": {},
   "outputs": [],
   "source": [
    "period = name\n",
    "x = list(zip(period, avg))\n",
    "x.sort(reverse=True, key=lambda x : x[1])\n",
    "zero, one, two, three = [[(zero, avg) for zero, avg in x if len(zero[0]) < 2],\n",
    "                         [(one, avg) for one, avg in x if one[1] == '1'],\n",
    "                         [(two, avg) for two, avg in x if two[1] == '2'],\n",
    "                         [(three, avg) for three, avg in x if three[1] == '3']]"
   ]
  },
  {
   "cell_type": "code",
   "execution_count": 50,
   "metadata": {},
   "outputs": [],
   "source": [
    "zero_x, zero_y = [[name for name, avg in zero],\n",
    "                  [avg for name, avg in zero]]\n",
    "one_x, one_y = [[name[0] for name, avg in one],\n",
    "                  [avg for name, avg in one]]\n",
    "two_x, two_y = [[name[0] for name, avg in two],\n",
    "                  [avg for name, avg in two]]\n",
    "three_x, three_y = [[name[0] for name, avg in three],\n",
    "                  [avg for name, avg in three]]"
   ]
  },
  {
   "cell_type": "code",
   "execution_count": 51,
   "metadata": {
    "scrolled": false
   },
   "outputs": [
    {
     "data": {
      "image/png": "[encoded data removed]",
      "text/plain": [
       "<Figure size 864x720 with 4 Axes>"
      ]
     },
     "metadata": {
      "needs_background": "light"
     },
     "output_type": "display_data"
    }
   ],
   "source": [
    "fig, ax = plt.subplots(2, 2, figsize=(12, 10), tight_layout='tight')\n",
    "fig.suptitle(\"Feature Effect Averages\", fontsize=16)\n",
    "ax[0,0].set_title(\"Full Test Cycle\")\n",
    "ax[0,1].set_title(\"First 20 Seconds\")\n",
    "ax[1,0].set_title(\"Middle 20 Seconds\")\n",
    "ax[1,1].set_title(\"Last 20 Seconds\")\n",
    "sns.barplot(x=zero_x, y=zero_y, palette=color_dict, ax=ax[0,0])\n",
    "sns.barplot(x=one_x, y=one_y,  palette=color_dict, ax=ax[0,1])\n",
    "sns.barplot(x=two_x, y=two_y, palette=color_dict, ax=ax[1,0])\n",
    "sns.barplot(x=three_x, y=three_y, palette=color_dict, ax=ax[1,1])\n",
    "plt.show()"
   ]
  },
  {
   "cell_type": "markdown",
   "metadata": {},
   "source": [
    "### Final Results\n",
    "\n",
    "**Below** we have the metrics from our final models.\n",
    "\n",
    "#### XGBoost\n",
    "We decided to go with the **XGBoost** model for our final iteration and Average of cycle thirds as the feature set for each target variable *except* Cooler Condition. For Cooler Condition we decided to use the Standard Deviation for Cycle 3rds as the feature. This was due to its consistently high score along all our metric axes."
   ]
  },
  {
   "cell_type": "code",
   "execution_count": 52,
   "metadata": {
    "scrolled": false
   },
   "outputs": [
    {
     "data": {
      "text/html": [
       "<table>\n",
       "<thead>\n",
       "<tr><th>                                  </th><th style=\"text-align: right;\">  Accuracy Score: </th><th style=\"text-align: right;\">  ROC-AUC Score: </th><th style=\"text-align: right;\">  F-1 Weighted Score: </th></tr>\n",
       "</thead>\n",
       "<tbody>\n",
       "<tr><td>Cooler_Condition_std_3rds         </td><td style=\"text-align: right;\">          0.990937</td><td style=\"text-align: right;\">         0.999956</td><td style=\"text-align: right;\">              0.990955</td></tr>\n",
       "<tr><td>Hydraulic_accumulator_bar_avg_3rds</td><td style=\"text-align: right;\">          0.987915</td><td style=\"text-align: right;\">         0.999648</td><td style=\"text-align: right;\">              0.987899</td></tr>\n",
       "<tr><td>Internal_pump_leakage_avg_3rds    </td><td style=\"text-align: right;\">          0.996979</td><td style=\"text-align: right;\">         1       </td><td style=\"text-align: right;\">              0.996979</td></tr>\n",
       "<tr><td>stable_flag_avg_3rds              </td><td style=\"text-align: right;\">          0.996979</td><td style=\"text-align: right;\">         1       </td><td style=\"text-align: right;\">              0.996979</td></tr>\n",
       "<tr><td>Valve_Condition_avg_3rds          </td><td style=\"text-align: right;\">          0.987915</td><td style=\"text-align: right;\">         0.999692</td><td style=\"text-align: right;\">              0.987896</td></tr>\n",
       "</tbody>\n",
       "</table>"
      ],
      "text/plain": [
       "'<table>\\n<thead>\\n<tr><th>                                  </th><th style=\"text-align: right;\">  Accuracy Score: </th><th style=\"text-align: right;\">  ROC-AUC Score: </th><th style=\"text-align: right;\">  F-1 Weighted Score: </th></tr>\\n</thead>\\n<tbody>\\n<tr><td>Cooler_Condition_std_3rds         </td><td style=\"text-align: right;\">          0.990937</td><td style=\"text-align: right;\">         0.999956</td><td style=\"text-align: right;\">              0.990955</td></tr>\\n<tr><td>Hydraulic_accumulator_bar_avg_3rds</td><td style=\"text-align: right;\">          0.987915</td><td style=\"text-align: right;\">         0.999648</td><td style=\"text-align: right;\">              0.987899</td></tr>\\n<tr><td>Internal_pump_leakage_avg_3rds    </td><td style=\"text-align: right;\">          0.996979</td><td style=\"text-align: right;\">         1       </td><td style=\"text-align: right;\">              0.996979</td></tr>\\n<tr><td>stable_flag_avg_3rds              </td><td style=\"text-align: right;\">          0.996979</td><td style=\"text-align: right;\">         1       </td><td style=\"text-align: right;\">              0.996979</td></tr>\\n<tr><td>Valve_Condition_avg_3rds          </td><td style=\"text-align: right;\">          0.987915</td><td style=\"text-align: right;\">         0.999692</td><td style=\"text-align: right;\">              0.987896</td></tr>\\n</tbody>\\n</table>'"
      ]
     },
     "metadata": {},
     "output_type": "display_data"
    }
   ],
   "source": [
    "# code here to evaluate your final model\n",
    "\n",
    "count = 0\n",
    "final_metrics = []\n",
    "header = []\n",
    "value = []\n",
    "for index in range(len(FINAL_PAIRS)):\n",
    "    try:\n",
    "        metrics = get_metrics(FINAL_PAIRS[index], 1, f\"./models/{FINAL_PAIRS[index]}.pkl\")\n",
    "    except ValueError:\n",
    "        pass\n",
    "    value_row = []\n",
    "    for text, val in metrics:\n",
    "        if not count:\n",
    "            header.append(text)\n",
    "        value_row.append(val)\n",
    "    count += 1\n",
    "    value.append(value_row)\n",
    "display(tabulate([header, *value], headers='firstrow', showindex=FINAL_PAIRS, tablefmt=\"html\"))"
   ]
  },
  {
   "cell_type": "markdown",
   "metadata": {},
   "source": [
    "## Conclusions\n",
    "\n",
    "Provide your conclusions about the work you've done, including any limitations or next steps.\n",
    "\n",
    "Questions to consider:\n",
    "\n",
    "- What would you recommend the business do as a result of this work?\n",
    "- How could the stakeholder use your model effectively?\n",
    "- What are some reasons why your analysis might not fully solve the business problem?\n",
    "- What else could you do in the future to improve this project (future work)?\n"
   ]
  }
 ],
 "metadata": {
  "kernelspec": {
   "display_name": "Python (learn-env)",
   "language": "python",
   "name": "learn-env"
  },
  "language_info": {
   "codemirror_mode": {
    "name": "ipython",
    "version": 3
   },
   "file_extension": ".py",
   "mimetype": "text/x-python",
   "name": "python",
   "nbconvert_exporter": "python",
   "pygments_lexer": "ipython3",
   "version": "3.8.5"
  },
  "latex_envs": {
   "LaTeX_envs_menu_present": true,
   "autoclose": false,
   "autocomplete": true,
   "bibliofile": "biblio.bib",
   "cite_by": "apalike",
   "current_citInitial": 1,
   "eqLabelWithNumbers": true,
   "eqNumInitial": 1,
   "hotkeys": {
    "equation": "Ctrl-E",
    "itemize": "Ctrl-I"
   },
   "labels_anchors": false,
   "latex_user_defs": false,
   "report_style_numbering": false,
   "user_envs_cfg": false
  },
  "varInspector": {
   "cols": {
    "lenName": 16,
    "lenType": 16,
    "lenVar": 40
   },
   "kernels_config": {
    "python": {
     "delete_cmd_postfix": "",
     "delete_cmd_prefix": "del ",
     "library": "var_list.py",
     "varRefreshCmd": "print(var_dic_list())"
    },
    "r": {
     "delete_cmd_postfix": ") ",
     "delete_cmd_prefix": "rm(",
     "library": "var_list.r",
     "varRefreshCmd": "cat(var_dic_list()) "
    }
   },
   "types_to_exclude": [
    "module",
    "function",
    "builtin_function_or_method",
    "instance",
    "_Feature"
   ],
   "window_display": false
  }
 },
 "nbformat": 4,
 "nbformat_minor": 4
}
