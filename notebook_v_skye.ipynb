{
 "cells": [
  {
   "cell_type": "markdown",
   "metadata": {},
   "source": [
    "# The Beginning\n",
    "These first few rows are my very first attempts at EDA on this data. It took a little while for me\n",
    "to wrap my head around how to structure and use it all."
   ]
  },
  {
   "cell_type": "code",
   "execution_count": 1,
   "metadata": {},
   "outputs": [],
   "source": [
    "import numpy as np\n",
    "import pandas as pd\n",
    "from pandas.errors import ParserError\n",
    "import matplotlib.pyplot as plt\n",
    "import seaborn as sns\n",
    "import os\n",
    "import glob"
   ]
  },
  {
   "cell_type": "code",
   "execution_count": 2,
   "metadata": {},
   "outputs": [
    {
     "data": {
      "text/html": [
       "<div>\n",
       "<style scoped>\n",
       "    .dataframe tbody tr th:only-of-type {\n",
       "        vertical-align: middle;\n",
       "    }\n",
       "\n",
       "    .dataframe tbody tr th {\n",
       "        vertical-align: top;\n",
       "    }\n",
       "\n",
       "    .dataframe thead th {\n",
       "        text-align: right;\n",
       "    }\n",
       "</style>\n",
       "<table border=\"1\" class=\"dataframe\">\n",
       "  <thead>\n",
       "    <tr style=\"text-align: right;\">\n",
       "      <th></th>\n",
       "      <th>47.202</th>\n",
       "      <th>47.273</th>\n",
       "      <th>47.25</th>\n",
       "      <th>47.332</th>\n",
       "      <th>47.213</th>\n",
       "      <th>47.372</th>\n",
       "      <th>47.273.1</th>\n",
       "      <th>47.438</th>\n",
       "      <th>46.691</th>\n",
       "      <th>46.599</th>\n",
       "      <th>...</th>\n",
       "      <th>31.554</th>\n",
       "      <th>30.953</th>\n",
       "      <th>30.639</th>\n",
       "      <th>30.561</th>\n",
       "      <th>30.368</th>\n",
       "      <th>30.224</th>\n",
       "      <th>29.79</th>\n",
       "      <th>29.261</th>\n",
       "      <th>29.287</th>\n",
       "      <th>28.866</th>\n",
       "    </tr>\n",
       "  </thead>\n",
       "  <tbody>\n",
       "    <tr>\n",
       "      <th>count</th>\n",
       "      <td>2204.000000</td>\n",
       "      <td>2204.000000</td>\n",
       "      <td>2204.000000</td>\n",
       "      <td>2204.000000</td>\n",
       "      <td>2204.000000</td>\n",
       "      <td>2204.000000</td>\n",
       "      <td>2204.000000</td>\n",
       "      <td>2204.000000</td>\n",
       "      <td>2204.000000</td>\n",
       "      <td>2204.000000</td>\n",
       "      <td>...</td>\n",
       "      <td>2204.000000</td>\n",
       "      <td>2204.000000</td>\n",
       "      <td>2204.000000</td>\n",
       "      <td>2204.000000</td>\n",
       "      <td>2204.000000</td>\n",
       "      <td>2204.00000</td>\n",
       "      <td>2204.000000</td>\n",
       "      <td>2204.000000</td>\n",
       "      <td>2204.000000</td>\n",
       "      <td>2204.000000</td>\n",
       "    </tr>\n",
       "    <tr>\n",
       "      <th>mean</th>\n",
       "      <td>31.318409</td>\n",
       "      <td>31.357388</td>\n",
       "      <td>31.388574</td>\n",
       "      <td>31.395224</td>\n",
       "      <td>31.388196</td>\n",
       "      <td>31.363756</td>\n",
       "      <td>31.344041</td>\n",
       "      <td>31.331760</td>\n",
       "      <td>31.300873</td>\n",
       "      <td>31.231591</td>\n",
       "      <td>...</td>\n",
       "      <td>31.087688</td>\n",
       "      <td>31.120404</td>\n",
       "      <td>31.142920</td>\n",
       "      <td>31.156252</td>\n",
       "      <td>31.152385</td>\n",
       "      <td>31.13504</td>\n",
       "      <td>31.126395</td>\n",
       "      <td>31.126058</td>\n",
       "      <td>31.146084</td>\n",
       "      <td>31.281630</td>\n",
       "    </tr>\n",
       "    <tr>\n",
       "      <th>std</th>\n",
       "      <td>11.529829</td>\n",
       "      <td>11.510140</td>\n",
       "      <td>11.501724</td>\n",
       "      <td>11.501755</td>\n",
       "      <td>11.518748</td>\n",
       "      <td>11.536731</td>\n",
       "      <td>11.564274</td>\n",
       "      <td>11.576712</td>\n",
       "      <td>11.569682</td>\n",
       "      <td>11.536470</td>\n",
       "      <td>...</td>\n",
       "      <td>11.517271</td>\n",
       "      <td>11.495249</td>\n",
       "      <td>11.480866</td>\n",
       "      <td>11.477837</td>\n",
       "      <td>11.486341</td>\n",
       "      <td>11.50636</td>\n",
       "      <td>11.527596</td>\n",
       "      <td>11.535691</td>\n",
       "      <td>11.535977</td>\n",
       "      <td>11.549611</td>\n",
       "    </tr>\n",
       "    <tr>\n",
       "      <th>min</th>\n",
       "      <td>17.356000</td>\n",
       "      <td>17.552000</td>\n",
       "      <td>17.440000</td>\n",
       "      <td>17.416000</td>\n",
       "      <td>17.392000</td>\n",
       "      <td>17.404000</td>\n",
       "      <td>17.456000</td>\n",
       "      <td>17.396000</td>\n",
       "      <td>17.506000</td>\n",
       "      <td>17.364000</td>\n",
       "      <td>...</td>\n",
       "      <td>17.293000</td>\n",
       "      <td>17.283000</td>\n",
       "      <td>17.188000</td>\n",
       "      <td>17.271000</td>\n",
       "      <td>17.314000</td>\n",
       "      <td>17.20100</td>\n",
       "      <td>17.283000</td>\n",
       "      <td>17.201000</td>\n",
       "      <td>17.324000</td>\n",
       "      <td>17.332000</td>\n",
       "    </tr>\n",
       "    <tr>\n",
       "      <th>25%</th>\n",
       "      <td>20.163250</td>\n",
       "      <td>20.259250</td>\n",
       "      <td>20.331250</td>\n",
       "      <td>20.385250</td>\n",
       "      <td>20.366000</td>\n",
       "      <td>20.328000</td>\n",
       "      <td>20.239750</td>\n",
       "      <td>20.148250</td>\n",
       "      <td>20.112500</td>\n",
       "      <td>20.070250</td>\n",
       "      <td>...</td>\n",
       "      <td>19.943250</td>\n",
       "      <td>20.014500</td>\n",
       "      <td>20.078750</td>\n",
       "      <td>20.143000</td>\n",
       "      <td>20.150000</td>\n",
       "      <td>20.12700</td>\n",
       "      <td>20.067250</td>\n",
       "      <td>20.013250</td>\n",
       "      <td>19.990750</td>\n",
       "      <td>20.115000</td>\n",
       "    </tr>\n",
       "    <tr>\n",
       "      <th>50%</th>\n",
       "      <td>27.333500</td>\n",
       "      <td>27.396500</td>\n",
       "      <td>27.442000</td>\n",
       "      <td>27.453000</td>\n",
       "      <td>27.423500</td>\n",
       "      <td>27.383000</td>\n",
       "      <td>27.354000</td>\n",
       "      <td>27.350000</td>\n",
       "      <td>27.351000</td>\n",
       "      <td>27.311000</td>\n",
       "      <td>...</td>\n",
       "      <td>27.059500</td>\n",
       "      <td>27.099500</td>\n",
       "      <td>27.115000</td>\n",
       "      <td>27.122500</td>\n",
       "      <td>27.115000</td>\n",
       "      <td>27.08700</td>\n",
       "      <td>27.067000</td>\n",
       "      <td>27.072500</td>\n",
       "      <td>27.104000</td>\n",
       "      <td>27.250000</td>\n",
       "    </tr>\n",
       "    <tr>\n",
       "      <th>75%</th>\n",
       "      <td>46.650250</td>\n",
       "      <td>46.672750</td>\n",
       "      <td>46.687000</td>\n",
       "      <td>46.686000</td>\n",
       "      <td>46.693000</td>\n",
       "      <td>46.686000</td>\n",
       "      <td>46.709500</td>\n",
       "      <td>46.698000</td>\n",
       "      <td>46.676500</td>\n",
       "      <td>46.544000</td>\n",
       "      <td>...</td>\n",
       "      <td>46.415750</td>\n",
       "      <td>46.397750</td>\n",
       "      <td>46.420250</td>\n",
       "      <td>46.424500</td>\n",
       "      <td>46.448000</td>\n",
       "      <td>46.45425</td>\n",
       "      <td>46.462000</td>\n",
       "      <td>46.467500</td>\n",
       "      <td>46.485000</td>\n",
       "      <td>46.625250</td>\n",
       "    </tr>\n",
       "    <tr>\n",
       "      <th>max</th>\n",
       "      <td>48.136000</td>\n",
       "      <td>48.057000</td>\n",
       "      <td>48.124000</td>\n",
       "      <td>48.112000</td>\n",
       "      <td>48.159000</td>\n",
       "      <td>48.253000</td>\n",
       "      <td>48.158000</td>\n",
       "      <td>48.219000</td>\n",
       "      <td>48.146000</td>\n",
       "      <td>48.040000</td>\n",
       "      <td>...</td>\n",
       "      <td>47.923000</td>\n",
       "      <td>48.042000</td>\n",
       "      <td>47.947000</td>\n",
       "      <td>47.876000</td>\n",
       "      <td>47.946000</td>\n",
       "      <td>48.03000</td>\n",
       "      <td>47.994000</td>\n",
       "      <td>48.005000</td>\n",
       "      <td>47.964000</td>\n",
       "      <td>48.266000</td>\n",
       "    </tr>\n",
       "  </tbody>\n",
       "</table>\n",
       "<p>8 rows × 60 columns</p>\n",
       "</div>"
      ],
      "text/plain": [
       "            47.202       47.273        47.25       47.332       47.213  \\\n",
       "count  2204.000000  2204.000000  2204.000000  2204.000000  2204.000000   \n",
       "mean     31.318409    31.357388    31.388574    31.395224    31.388196   \n",
       "std      11.529829    11.510140    11.501724    11.501755    11.518748   \n",
       "min      17.356000    17.552000    17.440000    17.416000    17.392000   \n",
       "25%      20.163250    20.259250    20.331250    20.385250    20.366000   \n",
       "50%      27.333500    27.396500    27.442000    27.453000    27.423500   \n",
       "75%      46.650250    46.672750    46.687000    46.686000    46.693000   \n",
       "max      48.136000    48.057000    48.124000    48.112000    48.159000   \n",
       "\n",
       "            47.372     47.273.1       47.438       46.691       46.599  ...  \\\n",
       "count  2204.000000  2204.000000  2204.000000  2204.000000  2204.000000  ...   \n",
       "mean     31.363756    31.344041    31.331760    31.300873    31.231591  ...   \n",
       "std      11.536731    11.564274    11.576712    11.569682    11.536470  ...   \n",
       "min      17.404000    17.456000    17.396000    17.506000    17.364000  ...   \n",
       "25%      20.328000    20.239750    20.148250    20.112500    20.070250  ...   \n",
       "50%      27.383000    27.354000    27.350000    27.351000    27.311000  ...   \n",
       "75%      46.686000    46.709500    46.698000    46.676500    46.544000  ...   \n",
       "max      48.253000    48.158000    48.219000    48.146000    48.040000  ...   \n",
       "\n",
       "            31.554       30.953       30.639       30.561       30.368  \\\n",
       "count  2204.000000  2204.000000  2204.000000  2204.000000  2204.000000   \n",
       "mean     31.087688    31.120404    31.142920    31.156252    31.152385   \n",
       "std      11.517271    11.495249    11.480866    11.477837    11.486341   \n",
       "min      17.293000    17.283000    17.188000    17.271000    17.314000   \n",
       "25%      19.943250    20.014500    20.078750    20.143000    20.150000   \n",
       "50%      27.059500    27.099500    27.115000    27.122500    27.115000   \n",
       "75%      46.415750    46.397750    46.420250    46.424500    46.448000   \n",
       "max      47.923000    48.042000    47.947000    47.876000    47.946000   \n",
       "\n",
       "           30.224        29.79       29.261       29.287       28.866  \n",
       "count  2204.00000  2204.000000  2204.000000  2204.000000  2204.000000  \n",
       "mean     31.13504    31.126395    31.126058    31.146084    31.281630  \n",
       "std      11.50636    11.527596    11.535691    11.535977    11.549611  \n",
       "min      17.20100    17.283000    17.201000    17.324000    17.332000  \n",
       "25%      20.12700    20.067250    20.013250    19.990750    20.115000  \n",
       "50%      27.08700    27.067000    27.072500    27.104000    27.250000  \n",
       "75%      46.45425    46.462000    46.467500    46.485000    46.625250  \n",
       "max      48.03000    47.994000    48.005000    47.964000    48.266000  \n",
       "\n",
       "[8 rows x 60 columns]"
      ]
     },
     "execution_count": 2,
     "metadata": {},
     "output_type": "execute_result"
    }
   ],
   "source": [
    "df = pd.read_csv('../data/CE.txt', sep='\\t')\n",
    "df.describe() # type: ignore"
   ]
  },
  {
   "cell_type": "code",
   "execution_count": 3,
   "metadata": {},
   "outputs": [
    {
     "data": {
      "text/html": [
       "<div>\n",
       "<style scoped>\n",
       "    .dataframe tbody tr th:only-of-type {\n",
       "        vertical-align: middle;\n",
       "    }\n",
       "\n",
       "    .dataframe tbody tr th {\n",
       "        vertical-align: top;\n",
       "    }\n",
       "\n",
       "    .dataframe thead th {\n",
       "        text-align: right;\n",
       "    }\n",
       "</style>\n",
       "<table border=\"1\" class=\"dataframe\">\n",
       "  <thead>\n",
       "    <tr style=\"text-align: right;\">\n",
       "      <th></th>\n",
       "      <th>47.202</th>\n",
       "      <th>47.273</th>\n",
       "      <th>47.25</th>\n",
       "      <th>47.332</th>\n",
       "      <th>47.213</th>\n",
       "      <th>47.372</th>\n",
       "      <th>47.273.1</th>\n",
       "      <th>47.438</th>\n",
       "      <th>46.691</th>\n",
       "      <th>46.599</th>\n",
       "      <th>...</th>\n",
       "      <th>31.554</th>\n",
       "      <th>30.953</th>\n",
       "      <th>30.639</th>\n",
       "      <th>30.561</th>\n",
       "      <th>30.368</th>\n",
       "      <th>30.224</th>\n",
       "      <th>29.79</th>\n",
       "      <th>29.261</th>\n",
       "      <th>29.287</th>\n",
       "      <th>28.866</th>\n",
       "    </tr>\n",
       "  </thead>\n",
       "  <tbody>\n",
       "    <tr>\n",
       "      <th>0</th>\n",
       "      <td>29.208</td>\n",
       "      <td>28.822</td>\n",
       "      <td>28.805</td>\n",
       "      <td>28.922</td>\n",
       "      <td>28.591</td>\n",
       "      <td>28.643</td>\n",
       "      <td>28.216</td>\n",
       "      <td>27.812</td>\n",
       "      <td>27.514</td>\n",
       "      <td>27.481</td>\n",
       "      <td>...</td>\n",
       "      <td>23.995</td>\n",
       "      <td>24.328</td>\n",
       "      <td>24.283</td>\n",
       "      <td>23.877</td>\n",
       "      <td>23.816</td>\n",
       "      <td>23.933</td>\n",
       "      <td>23.354</td>\n",
       "      <td>23.483</td>\n",
       "      <td>23.320</td>\n",
       "      <td>23.588</td>\n",
       "    </tr>\n",
       "    <tr>\n",
       "      <th>1</th>\n",
       "      <td>23.554</td>\n",
       "      <td>23.521</td>\n",
       "      <td>23.527</td>\n",
       "      <td>23.008</td>\n",
       "      <td>23.042</td>\n",
       "      <td>23.052</td>\n",
       "      <td>22.658</td>\n",
       "      <td>22.952</td>\n",
       "      <td>22.908</td>\n",
       "      <td>22.359</td>\n",
       "      <td>...</td>\n",
       "      <td>21.711</td>\n",
       "      <td>21.564</td>\n",
       "      <td>21.564</td>\n",
       "      <td>21.526</td>\n",
       "      <td>21.753</td>\n",
       "      <td>21.749</td>\n",
       "      <td>21.802</td>\n",
       "      <td>21.582</td>\n",
       "      <td>21.283</td>\n",
       "      <td>21.519</td>\n",
       "    </tr>\n",
       "    <tr>\n",
       "      <th>2</th>\n",
       "      <td>21.540</td>\n",
       "      <td>21.419</td>\n",
       "      <td>21.565</td>\n",
       "      <td>20.857</td>\n",
       "      <td>21.052</td>\n",
       "      <td>21.039</td>\n",
       "      <td>20.926</td>\n",
       "      <td>20.912</td>\n",
       "      <td>20.989</td>\n",
       "      <td>20.882</td>\n",
       "      <td>...</td>\n",
       "      <td>20.687</td>\n",
       "      <td>20.703</td>\n",
       "      <td>20.295</td>\n",
       "      <td>20.482</td>\n",
       "      <td>20.600</td>\n",
       "      <td>20.547</td>\n",
       "      <td>20.708</td>\n",
       "      <td>20.708</td>\n",
       "      <td>20.574</td>\n",
       "      <td>20.403</td>\n",
       "    </tr>\n",
       "    <tr>\n",
       "      <th>3</th>\n",
       "      <td>20.460</td>\n",
       "      <td>20.298</td>\n",
       "      <td>20.350</td>\n",
       "      <td>19.867</td>\n",
       "      <td>19.997</td>\n",
       "      <td>19.972</td>\n",
       "      <td>19.924</td>\n",
       "      <td>19.813</td>\n",
       "      <td>19.691</td>\n",
       "      <td>19.634</td>\n",
       "      <td>...</td>\n",
       "      <td>19.887</td>\n",
       "      <td>19.919</td>\n",
       "      <td>19.696</td>\n",
       "      <td>19.634</td>\n",
       "      <td>19.747</td>\n",
       "      <td>20.005</td>\n",
       "      <td>19.919</td>\n",
       "      <td>19.736</td>\n",
       "      <td>19.977</td>\n",
       "      <td>20.016</td>\n",
       "    </tr>\n",
       "    <tr>\n",
       "      <th>4</th>\n",
       "      <td>19.651</td>\n",
       "      <td>19.635</td>\n",
       "      <td>19.533</td>\n",
       "      <td>19.627</td>\n",
       "      <td>19.073</td>\n",
       "      <td>19.202</td>\n",
       "      <td>19.202</td>\n",
       "      <td>19.116</td>\n",
       "      <td>18.652</td>\n",
       "      <td>18.645</td>\n",
       "      <td>...</td>\n",
       "      <td>19.402</td>\n",
       "      <td>19.428</td>\n",
       "      <td>19.447</td>\n",
       "      <td>19.325</td>\n",
       "      <td>19.348</td>\n",
       "      <td>19.254</td>\n",
       "      <td>19.160</td>\n",
       "      <td>19.336</td>\n",
       "      <td>19.257</td>\n",
       "      <td>19.377</td>\n",
       "    </tr>\n",
       "  </tbody>\n",
       "</table>\n",
       "<p>5 rows × 60 columns</p>\n",
       "</div>"
      ],
      "text/plain": [
       "   47.202  47.273   47.25  47.332  47.213  47.372  47.273.1  47.438  46.691  \\\n",
       "0  29.208  28.822  28.805  28.922  28.591  28.643    28.216  27.812  27.514   \n",
       "1  23.554  23.521  23.527  23.008  23.042  23.052    22.658  22.952  22.908   \n",
       "2  21.540  21.419  21.565  20.857  21.052  21.039    20.926  20.912  20.989   \n",
       "3  20.460  20.298  20.350  19.867  19.997  19.972    19.924  19.813  19.691   \n",
       "4  19.651  19.635  19.533  19.627  19.073  19.202    19.202  19.116  18.652   \n",
       "\n",
       "   46.599  ...  31.554  30.953  30.639  30.561  30.368  30.224   29.79  \\\n",
       "0  27.481  ...  23.995  24.328  24.283  23.877  23.816  23.933  23.354   \n",
       "1  22.359  ...  21.711  21.564  21.564  21.526  21.753  21.749  21.802   \n",
       "2  20.882  ...  20.687  20.703  20.295  20.482  20.600  20.547  20.708   \n",
       "3  19.634  ...  19.887  19.919  19.696  19.634  19.747  20.005  19.919   \n",
       "4  18.645  ...  19.402  19.428  19.447  19.325  19.348  19.254  19.160   \n",
       "\n",
       "   29.261  29.287  28.866  \n",
       "0  23.483  23.320  23.588  \n",
       "1  21.582  21.283  21.519  \n",
       "2  20.708  20.574  20.403  \n",
       "3  19.736  19.977  20.016  \n",
       "4  19.336  19.257  19.377  \n",
       "\n",
       "[5 rows x 60 columns]"
      ]
     },
     "execution_count": 3,
     "metadata": {},
     "output_type": "execute_result"
    }
   ],
   "source": [
    "df.head()"
   ]
  },
  {
   "cell_type": "markdown",
   "metadata": {},
   "source": [
    "## Pulling in the Predictor Values\n",
    "Below is just a quick loop that stores each `txt` file as its own *DataFrame* object and sticks them\n",
    "all in a dictionary where their **key** is the 'basename' of each file path."
   ]
  },
  {
   "cell_type": "code",
   "execution_count": 4,
   "metadata": {},
   "outputs": [
    {
     "name": "stdout",
     "output_type": "stream",
     "text": [
      "/Users/skyejeanat/Documents/Flatiron/Projects/dsc-Phase_3-Porject/v_skye\n",
      "SE\n",
      "PS1\n",
      "TS4\n",
      "PS2\n",
      "PS3\n",
      "TS3\n",
      "VS1\n",
      "TS2\n",
      "PS6\n",
      "PS4\n",
      "TS1\n",
      "PS5\n",
      "CP\n",
      "CE\n",
      "EPS1\n",
      "FS1\n",
      "FS2\n"
     ]
    }
   ],
   "source": [
    "cwd = os.getcwd()\n",
    "print(cwd)\n",
    "tables = {}\n",
    "for itm in glob.iglob(\"../**/*.txt\"):\n",
    "    id = os.path.basename(itm)\n",
    "    id = id[:-4]\n",
    "    if id in [\"documentation\", \"description\", \"profile\"]:\n",
    "        continue\n",
    "    print(id)\n",
    "    try:\n",
    "        tables.update({id: pd.read_csv(itm, header=None,  sep='\\t')})\n",
    "    except ParserError as err:\n",
    "        print(err)\n",
    "        continue"
   ]
  },
  {
   "cell_type": "markdown",
   "metadata": {},
   "source": [
    "**The cell below is a nice visual of the data structure**. Each table in the dictionary has equal\n",
    "numbers of rows, and a column count that cooresponds to the frequency of samples taken during each\n",
    "pump cycle."
   ]
  },
  {
   "cell_type": "code",
   "execution_count": 5,
   "metadata": {},
   "outputs": [
    {
     "name": "stdout",
     "output_type": "stream",
     "text": [
      "SE\n",
      "(2205, 60)\n",
      "PS1\n",
      "(2205, 6000)\n",
      "TS4\n",
      "(2205, 60)\n",
      "PS2\n",
      "(2205, 6000)\n",
      "PS3\n",
      "(2205, 6000)\n",
      "TS3\n",
      "(2205, 60)\n",
      "VS1\n",
      "(2205, 60)\n",
      "TS2\n",
      "(2205, 60)\n",
      "PS6\n",
      "(2205, 6000)\n",
      "PS4\n",
      "(2205, 6000)\n",
      "TS1\n",
      "(2205, 60)\n",
      "PS5\n",
      "(2205, 6000)\n",
      "CP\n",
      "(2205, 60)\n",
      "CE\n",
      "(2205, 60)\n",
      "EPS1\n",
      "(2205, 6000)\n",
      "FS1\n",
      "(2205, 600)\n",
      "FS2\n",
      "(2205, 600)\n"
     ]
    }
   ],
   "source": [
    "count = 0\n",
    "for table in list(tables.keys()):\n",
    "    print(table)\n",
    "    print(tables[table].shape)"
   ]
  },
  {
   "cell_type": "markdown",
   "metadata": {},
   "source": [
    "## Structure of the Data\n",
    "**Okay, so the structure of the data is this:**\n",
    "1. The rows represent 1 cycle of the hydraulic test rig.\n",
    "2. The individual txt files are sensor readings, rows represent a cycle, each column is a reading\n",
    "   from that specific sensor.\n",
    "3. Readings from each table are given in hz, and each cycle lasted 60 seconds. So, a 1hz sensor\n",
    "   provides a 60 column by 2205 row table.\n",
    "4. \"Profile.txt\" contains a 5 column by 2205 row table with system states encoded in each column."
   ]
  },
  {
   "cell_type": "markdown",
   "metadata": {},
   "source": [
    "## The Condition Encodings\n",
    "The `profile.txt` table contains the recorded pump conditions for each cycle (row). Below I am\n",
    "intitializing a dictionary to hold basic information about each table. This along with the dictionary\n",
    "of sensor information that follows will help establish a base on which to build out our model\n",
    "functionality.\n",
    "\n",
    "Practically, anytime we need to use this information in the future we can refer to it here, and \n",
    "if we decide we need to change it later we can do it once here and those changes will propagate\n",
    "through the rest of our program automatically."
   ]
  },
  {
   "cell_type": "code",
   "execution_count": 6,
   "metadata": {},
   "outputs": [],
   "source": [
    "# Create a dictionary that will translate the values in \"Profile.txt\" into their text categories \n",
    "# describing the state of the test rig for each cycle.\n",
    "encoding = {\n",
    "        \"Cooler Condition / %\": {\n",
    "             3:\"close to failure\",\n",
    "             20:\"reduced efficiency\",\n",
    "             100:\"full eficiency\",\n",
    "            },\n",
    "        \"Valve Condition / %\": {\n",
    "             100:\"optimal switching behavior\",\n",
    "             90:\"small lag\",\n",
    "             80:\"severe lag\",\n",
    "             73:\"close to total failure\"\n",
    "            },\n",
    "        \"Internal pump leakage\": {\n",
    "             0:\"no leakage\",\n",
    "             1:\"weak leakage\",\n",
    "             2:\"severe leakage\"\n",
    "            },\n",
    "        \"Hydraulic accumulator / bar\": {\n",
    "             130:\"optimal pressure\",\n",
    "             115:\"slightly reduced pressure\",\n",
    "             100:\"severely reduced pressure\",\n",
    "             90:\"close to total failure\"\n",
    "            },\n",
    "        \"stable flag\": {\n",
    "             0:\"conditions were stable\",\n",
    "             1:\"static conditions might not have been reached yet\",\n",
    "            }\n",
    "        }"
   ]
  },
  {
   "cell_type": "code",
   "execution_count": 7,
   "metadata": {},
   "outputs": [
    {
     "data": {
      "text/plain": [
       "dict_keys(['Cooler Condition / %', 'Valve Condition / %', 'Internal pump leakage', 'Hydraulic accumulator / bar', 'stable flag'])"
      ]
     },
     "execution_count": 7,
     "metadata": {},
     "output_type": "execute_result"
    }
   ],
   "source": [
    "encoding.keys()"
   ]
  },
  {
   "cell_type": "markdown",
   "metadata": {},
   "source": [
    "### Predictor Variables\n",
    "I am going to create another dictionary below that maps the sensor table short hand names to something\n",
    "more readable. As I add features it will be more and more important to keep everything straight. To\n",
    "keep things straight it will be important to only refer to common information from a single point.\n",
    "\n",
    "This will help keep naming conventions and data meanings clear and will come in handy later if I \n",
    "want to scale the rows in each column proportionally in some way that requires using their frequency\n",
    "or respecting their unit of measurement.\n",
    "\n",
    "#### Sensor Frequencies and Other ID Info:"
   ]
  },
  {
   "cell_type": "code",
   "execution_count": 8,
   "metadata": {},
   "outputs": [],
   "source": [
    "sensor_dict = {\n",
    "        \"PS1\": {\n",
    "            \"name\": None,\n",
    "            \"type\": \"pressure\",\n",
    "            \"unit\": \"bar\",\n",
    "            \"samp_rate\": 100,\n",
    "            }, \n",
    "        \"PS2\": {\n",
    "            \"name\": None,\n",
    "            \"type\": \"pressure\",\n",
    "            \"unit\": \"bar\",\n",
    "            \"samp_rate\": 100,\n",
    "            }, \n",
    "        \"PS3\": {\n",
    "            \"name\": None,\n",
    "            \"type\": \"pressure\",\n",
    "            \"unit\": \"bar\",\n",
    "            \"samp_rate\": 100,\n",
    "            }, \n",
    "        \"PS4\": {\n",
    "            \"name\": None,\n",
    "            \"type\": \"pressure\",\n",
    "            \"unit\": \"bar\",\n",
    "            \"samp_rate\": 100,\n",
    "            }, \n",
    "        \"PS5\": {\n",
    "            \"name\": None,\n",
    "            \"type\": \"pressure\",\n",
    "            \"unit\": \"bar\",\n",
    "            \"samp_rate\": 100,\n",
    "            }, \n",
    "        \"PS6\": {\n",
    "            \"name\": None,\n",
    "            \"type\": \"pressure\",\n",
    "            \"unit\": \"bar\",\n",
    "            \"samp_rate\": 100,\n",
    "            }, \n",
    "        \"EPS1\": {\n",
    "            \"name\": None,\n",
    "            \"type\": \"motor_power\",\n",
    "            \"unit\": \"W\",\n",
    "            \"samp_rate\": 100,\n",
    "            }, \n",
    "        \"FS1\": {\n",
    "            \"name\": None,\n",
    "            \"type\": \"volume_flow\",\n",
    "            \"unit\": \"l/min\",\n",
    "            \"samp_rate\": 10,\n",
    "            }, \n",
    "        \"FS2\": {\n",
    "            \"name\": None,\n",
    "            \"type\": \"volume_flow\",\n",
    "            \"unit\": \"l/min\",\n",
    "            \"samp_rate\": 10,\n",
    "            }, \n",
    "        \"TS1\": {\n",
    "            \"name\": None,\n",
    "            \"type\": \"temperature\",\n",
    "            \"unit\": \"Ã‚Â°C\",\n",
    "            \"samp_rate\": 1,\n",
    "            }, \n",
    "        \"TS2\": {\n",
    "            \"name\": None,\n",
    "            \"type\": \"temperature\",\n",
    "            \"unit\": \"Ã‚Â°C\",\n",
    "            \"samp_rate\": 1,\n",
    "            }, \n",
    "        \"TS3\": {\n",
    "            \"name\": None,\n",
    "            \"type\": \"temperature\",\n",
    "            \"unit\": \"Ã‚Â°C\",\n",
    "            \"samp_rate\": 1,\n",
    "            }, \n",
    "        \"TS4\": {\n",
    "            \"name\": None,\n",
    "            \"type\": \"temperature\",\n",
    "            \"unit\": \"Ã‚Â°C\",\n",
    "            \"samp_rate\": 1,\n",
    "            }, \n",
    "        \"VS1\": {\n",
    "            \"name\": None,\n",
    "            \"type\": \"vibration\",\n",
    "            \"unit\": \"mm/s\",\n",
    "            \"samp_rate\": 1,\n",
    "            }, \n",
    "        \"CE\": {\n",
    "            \"name\": None,\n",
    "            \"type\": \"cooling_efficiency\",\n",
    "            \"unit\": \"percent\",\n",
    "            \"samp_rate\": 1,\n",
    "            }, \n",
    "        \"CP\": {\n",
    "            \"name\": None,\n",
    "            \"type\": \"cooling_power\",\n",
    "            \"unit\": \"kW\",\n",
    "            \"samp_rate\": 1,\n",
    "            }, \n",
    "        \"SE\": {\n",
    "            \"name\": None,\n",
    "            \"type\": \"efficiency_factor\",\n",
    "            \"unit\": \"percent\",\n",
    "            \"samp_rate\": 1,\n",
    "            }\n",
    "        }"
   ]
  },
  {
   "cell_type": "markdown",
   "metadata": {},
   "source": [
    "### Adding Names Programmatically\n",
    "Here I am going to add names to the dictionary using a function so that if later I need or want\n",
    "to change them I already have quick and easy way to do that."
   ]
  },
  {
   "cell_type": "code",
   "execution_count": 9,
   "metadata": {},
   "outputs": [],
   "source": [
    "def rename_cols(data_dict=None, input_str=None, numbers=True,  *args, **kwargs):\n",
    "    \"\"\"A function to rename my columns from a dictionary containing information about\n",
    "       each sensor.\n",
    "            Args:\n",
    "                data_dict ('dict'): The dictionary that will be processed\n",
    "                    by the function. This dictionary should be built into the\n",
    "                    feature extraction process.\n",
    "                numbers (bool, 'defualt' = True): Tells the function whether or not to use the\n",
    "                    numbers from the sensor dict keys in the output names.\n",
    "                input_str ('str', optional): An input string to be proccessed\n",
    "                    by the function.\n",
    "\n",
    "            Returns:\n",
    "                A dictionary with <sensor>['name'] field reprocessed\n",
    "    \"\"\"\n",
    "    if data_dict is None:\n",
    "        return None\n",
    "    if input_str is None:\n",
    "        input_str = \"\"\n",
    "\n",
    "    for key in data_dict.keys():\n",
    "        name = data_dict[key]['type'][:4]\n",
    "        base = key\n",
    "        num = \"\"\n",
    "        num = \"\"\n",
    "        if key[-1].isdigit() and numbers is True:\n",
    "            num = f\"_{key[-1]}\"\n",
    "            base = key[0:-1]\n",
    "        if len(input_str) > 0:\n",
    "            base = f\"{input_str}\"\n",
    "        data_dict[key]['name'] = f\"{base}_{name}{num}\"\n",
    "\n",
    "    return None"
   ]
  },
  {
   "cell_type": "code",
   "execution_count": 10,
   "metadata": {},
   "outputs": [],
   "source": [
    "rename_cols(sensor_dict, \"\", True)"
   ]
  },
  {
   "cell_type": "code",
   "execution_count": 11,
   "metadata": {},
   "outputs": [
    {
     "data": {
      "text/plain": [
       "'PS_pres_1'"
      ]
     },
     "execution_count": 11,
     "metadata": {},
     "output_type": "execute_result"
    }
   ],
   "source": [
    "sensor_dict['PS1']['name']"
   ]
  },
  {
   "cell_type": "markdown",
   "metadata": {},
   "source": [
    "# Target Variables\n",
    "**Now that we can see the structure** of our target variables a little more clearly lets take a\n",
    "look at the `profile.txt` file in our dataset. \n",
    "\n",
    "I will pull it inot a primary DataFrame object, so that we can continue to work with it; adding \n",
    "predictor variables and iterating over a test pipeline to find the best combinations for prediction.\n",
    "\n",
    "Setting this up just requires pulling in the five columns and assigning column names based on our\n",
    "encoding keys from the above dictionary."
   ]
  },
  {
   "cell_type": "code",
   "execution_count": 12,
   "metadata": {},
   "outputs": [
    {
     "name": "stdout",
     "output_type": "stream",
     "text": [
      "(2205, 5)\n"
     ]
    },
    {
     "data": {
      "text/html": [
       "<div>\n",
       "<style scoped>\n",
       "    .dataframe tbody tr th:only-of-type {\n",
       "        vertical-align: middle;\n",
       "    }\n",
       "\n",
       "    .dataframe tbody tr th {\n",
       "        vertical-align: top;\n",
       "    }\n",
       "\n",
       "    .dataframe thead th {\n",
       "        text-align: right;\n",
       "    }\n",
       "</style>\n",
       "<table border=\"1\" class=\"dataframe\">\n",
       "  <thead>\n",
       "    <tr style=\"text-align: right;\">\n",
       "      <th></th>\n",
       "      <th>Cooler Condition / %</th>\n",
       "      <th>Valve Condition / %</th>\n",
       "      <th>Internal pump leakage</th>\n",
       "      <th>Hydraulic accumulator / bar</th>\n",
       "      <th>stable flag</th>\n",
       "    </tr>\n",
       "  </thead>\n",
       "  <tbody>\n",
       "    <tr>\n",
       "      <th>0</th>\n",
       "      <td>3</td>\n",
       "      <td>100</td>\n",
       "      <td>0</td>\n",
       "      <td>130</td>\n",
       "      <td>1</td>\n",
       "    </tr>\n",
       "    <tr>\n",
       "      <th>1</th>\n",
       "      <td>3</td>\n",
       "      <td>100</td>\n",
       "      <td>0</td>\n",
       "      <td>130</td>\n",
       "      <td>1</td>\n",
       "    </tr>\n",
       "    <tr>\n",
       "      <th>2</th>\n",
       "      <td>3</td>\n",
       "      <td>100</td>\n",
       "      <td>0</td>\n",
       "      <td>130</td>\n",
       "      <td>1</td>\n",
       "    </tr>\n",
       "    <tr>\n",
       "      <th>3</th>\n",
       "      <td>3</td>\n",
       "      <td>100</td>\n",
       "      <td>0</td>\n",
       "      <td>130</td>\n",
       "      <td>1</td>\n",
       "    </tr>\n",
       "    <tr>\n",
       "      <th>4</th>\n",
       "      <td>3</td>\n",
       "      <td>100</td>\n",
       "      <td>0</td>\n",
       "      <td>130</td>\n",
       "      <td>1</td>\n",
       "    </tr>\n",
       "  </tbody>\n",
       "</table>\n",
       "</div>"
      ],
      "text/plain": [
       "   Cooler Condition / %  Valve Condition / %  Internal pump leakage  \\\n",
       "0                     3                  100                      0   \n",
       "1                     3                  100                      0   \n",
       "2                     3                  100                      0   \n",
       "3                     3                  100                      0   \n",
       "4                     3                  100                      0   \n",
       "\n",
       "   Hydraulic accumulator / bar  stable flag  \n",
       "0                          130            1  \n",
       "1                          130            1  \n",
       "2                          130            1  \n",
       "3                          130            1  \n",
       "4                          130            1  "
      ]
     },
     "execution_count": 12,
     "metadata": {},
     "output_type": "execute_result"
    }
   ],
   "source": [
    "target_cols = list(encoding.keys())\n",
    "df = pd.read_csv('../data/profile.txt', sep='\\t', header=None, names=target_cols)\n",
    "print(df.shape)\n",
    "df.head()"
   ]
  },
  {
   "cell_type": "markdown",
   "metadata": {},
   "source": [
    "### Graphing the Cycles\n",
    "The columns of our DataFrame give us the encoded status of the test rig, and the rows represent\n",
    "each 60 second test cycle. That means we can graph these cycles to get a sense of the testing setup\n",
    "we will be trying to predict.\n",
    "\n",
    "Below I quickly iterate through the columns. Plotting each test components status for each cycle."
   ]
  },
  {
   "cell_type": "code",
   "execution_count": 13,
   "metadata": {},
   "outputs": [],
   "source": [
    "import matplotlib.colors as mcolors\n",
    "colors = list(mcolors.TABLEAU_COLORS.values())"
   ]
  },
  {
   "cell_type": "code",
   "execution_count": 14,
   "metadata": {},
   "outputs": [
    {
     "data": {
      "image/png": "[encoded data removed]",
      "text/plain": [
       "<Figure size 864x1008 with 5 Axes>"
      ]
     },
     "metadata": {
      "needs_background": "light"
     },
     "output_type": "display_data"
    }
   ],
   "source": [
    "fig, ax = plt.subplots(5, 1, figsize=(12,14), tight_layout='tight')\n",
    "x_axis = df.index\n",
    "for col in range(len(target_cols)):\n",
    "    ax[col].plot(x_axis, df[target_cols[col]], c=colors[col])\n",
    "    ax[col].set_title(target_cols[col])\n",
    "plt.show()"
   ]
  },
  {
   "cell_type": "markdown",
   "metadata": {},
   "source": [
    "## Next Steps\n",
    "Because the there is so much test data I need to setup a workflow that also me to iterate over it\n",
    "in many different ways. I think I am currently well positioned to do that, because I have my target\n",
    "variables all in a single DataFrame object and each of the sensor tables in its own separate df.\n",
    "\n",
    "### Tables as Columns, Rows as Cells\n",
    "With the data structured the way it is I want to test out different ways of aggregating it into the\n",
    "test frame. There are essentially several thousand columns of data for each cycle. However, my\n",
    "plan now is to iterate through each table of sensor data and decide how to aggregate it for each\n",
    "each row. So, the simplest way to do this would be to collapse each table into a single column that\n",
    "captures the average value of each row.\n",
    "\n",
    "I can then expand the functionality of my iterating process to output standard-deviations, averages,\n",
    "and min/max values for each row. Then maybe test the effect of binning rows down to some proportion\n",
    "of their original size.\n",
    "\n",
    "The first thing to do that may come in handy is to make a dicitonary that holds the hertz values \n",
    "for each sensor table. I could do this by hand but it will probably be easier to just write a loop."
   ]
  },
  {
   "cell_type": "markdown",
   "metadata": {},
   "source": [
    "## Feature Extraction\n",
    "I want to establish my intial goals for the feature extraction and testing:\n",
    "1. A function to return simple averages for each sensor table.\n",
    "2. A function to return summary statistics for each cycle from the sensor tables.\n",
    "3. A function to return summary statistics for each cycle as thirds of the cycle (20 seconds of\n",
    "   sensor data).\n",
    "4. A function that returns the average change in sensor values for each cycle of sensor data.\n",
    "\n",
    "Iteratively test each of these sets of columns together and separately against each of the target\n",
    "variables to see which features produce the most accurate predicitons.\n",
    "\n",
    "### Additional Features to Try\n",
    "* average rate of change during each cycle.\n",
    "\n",
    "### Things to make sure to check for:\n",
    "* distributions of sensor datas\n",
    "* NaNs\n",
    "* outliers"
   ]
  },
  {
   "cell_type": "code",
   "execution_count": 15,
   "metadata": {
    "scrolled": false
   },
   "outputs": [
    {
     "data": {
      "image/png": "[encoded data removed]",
      "text/plain": [
       "<Figure size 432x288 with 1 Axes>"
      ]
     },
     "metadata": {
      "needs_background": "light"
     },
     "output_type": "display_data"
    }
   ],
   "source": [
    "fig, ax = plt.subplots()\n",
    "for num in range(10):\n",
    "    rand_row = np.random.randint(0, 2204)\n",
    "    x_val = tables['TS1'].iloc[[rand_row]].columns\n",
    "    y_val = tables['TS1'].iloc[[rand_row]].values.flatten()\n",
    "    ax.set_title('Random Sample of Cycles')\n",
    "    ax.plot(x_val, y_val, label=f\"Cycle: {rand_row}\")\n",
    "ax.set(xlabel=\"Seconds\", ylabel=\"Temperature\")\n",
    "ax.legend()\n",
    "plt.show()"
   ]
  },
  {
   "cell_type": "markdown",
   "metadata": {},
   "source": [
    "### First Feature\n",
    "So this will be the basic pattern for feature extraction. Not too bad, I will need to write functions\n",
    "to capture features beyond basic aggregations.\n",
    "\n",
    "### Feature: 60sec Mean Readings"
   ]
  },
  {
   "cell_type": "code",
   "execution_count": 16,
   "metadata": {},
   "outputs": [
    {
     "data": {
      "text/html": [
       "<div>\n",
       "<style scoped>\n",
       "    .dataframe tbody tr th:only-of-type {\n",
       "        vertical-align: middle;\n",
       "    }\n",
       "\n",
       "    .dataframe tbody tr th {\n",
       "        vertical-align: top;\n",
       "    }\n",
       "\n",
       "    .dataframe thead th {\n",
       "        text-align: right;\n",
       "    }\n",
       "</style>\n",
       "<table border=\"1\" class=\"dataframe\">\n",
       "  <thead>\n",
       "    <tr style=\"text-align: right;\">\n",
       "      <th></th>\n",
       "      <th>SE</th>\n",
       "      <th>PS1</th>\n",
       "      <th>TS4</th>\n",
       "      <th>PS2</th>\n",
       "      <th>PS3</th>\n",
       "      <th>TS3</th>\n",
       "      <th>VS1</th>\n",
       "      <th>TS2</th>\n",
       "      <th>PS6</th>\n",
       "      <th>PS4</th>\n",
       "      <th>TS1</th>\n",
       "      <th>PS5</th>\n",
       "      <th>CP</th>\n",
       "      <th>CE</th>\n",
       "      <th>EPS1</th>\n",
       "      <th>FS1</th>\n",
       "      <th>FS2</th>\n",
       "    </tr>\n",
       "  </thead>\n",
       "  <tbody>\n",
       "    <tr>\n",
       "      <th>0</th>\n",
       "      <td>59.157183</td>\n",
       "      <td>160.673492</td>\n",
       "      <td>31.745250</td>\n",
       "      <td>109.466914</td>\n",
       "      <td>1.991475</td>\n",
       "      <td>38.471017</td>\n",
       "      <td>0.576950</td>\n",
       "      <td>40.978767</td>\n",
       "      <td>9.728098</td>\n",
       "      <td>0.0</td>\n",
       "      <td>35.621983</td>\n",
       "      <td>9.842169</td>\n",
       "      <td>1.862750</td>\n",
       "      <td>39.601350</td>\n",
       "      <td>2538.929167</td>\n",
       "      <td>6.709815</td>\n",
       "      <td>10.304592</td>\n",
       "    </tr>\n",
       "    <tr>\n",
       "      <th>1</th>\n",
       "      <td>59.335617</td>\n",
       "      <td>160.603320</td>\n",
       "      <td>34.493867</td>\n",
       "      <td>109.354890</td>\n",
       "      <td>1.976234</td>\n",
       "      <td>38.978967</td>\n",
       "      <td>0.565850</td>\n",
       "      <td>41.532767</td>\n",
       "      <td>9.529488</td>\n",
       "      <td>0.0</td>\n",
       "      <td>36.676967</td>\n",
       "      <td>9.635142</td>\n",
       "      <td>1.255550</td>\n",
       "      <td>25.786433</td>\n",
       "      <td>2531.498900</td>\n",
       "      <td>6.715315</td>\n",
       "      <td>10.403098</td>\n",
       "    </tr>\n",
       "    <tr>\n",
       "      <th>2</th>\n",
       "      <td>59.543150</td>\n",
       "      <td>160.347720</td>\n",
       "      <td>35.646150</td>\n",
       "      <td>109.158845</td>\n",
       "      <td>1.972224</td>\n",
       "      <td>39.631950</td>\n",
       "      <td>0.576533</td>\n",
       "      <td>42.442450</td>\n",
       "      <td>9.427949</td>\n",
       "      <td>0.0</td>\n",
       "      <td>37.880800</td>\n",
       "      <td>9.530548</td>\n",
       "      <td>1.113217</td>\n",
       "      <td>22.218233</td>\n",
       "      <td>2519.928000</td>\n",
       "      <td>6.718522</td>\n",
       "      <td>10.366250</td>\n",
       "    </tr>\n",
       "    <tr>\n",
       "      <th>3</th>\n",
       "      <td>59.794900</td>\n",
       "      <td>160.188088</td>\n",
       "      <td>36.579467</td>\n",
       "      <td>109.064807</td>\n",
       "      <td>1.946575</td>\n",
       "      <td>40.403383</td>\n",
       "      <td>0.569267</td>\n",
       "      <td>43.403983</td>\n",
       "      <td>9.337430</td>\n",
       "      <td>0.0</td>\n",
       "      <td>38.879050</td>\n",
       "      <td>9.438827</td>\n",
       "      <td>1.062150</td>\n",
       "      <td>20.459817</td>\n",
       "      <td>2511.541633</td>\n",
       "      <td>6.720565</td>\n",
       "      <td>10.302678</td>\n",
       "    </tr>\n",
       "    <tr>\n",
       "      <th>4</th>\n",
       "      <td>59.455267</td>\n",
       "      <td>160.000472</td>\n",
       "      <td>37.427900</td>\n",
       "      <td>108.931434</td>\n",
       "      <td>1.922707</td>\n",
       "      <td>41.310550</td>\n",
       "      <td>0.577367</td>\n",
       "      <td>44.332750</td>\n",
       "      <td>9.260636</td>\n",
       "      <td>0.0</td>\n",
       "      <td>39.803917</td>\n",
       "      <td>9.358762</td>\n",
       "      <td>1.070467</td>\n",
       "      <td>19.787017</td>\n",
       "      <td>2503.449500</td>\n",
       "      <td>6.690308</td>\n",
       "      <td>10.237750</td>\n",
       "    </tr>\n",
       "  </tbody>\n",
       "</table>\n",
       "</div>"
      ],
      "text/plain": [
       "          SE         PS1        TS4         PS2       PS3        TS3  \\\n",
       "0  59.157183  160.673492  31.745250  109.466914  1.991475  38.471017   \n",
       "1  59.335617  160.603320  34.493867  109.354890  1.976234  38.978967   \n",
       "2  59.543150  160.347720  35.646150  109.158845  1.972224  39.631950   \n",
       "3  59.794900  160.188088  36.579467  109.064807  1.946575  40.403383   \n",
       "4  59.455267  160.000472  37.427900  108.931434  1.922707  41.310550   \n",
       "\n",
       "        VS1        TS2       PS6  PS4        TS1       PS5        CP  \\\n",
       "0  0.576950  40.978767  9.728098  0.0  35.621983  9.842169  1.862750   \n",
       "1  0.565850  41.532767  9.529488  0.0  36.676967  9.635142  1.255550   \n",
       "2  0.576533  42.442450  9.427949  0.0  37.880800  9.530548  1.113217   \n",
       "3  0.569267  43.403983  9.337430  0.0  38.879050  9.438827  1.062150   \n",
       "4  0.577367  44.332750  9.260636  0.0  39.803917  9.358762  1.070467   \n",
       "\n",
       "          CE         EPS1       FS1        FS2  \n",
       "0  39.601350  2538.929167  6.709815  10.304592  \n",
       "1  25.786433  2531.498900  6.715315  10.403098  \n",
       "2  22.218233  2519.928000  6.718522  10.366250  \n",
       "3  20.459817  2511.541633  6.720565  10.302678  \n",
       "4  19.787017  2503.449500  6.690308  10.237750  "
      ]
     },
     "execution_count": 16,
     "metadata": {},
     "output_type": "execute_result"
    }
   ],
   "source": [
    "feature_avg = pd.DataFrame()\n",
    "for table in tables.keys():\n",
    "    col_name = \"avg_\"\n",
    "    feature_avg[table] = tables[table].apply(np.mean, axis=1) \n",
    "feature_avg.head()"
   ]
  },
  {
   "cell_type": "code",
   "execution_count": 17,
   "metadata": {},
   "outputs": [],
   "source": [
    "%reload_ext autoreload\n",
    "%autoreload 1 \n",
    "%aimport features \n",
    "%aimport graph_tool"
   ]
  },
  {
   "cell_type": "code",
   "execution_count": 18,
   "metadata": {
    "lines_to_next_cell": 2
   },
   "outputs": [],
   "source": [
    "from graph_tool import make_array, hist_grid\n",
    "from features import avg_change, table_apply"
   ]
  },
  {
   "cell_type": "markdown",
   "metadata": {},
   "source": [
    "### Average Change Feature\n",
    "Here I am adding a feature that represents the average change in sensor readings over each 60 second\n",
    "cylce. Because we have a bunch of dataframes in a dictionary I wrote a simple helper function to\n",
    "make feature extraction easier. That code as well as the averaging function being applied is in\n",
    "`features.py`."
   ]
  },
  {
   "cell_type": "code",
   "execution_count": 19,
   "metadata": {},
   "outputs": [
    {
     "data": {
      "text/html": [
       "<div>\n",
       "<style scoped>\n",
       "    .dataframe tbody tr th:only-of-type {\n",
       "        vertical-align: middle;\n",
       "    }\n",
       "\n",
       "    .dataframe tbody tr th {\n",
       "        vertical-align: top;\n",
       "    }\n",
       "\n",
       "    .dataframe thead th {\n",
       "        text-align: right;\n",
       "    }\n",
       "</style>\n",
       "<table border=\"1\" class=\"dataframe\">\n",
       "  <thead>\n",
       "    <tr style=\"text-align: right;\">\n",
       "      <th></th>\n",
       "      <th>dx_avg_SE</th>\n",
       "      <th>dx_avg_PS1</th>\n",
       "      <th>dx_avg_TS4</th>\n",
       "      <th>dx_avg_PS2</th>\n",
       "      <th>dx_avg_PS3</th>\n",
       "      <th>dx_avg_TS3</th>\n",
       "      <th>dx_avg_VS1</th>\n",
       "      <th>dx_avg_TS2</th>\n",
       "      <th>dx_avg_PS6</th>\n",
       "      <th>dx_avg_PS4</th>\n",
       "      <th>dx_avg_TS1</th>\n",
       "      <th>dx_avg_PS5</th>\n",
       "      <th>dx_avg_CP</th>\n",
       "      <th>dx_avg_CE</th>\n",
       "      <th>dx_avg_EPS1</th>\n",
       "      <th>dx_avg_FS1</th>\n",
       "      <th>dx_avg_FS2</th>\n",
       "    </tr>\n",
       "  </thead>\n",
       "  <tbody>\n",
       "    <tr>\n",
       "      <th>0</th>\n",
       "      <td>0.003814</td>\n",
       "      <td>0.006083</td>\n",
       "      <td>0.054102</td>\n",
       "      <td>-0.020738</td>\n",
       "      <td>-0.000384</td>\n",
       "      <td>0.004644</td>\n",
       "      <td>-0.001034</td>\n",
       "      <td>0.004898</td>\n",
       "      <td>0.000000e+00</td>\n",
       "      <td>0.0</td>\n",
       "      <td>0.009864</td>\n",
       "      <td>0.000000e+00</td>\n",
       "      <td>-0.013576</td>\n",
       "      <td>-0.310780</td>\n",
       "      <td>0.042574</td>\n",
       "      <td>-0.015008</td>\n",
       "      <td>-0.000003</td>\n",
       "    </tr>\n",
       "    <tr>\n",
       "      <th>1</th>\n",
       "      <td>0.005610</td>\n",
       "      <td>0.005063</td>\n",
       "      <td>0.024966</td>\n",
       "      <td>-0.020655</td>\n",
       "      <td>-0.000380</td>\n",
       "      <td>0.009661</td>\n",
       "      <td>-0.000949</td>\n",
       "      <td>0.014356</td>\n",
       "      <td>3.333889e-06</td>\n",
       "      <td>0.0</td>\n",
       "      <td>0.022390</td>\n",
       "      <td>2.333722e-06</td>\n",
       "      <td>-0.004237</td>\n",
       "      <td>-0.095254</td>\n",
       "      <td>0.034739</td>\n",
       "      <td>-0.014888</td>\n",
       "      <td>0.000017</td>\n",
       "    </tr>\n",
       "    <tr>\n",
       "      <th>2</th>\n",
       "      <td>0.000559</td>\n",
       "      <td>0.005064</td>\n",
       "      <td>0.017085</td>\n",
       "      <td>-0.020702</td>\n",
       "      <td>-0.000371</td>\n",
       "      <td>0.013712</td>\n",
       "      <td>-0.000746</td>\n",
       "      <td>0.015356</td>\n",
       "      <td>2.333722e-06</td>\n",
       "      <td>0.0</td>\n",
       "      <td>0.019203</td>\n",
       "      <td>2.333722e-06</td>\n",
       "      <td>-0.000949</td>\n",
       "      <td>-0.034492</td>\n",
       "      <td>0.034706</td>\n",
       "      <td>-0.015324</td>\n",
       "      <td>0.000057</td>\n",
       "    </tr>\n",
       "    <tr>\n",
       "      <th>3</th>\n",
       "      <td>0.004068</td>\n",
       "      <td>0.005038</td>\n",
       "      <td>0.014492</td>\n",
       "      <td>-0.020711</td>\n",
       "      <td>-0.000387</td>\n",
       "      <td>0.014169</td>\n",
       "      <td>-0.000390</td>\n",
       "      <td>0.016085</td>\n",
       "      <td>-8.334722e-07</td>\n",
       "      <td>0.0</td>\n",
       "      <td>0.014034</td>\n",
       "      <td>-5.000833e-07</td>\n",
       "      <td>-0.000169</td>\n",
       "      <td>-0.019271</td>\n",
       "      <td>0.033306</td>\n",
       "      <td>-0.015077</td>\n",
       "      <td>0.000047</td>\n",
       "    </tr>\n",
       "    <tr>\n",
       "      <th>4</th>\n",
       "      <td>0.001763</td>\n",
       "      <td>0.004989</td>\n",
       "      <td>0.012915</td>\n",
       "      <td>-0.020616</td>\n",
       "      <td>-0.000375</td>\n",
       "      <td>0.013966</td>\n",
       "      <td>-0.000559</td>\n",
       "      <td>0.014237</td>\n",
       "      <td>1.666944e-07</td>\n",
       "      <td>0.0</td>\n",
       "      <td>0.015763</td>\n",
       "      <td>2.333722e-06</td>\n",
       "      <td>0.000339</td>\n",
       "      <td>-0.007525</td>\n",
       "      <td>0.033272</td>\n",
       "      <td>-0.014568</td>\n",
       "      <td>0.000012</td>\n",
       "    </tr>\n",
       "  </tbody>\n",
       "</table>\n",
       "</div>"
      ],
      "text/plain": [
       "   dx_avg_SE  dx_avg_PS1  dx_avg_TS4  dx_avg_PS2  dx_avg_PS3  dx_avg_TS3  \\\n",
       "0   0.003814    0.006083    0.054102   -0.020738   -0.000384    0.004644   \n",
       "1   0.005610    0.005063    0.024966   -0.020655   -0.000380    0.009661   \n",
       "2   0.000559    0.005064    0.017085   -0.020702   -0.000371    0.013712   \n",
       "3   0.004068    0.005038    0.014492   -0.020711   -0.000387    0.014169   \n",
       "4   0.001763    0.004989    0.012915   -0.020616   -0.000375    0.013966   \n",
       "\n",
       "   dx_avg_VS1  dx_avg_TS2    dx_avg_PS6  dx_avg_PS4  dx_avg_TS1    dx_avg_PS5  \\\n",
       "0   -0.001034    0.004898  0.000000e+00         0.0    0.009864  0.000000e+00   \n",
       "1   -0.000949    0.014356  3.333889e-06         0.0    0.022390  2.333722e-06   \n",
       "2   -0.000746    0.015356  2.333722e-06         0.0    0.019203  2.333722e-06   \n",
       "3   -0.000390    0.016085 -8.334722e-07         0.0    0.014034 -5.000833e-07   \n",
       "4   -0.000559    0.014237  1.666944e-07         0.0    0.015763  2.333722e-06   \n",
       "\n",
       "   dx_avg_CP  dx_avg_CE  dx_avg_EPS1  dx_avg_FS1  dx_avg_FS2  \n",
       "0  -0.013576  -0.310780     0.042574   -0.015008   -0.000003  \n",
       "1  -0.004237  -0.095254     0.034739   -0.014888    0.000017  \n",
       "2  -0.000949  -0.034492     0.034706   -0.015324    0.000057  \n",
       "3  -0.000169  -0.019271     0.033306   -0.015077    0.000047  \n",
       "4   0.000339  -0.007525     0.033272   -0.014568    0.000012  "
      ]
     },
     "execution_count": 19,
     "metadata": {},
     "output_type": "execute_result"
    }
   ],
   "source": [
    "avg_dx = table_apply(tables, avg_change, suffix='dx_avg', axis=1)\n",
    "avg_dx.head()"
   ]
  },
  {
   "cell_type": "markdown",
   "metadata": {},
   "source": [
    "### Graph Tools\n",
    "Below is a grid of histogram data displaying the distributions for each column in the Average Change\n",
    "dataframe. The code and documentation for how to use the hist_grid function is in the graph_tool.py\n",
    "file in this repo."
   ]
  },
  {
   "cell_type": "code",
   "execution_count": 20,
   "metadata": {
    "lines_to_next_cell": 2,
    "scrolled": false
   },
   "outputs": [
    {
     "data": {
      "image/png": "[encoded data removed]",
      "text/plain": [
       "<Figure size 576x720 with 20 Axes>"
      ]
     },
     "metadata": {
      "needs_background": "light"
     },
     "output_type": "display_data"
    }
   ],
   "source": [
    "hist_grid(avg_dx, size=2, grid_cols=4, force_col=True)\n",
    "plt.show()"
   ]
  },
  {
   "cell_type": "code",
   "execution_count": 21,
   "metadata": {},
   "outputs": [
    {
     "data": {
      "image/png": "[encoded data removed]",
      "text/plain": [
       "<Figure size 540x1080 with 18 Axes>"
      ]
     },
     "metadata": {
      "needs_background": "light"
     },
     "output_type": "display_data"
    }
   ],
   "source": [
    "hist_grid(feature_avg, grid_cols=3, force_col=True)\n",
    "plt.show()"
   ]
  },
  {
   "cell_type": "markdown",
   "metadata": {},
   "source": [
    "## Modeling - Cooler Condition Target Variable"
   ]
  },
  {
   "cell_type": "code",
   "execution_count": 22,
   "metadata": {},
   "outputs": [],
   "source": [
    "#Set the first model's X and y variables\n",
    "#Here, we will include all of the columns in our feature averages data frame\n",
    "model1_X = feature_avg[list(feature_avg.columns)]\n",
    "model1_y = df['Valve Condition / %']"
   ]
  },
  {
   "cell_type": "code",
   "execution_count": 23,
   "metadata": {},
   "outputs": [
    {
     "name": "stdout",
     "output_type": "stream",
     "text": [
      "[ 90  80 100  80 100  80 100  90 100  80  80  73 100 100  73  73  80 100\n",
      " 100 100  90  73 100  73  90  73  80  73  90 100  80 100 100  73 100  73\n",
      " 100  73 100  90 100 100 100 100 100  90  73 100  80  73 100 100 100 100\n",
      " 100  73 100 100 100 100  80  73 100 100 100 100  90  90 100 100  90  90\n",
      "  73  90  90  73 100  80 100  90  73  80  90 100  90  73  90 100  73 100\n",
      " 100  73  80  90  80 100 100  80  90  90 100  90 100 100  90  90 100  73\n",
      "  90 100  90  80  90 100  73 100  90 100 100  90 100 100 100  90 100  73\n",
      "  90  73 100  80 100  80 100  80 100 100 100 100  80 100  90 100 100 100\n",
      "  90  90 100 100  80  73 100  73  73  90 100 100 100 100 100 100 100 100\n",
      "  73 100  80 100 100  73  90 100  80 100  73  90 100  73 100  73 100 100\n",
      " 100 100 100 100 100  90  73  80 100  73 100 100  80  80  73 100  73 100\n",
      "  73 100  73  73 100  80 100 100  90  73  73  73  80 100  90 100  90 100\n",
      " 100  80 100  90 100 100  80  90  90  73  80  80  73  80 100  73 100  80\n",
      "  90 100 100 100 100 100 100 100  73 100 100  90 100  73  73 100  90  73\n",
      "  80 100 100  80  73  73  90 100  80  90  80  90 100  90 100  73  73  73\n",
      " 100  73  80  90 100 100  90 100  80 100 100  73  90  80  90 100 100  73\n",
      "  73 100  73  80  90 100  90  90 100 100 100 100  80 100 100  73 100  73\n",
      "  80  73  80  73  80  73  73  73 100  90 100 100  80  80 100  80 100 100\n",
      "  80 100  80  73  90  90 100]\n"
     ]
    }
   ],
   "source": [
    "from sklearn.pipeline import Pipeline\n",
    "from sklearn.preprocessing import StandardScaler\n",
    "from sklearn.tree import DecisionTreeClassifier\n",
    "from sklearn.ensemble import RandomForestClassifier\n",
    "from sklearn.model_selection import train_test_split, GridSearchCV\n",
    "from sklearn.impute import SimpleImputer\n",
    "from sklearn.multioutput import MultiOutputClassifier\n",
    "\n",
    "# shuffle and split, stratify keeps target distribution same in train/test\n",
    "model1_X_train, model1_X_test, model1_y_train, model1_y_test = train_test_split(model1_X, \n",
    "                                                                                model1_y, \n",
    "                                                                                test_size = 0.15, \n",
    "                                                                                random_state = 42)\n",
    "\n",
    "model1_steps = [('std_scaler', StandardScaler()),\n",
    "        ('dec_tree', DecisionTreeClassifier(random_state = 42))]\n",
    "\n",
    "model1_pipeline = Pipeline(model1_steps)\n",
    "\n",
    "\n",
    "# Train the pipeline (tranformations & predictor)\n",
    "model1_pipeline.fit(model1_X_train, model1_y_train)\n",
    "\n",
    "model1_prediction = model1_pipeline.predict(model1_X_test)\n",
    "print(model1_prediction)\n",
    "\n",
    "\n",
    "# pipe = Pipeline([('mms', MinMaxScaler()),\n",
    "#                  ('tree', DecisionTreeClassifier(random_state=123))])\n",
    "\n",
    "# Create the grid parameter\n",
    "# grid = [{'tree__max_depth': [None, 2, 6, 10], \n",
    "#          'tree__min_samples_split': [5, 10]}]"
   ]
  },
  {
   "cell_type": "code",
   "execution_count": 24,
   "metadata": {},
   "outputs": [],
   "source": [
    "model1_pipe_grid = {'dec_tree__criterion': ['gini', 'entropy'],\n",
    "                   'dec_tree__max_depth': [2,4,6,8,10,12]}\n",
    "\n",
    "model1_gs_pipe = GridSearchCV(estimator = model1_pipeline, \n",
    "                       param_grid = model1_pipe_grid, scoring = 'precision_micro')\n",
    "\n",
    "model1_gs_pipe.fit(model1_X_train, model1_y_train);"
   ]
  },
  {
   "cell_type": "code",
   "execution_count": 25,
   "metadata": {},
   "outputs": [
    {
     "data": {
      "text/plain": [
       "dict_keys(['memory', 'steps', 'verbose', 'std_scaler', 'dec_tree', 'std_scaler__copy', 'std_scaler__with_mean', 'std_scaler__with_std', 'dec_tree__ccp_alpha', 'dec_tree__class_weight', 'dec_tree__criterion', 'dec_tree__max_depth', 'dec_tree__max_features', 'dec_tree__max_leaf_nodes', 'dec_tree__min_impurity_decrease', 'dec_tree__min_impurity_split', 'dec_tree__min_samples_leaf', 'dec_tree__min_samples_split', 'dec_tree__min_weight_fraction_leaf', 'dec_tree__presort', 'dec_tree__random_state', 'dec_tree__splitter'])"
      ]
     },
     "execution_count": 25,
     "metadata": {},
     "output_type": "execute_result"
    }
   ],
   "source": [
    "model1_pipeline.get_params().keys()"
   ]
  },
  {
   "cell_type": "code",
   "execution_count": 26,
   "metadata": {},
   "outputs": [
    {
     "data": {
      "text/plain": [
       "[('std_scaler', StandardScaler()),\n",
       " ('dec_tree', DecisionTreeClassifier(random_state=42))]"
      ]
     },
     "execution_count": 26,
     "metadata": {},
     "output_type": "execute_result"
    }
   ],
   "source": [
    "model1_pipeline.steps"
   ]
  },
  {
   "cell_type": "code",
   "execution_count": 27,
   "metadata": {},
   "outputs": [
    {
     "data": {
      "text/plain": [
       "{'dec_tree__criterion': 'entropy', 'dec_tree__max_depth': 12}"
      ]
     },
     "execution_count": 27,
     "metadata": {},
     "output_type": "execute_result"
    }
   ],
   "source": [
    "model1_gs_pipe.best_params_"
   ]
  },
  {
   "cell_type": "code",
   "execution_count": 28,
   "metadata": {},
   "outputs": [
    {
     "data": {
      "text/plain": [
       "0.945619335347432"
      ]
     },
     "execution_count": 28,
     "metadata": {},
     "output_type": "execute_result"
    }
   ],
   "source": [
    "model1_gs_pipe.score(model1_X_test, model1_y_test)"
   ]
  },
  {
   "cell_type": "code",
   "execution_count": 29,
   "metadata": {},
   "outputs": [
    {
     "data": {
      "text/plain": [
       "[('SE', 0.19453615674767707),\n",
       " ('PS1', 0.24072435174629786),\n",
       " ('TS4', 0.008120623820818783),\n",
       " ('PS2', 0.41797712572775064),\n",
       " ('PS3', 0.00573676023908782),\n",
       " ('TS3', 0.004217715390275393),\n",
       " ('VS1', 0.006428939722140738),\n",
       " ('TS2', 0.02282218153058899),\n",
       " ('PS6', 0.02832479075636813),\n",
       " ('PS4', 0.012805097334171808),\n",
       " ('TS1', 0.02383439741064216),\n",
       " ('PS5', 0.022922254314251395),\n",
       " ('CP', 0.00099364935334394),\n",
       " ('CE', 0.0030540777979573704),\n",
       " ('EPS1', 0.0029809480600318196),\n",
       " ('FS1', 0.004520930048596072),\n",
       " ('FS2', 0.0)]"
      ]
     },
     "execution_count": 29,
     "metadata": {},
     "output_type": "execute_result"
    }
   ],
   "source": [
    "list(zip(model1_X_train.columns,model1_gs_pipe.best_estimator_.named_steps['dec_tree'].feature_importances_))"
   ]
  },
  {
   "cell_type": "markdown",
   "metadata": {},
   "source": [
    "## Modeling - Multiple Model Testing - "
   ]
  },
  {
   "cell_type": "code",
   "execution_count": 30,
   "metadata": {},
   "outputs": [],
   "source": [
    "from sklearn.pipeline import Pipeline\n",
    "from sklearn.preprocessing import StandardScaler\n",
    "from sklearn.linear_model import LogisticRegression\n",
    "from sklearn.tree import DecisionTreeClassifier\n",
    "from sklearn.ensemble import RandomForestClassifier\n",
    "from sklearn.neighbors import KNeighborsClassifier\n",
    "from sklearn import svm\n",
    "from sklearn.svm import SVC\n",
    "from xgboost import XGBClassifier\n",
    "from sklearn.model_selection import train_test_split, GridSearchCV\n",
    "\n",
    "model1_lr_pipe = Pipeline([('scaler', StandardScaler()),\n",
    "                    ('lr', LogisticRegression(random_state = 42))])\n",
    "\n",
    "model1_dtree_pipe = Pipeline([('scaler', StandardScaler()),\n",
    "                    ('dtree',DecisionTreeClassifier(random_state = 42))])\n",
    "\n",
    "model1_rf_pipe = Pipeline([('scaler', StandardScaler()),\n",
    "                    ('rf',RandomForestClassifier(random_state = 42))])\n",
    "\n",
    "model1_knn_pipe = Pipeline([('scaler', StandardScaler()),\n",
    "                    ('knn', KNeighborsClassifier())])\n",
    "\n",
    "model1_svm_pipe = Pipeline([('scaler', StandardScaler()),\n",
    "                     ('svm', svm.SVC(random_state = 42))])\n",
    "\n",
    "model1_xgb_pipe = Pipeline([('scaler', StandardScaler()),\n",
    "                     ('xgb', XGBClassifier(random_state = 42))])"
   ]
  },
  {
   "cell_type": "code",
   "execution_count": 31,
   "metadata": {},
   "outputs": [],
   "source": [
    "param_range = [1, 2, 3, 4, 5, 6]\n",
    "param_range_fl = [1.0, 0.5, 0.1]\n",
    "n_estimators = [50, 100, 150]\n",
    "learning_rates = [.1, .2, .3]\n",
    "\n",
    "lr_param_grid = [{'lr__penalty': ['l1', 'l2'],\n",
    "                   'lr__C': param_range_fl,\n",
    "                   'lr__solver': ['liblinear']}]\n",
    "\n",
    "dtree_param_grid = [{'dtree__criterion': ['gini', 'entropy'],\n",
    "                   'dtree__min_samples_leaf': param_range,\n",
    "                   'dtree__max_depth': param_range,\n",
    "                   'dtree__min_samples_split': param_range[1:]}]\n",
    "\n",
    "rf_param_grid = [{'rf__min_samples_leaf': param_range,\n",
    "                   'rf__max_depth': param_range,\n",
    "                   'rf__min_samples_split': param_range[1:]}]\n",
    "\n",
    "knn_param_grid = [{'knn__n_neighbors': param_range,\n",
    "                   'knn__weights': ['uniform', 'distance'],\n",
    "                   'knn__metric': ['euclidean', 'manhattan']}]\n",
    "\n",
    "svm_param_grid = [{'svm__kernel': ['linear', 'rbf'], \n",
    "                    'svm__C': param_range}]\n",
    "\n",
    "xgb_param_grid = [{'xgb__learning_rate': learning_rates,\n",
    "                    'xgb__max_depth': param_range,\n",
    "                    'xgb__min_child_weight': param_range[:2],\n",
    "                    'xgb__subsample': param_range_fl,\n",
    "                    'xgb__n_estimators': n_estimators}]"
   ]
  },
  {
   "cell_type": "code",
   "execution_count": 32,
   "metadata": {},
   "outputs": [],
   "source": [
    "lr_grid_search = GridSearchCV(estimator = model1_lr_pipe,\n",
    "        param_grid = lr_param_grid,\n",
    "        scoring = 'accuracy',\n",
    "        cv = 3)\n",
    "\n",
    "dtree_grid_search = GridSearchCV(estimator = model1_dtree_pipe,\n",
    "        param_grid = dtree_param_grid,\n",
    "        scoring = 'accuracy',\n",
    "        cv = 3)\n",
    "\n",
    "rf_grid_search = GridSearchCV(estimator = model1_rf_pipe,\n",
    "        param_grid = rf_param_grid,\n",
    "        scoring = 'accuracy',\n",
    "        cv = 3)\n",
    "\n",
    "knn_grid_search = GridSearchCV(estimator = model1_knn_pipe,\n",
    "        param_grid = knn_param_grid,\n",
    "        scoring ='accuracy',\n",
    "        cv = 3)\n",
    "\n",
    "svm_grid_search = GridSearchCV(estimator = model1_svm_pipe,\n",
    "        param_grid = svm_param_grid,\n",
    "        scoring = 'accuracy',\n",
    "        cv = 3)\n",
    "\n",
    "xgb_grid_search = GridSearchCV(estimator = model1_xgb_pipe,\n",
    "        param_grid = xgb_param_grid,\n",
    "        scoring = 'accuracy',\n",
    "        cv = 3)"
   ]
  },
  {
   "cell_type": "code",
   "execution_count": 33,
   "metadata": {},
   "outputs": [],
   "source": [
    "grids = [lr_grid_search, dtree_grid_search, rf_grid_search, knn_grid_search, svm_grid_search, xgb_grid_search]\n",
    "\n",
    "for i in grids:\n",
    "    i.fit(model1_X_train, model1_y_train)"
   ]
  },
  {
   "cell_type": "code",
   "execution_count": 48,
   "metadata": {
    "scrolled": true
   },
   "outputs": [
    {
     "name": "stdout",
     "output_type": "stream",
     "text": [
      "Logistic Regression Test Accuracy: 0.8731117824773413\n",
      "Logistic Regression Best Params: {'lr__C': 1.0, 'lr__penalty': 'l1', 'lr__solver': 'liblinear'}\n",
      "Decision Trees Test Accuracy: 0.7915407854984894\n",
      "Decision Trees Best Params: {'dtree__criterion': 'gini', 'dtree__max_depth': 6, 'dtree__min_samples_leaf': 1, 'dtree__min_samples_split': 6}\n",
      "Random Forest Test Accuracy: 0.851963746223565\n",
      "Random Forest Best Params: {'rf__max_depth': 6, 'rf__min_samples_leaf': 1, 'rf__min_samples_split': 2}\n",
      "K-Nearest Neighbors Test Accuracy: 0.918429003021148\n",
      "K-Nearest Neighbors Best Params: {'knn__metric': 'manhattan', 'knn__n_neighbors': 1, 'knn__weights': 'uniform'}\n",
      "Support Vector Machines Test Accuracy: 0.9788519637462235\n",
      "Support Vector Machines Best Params: {'svm__C': 6, 'svm__kernel': 'linear'}\n",
      "XGBoost Test Accuracy: 0.9758308157099698\n",
      "XGBoost Best Params: {'xgb__learning_rate': 0.2, 'xgb__max_depth': 5, 'xgb__min_child_weight': 1, 'xgb__n_estimators': 150, 'xgb__subsample': 0.5}\n"
     ]
    }
   ],
   "source": [
    "grid_dict = {0: 'Logistic Regression', 1: 'Decision Trees', \n",
    "             2: 'Random Forest', 3: 'K-Nearest Neighbors', \n",
    "             4: 'Support Vector Machines', 5: 'XGBoost'}\n",
    "\n",
    "for i, model in enumerate(grids):\n",
    "    print('{} Test Accuracy: {}'.format(grid_dict[i],\\\n",
    "    model.score(model1_X_test, model1_y_test)))\n",
    "    print('{} Best Params: {}'.format(grid_dict[i], model.best_params_))"
   ]
  },
  {
   "cell_type": "code",
   "execution_count": 42,
   "metadata": {},
   "outputs": [
    {
     "data": {
      "text/plain": [
       "[('SE', 0.15434223),\n",
       " ('PS1', 0.10391352),\n",
       " ('TS4', 0.042160183),\n",
       " ('PS2', 0.11320298),\n",
       " ('PS3', 0.03422909),\n",
       " ('TS3', 0.03639205),\n",
       " ('VS1', 0.039523546),\n",
       " ('TS2', 0.03813628),\n",
       " ('PS6', 0.061233833),\n",
       " ('PS4', 0.036147367),\n",
       " ('TS1', 0.035341565),\n",
       " ('PS5', 0.044516552),\n",
       " ('CP', 0.03398353),\n",
       " ('CE', 0.035077635),\n",
       " ('EPS1', 0.03397002),\n",
       " ('FS1', 0.12027811),\n",
       " ('FS2', 0.037551474)]"
      ]
     },
     "execution_count": 42,
     "metadata": {},
     "output_type": "execute_result"
    }
   ],
   "source": [
    "list(zip(model1_X_train.columns, xgb_grid_search.best_estimator_.named_steps['xgb'].feature_importances_))"
   ]
  },
  {
   "cell_type": "code",
   "execution_count": 52,
   "metadata": {},
   "outputs": [
    {
     "data": {
      "image/png": "[encoded data removed]",
      "text/plain": [
       "<Figure size 432x288 with 2 Axes>"
      ]
     },
     "metadata": {
      "needs_background": "light"
     },
     "output_type": "display_data"
    }
   ],
   "source": [
    "from sklearn.metrics import plot_confusion_matrix\n",
    "plot_confusion_matrix(xgb_grid_search, \n",
    "                      model1_X_test, \n",
    "                      model1_y_test,\n",
    "                      cmap = plt.cm.Blues)\n",
    "plt.show()"
   ]
  },
  {
   "cell_type": "code",
   "execution_count": 54,
   "metadata": {},
   "outputs": [
    {
     "data": {
      "image/png": "[encoded data removed]",
      "text/plain": [
       "<Figure size 432x288 with 2 Axes>"
      ]
     },
     "metadata": {
      "needs_background": "light"
     },
     "output_type": "display_data"
    }
   ],
   "source": [
    "plot_confusion_matrix(knn_grid_search, \n",
    "                      model1_X_test, \n",
    "                      model1_y_test,\n",
    "                      cmap = plt.cm.Blues)\n",
    "plt.show()"
   ]
  },
  {
   "cell_type": "markdown",
   "metadata": {},
   "source": [
    "## Modeling - Multiple Target Variables"
   ]
  },
  {
   "cell_type": "code",
   "execution_count": null,
   "metadata": {},
   "outputs": [],
   "source": []
  },
  {
   "cell_type": "code",
   "execution_count": null,
   "metadata": {},
   "outputs": [],
   "source": []
  },
  {
   "cell_type": "code",
   "execution_count": null,
   "metadata": {},
   "outputs": [],
   "source": []
  }
 ],
 "metadata": {
  "jupytext": {
   "formats": "ipynb,py:percent"
  },
  "kernelspec": {
   "display_name": "Python 3",
   "language": "python",
   "name": "python3"
  },
  "language_info": {
   "codemirror_mode": {
    "name": "ipython",
    "version": 3
   },
   "file_extension": ".py",
   "mimetype": "text/x-python",
   "name": "python",
   "nbconvert_exporter": "python",
   "pygments_lexer": "ipython3",
   "version": "3.8.5"
  },
  "latex_envs": {
   "LaTeX_envs_menu_present": true,
   "autoclose": false,
   "autocomplete": true,
   "bibliofile": "biblio.bib",
   "cite_by": "apalike",
   "current_citInitial": 1,
   "eqLabelWithNumbers": true,
   "eqNumInitial": 1,
   "hotkeys": {
    "equation": "Ctrl-E",
    "itemize": "Ctrl-I"
   },
   "labels_anchors": false,
   "latex_user_defs": false,
   "report_style_numbering": false,
   "user_envs_cfg": false
  },
  "varInspector": {
   "cols": {
    "lenName": 16,
    "lenType": 16,
    "lenVar": 40
   },
   "kernels_config": {
    "python": {
     "delete_cmd_postfix": "",
     "delete_cmd_prefix": "del ",
     "library": "var_list.py",
     "varRefreshCmd": "print(var_dic_list())"
    },
    "r": {
     "delete_cmd_postfix": ") ",
     "delete_cmd_prefix": "rm(",
     "library": "var_list.r",
     "varRefreshCmd": "cat(var_dic_list()) "
    }
   },
   "types_to_exclude": [
    "module",
    "function",
    "builtin_function_or_method",
    "instance",
    "_Feature"
   ],
   "window_display": false
  }
 },
 "nbformat": 4,
 "nbformat_minor": 4
}
