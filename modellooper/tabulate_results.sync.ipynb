{
 "cells": [
  {
   "cell_type": "code",
   "execution_count": 118,
   "metadata": {},
   "outputs": [],
   "source": [
    "import os\n",
    "from tabulate import tabulate\n",
    "from glob import iglob\n",
    "import pandas as pd\n",
    "from joblib import dump, load\n",
    "import pickle\n",
    "from typing import Union, BinaryIO\n",
    "\n",
    "import matplotlib.pyplot as plt\n",
    "import seaborn as sns"
   ]
  },
  {
   "cell_type": "code",
   "execution_count": 115,
   "metadata": {
    "scrolled": false
   },
   "outputs": [],
   "source": [
    "with open(\"../models/test_summary.txt\", \"r\") as file:\n",
    "    summary = file.readlines()\n",
    "for line in summary:\n",
    "    if line.startswith(\"\\n\"):\n",
    "        summary.remove(line)\n"
   ]
  },
  {
   "cell_type": "code",
   "execution_count": 116,
   "metadata": {
    "scrolled": false
   },
   "outputs": [
    {
     "name": "stdout",
     "output_type": "stream",
     "text": [
      "| Feature    | Target                    |   KNN Accuracry |   XGBoost Accuracy |\n",
      "|------------|---------------------------|-----------------|--------------------|\n",
      "| avg_3rds   | Cooler_Condition          |        1        |           1        |\n",
      "| avg_change | Cooler_Condition          |        0.924471 |           0.987915 |\n",
      "| cycle_mean | Cooler_Condition          |        1        |           1        |\n",
      "| dx_3rds    | Cooler_Condition          |        0.927492 |           0.996979 |\n",
      "| std_3rds   | Cooler_Condition          |        0.996979 |           0.990937 |\n",
      "| std_dev    | Cooler_Condition          |        0.990937 |           0.990937 |\n",
      "| avg_3rds   | Hydraulic_accumulator_bar |        0.963746 |           0.987915 |\n",
      "| avg_change | Hydraulic_accumulator_bar |        0.818731 |           0.963746 |\n",
      "| cycle_mean | Hydraulic_accumulator_bar |        0.963746 |           0.969789 |\n",
      "| dx_3rds    | Hydraulic_accumulator_bar |        0.670695 |           0.942598 |\n",
      "| std_3rds   | Hydraulic_accumulator_bar |        0.930514 |           0.975831 |\n",
      "| std_dev    | Hydraulic_accumulator_bar |        0.8429   |           0.915408 |\n",
      "| avg_3rds   | Internal_pump_leakage     |        0.990937 |           0.996979 |\n",
      "| avg_change | Internal_pump_leakage     |        0.697885 |           0.854985 |\n",
      "| cycle_mean | Internal_pump_leakage     |        0.990937 |           0.987915 |\n",
      "| dx_3rds    | Internal_pump_leakage     |        0.646526 |           0.794562 |\n",
      "| std_3rds   | Internal_pump_leakage     |        0.92145  |           0.969789 |\n",
      "| std_dev    | Internal_pump_leakage     |        0.963746 |           0.984894 |\n",
      "| avg_3rds   | stable_flag               |        0.966767 |           0.963746 |\n",
      "| avg_change | stable_flag               |        0.827795 |           0.942598 |\n",
      "| cycle_mean | stable_flag               |        0.963746 |           0.966767 |\n",
      "| dx_3rds    | stable_flag               |        0.800604 |           0.912387 |\n",
      "| std_3rds   | stable_flag               |        0.957704 |           0.969789 |\n",
      "| std_dev    | stable_flag               |        0.954683 |           0.969789 |\n",
      "| avg_3rds   | Valve_Condition           |        0.984894 |           0.987915 |\n",
      "| avg_change | Valve_Condition           |        0.465257 |           0.504532 |\n",
      "| cycle_mean | Valve_Condition           |        0.918429 |           0.97281  |\n",
      "| dx_3rds    | Valve_Condition           |        0.44713  |           0.483384 |\n",
      "| std_3rds   | Valve_Condition           |        0.694864 |           0.933535 |\n",
      "| std_dev    | Valve_Condition           |        0.752266 |           0.960725 |\n"
     ]
    }
   ],
   "source": [
    "table = [[\"Feature\", \"Target\", \"KNN Accuracry\", \"XGBoost Accuracy\"]]\n",
    "output = []\n",
    "for line in range(len(summary)):\n",
    "    if summary[line].startswith(\"F\"):\n",
    "        feat = summary[line].split()[-1]\n",
    "        targ = summary[line+1].split()[-1]\n",
    "        knn = summary[line+2].split()[-1]\n",
    "        xgb = summary[line+3].split()[-1]\n",
    "        table.append([feat, targ, knn, xgb])\n",
    "print(tabulate(table, headers='firstrow', tablefmt='github'))"
   ]
  },
  {
   "cell_type": "markdown",
   "metadata": {},
   "source": [
    "| Feature    | Target                    |   KNN Accuracry |   XGBoost Accuracy |\n",
    "|------------|---------------------------|-----------------|--------------------|\n",
    "| avg_3rds   | Cooler_Condition          |        1        |           1        |\n",
    "| avg_change | Cooler_Condition          |        0.924471 |           0.987915 |\n",
    "| cycle_mean | Cooler_Condition          |        1        |           1        |\n",
    "| dx_3rds    | Cooler_Condition          |        0.927492 |           0.996979 |\n",
    "| std_3rds   | Cooler_Condition          |        0.996979 |           0.990937 |\n",
    "| std_dev    | Cooler_Condition          |        0.990937 |           0.990937 |\n",
    "| avg_3rds   | Hydraulic_accumulator_bar |        0.963746 |           0.987915 |\n",
    "| avg_change | Hydraulic_accumulator_bar |        0.818731 |           0.963746 |\n",
    "| cycle_mean | Hydraulic_accumulator_bar |        0.963746 |           0.969789 |\n",
    "| dx_3rds    | Hydraulic_accumulator_bar |        0.670695 |           0.942598 |\n",
    "| std_3rds   | Hydraulic_accumulator_bar |        0.930514 |           0.975831 |\n",
    "| std_dev    | Hydraulic_accumulator_bar |        0.8429   |           0.915408 |\n",
    "| avg_3rds   | Internal_pump_leakage     |        0.990937 |           0.996979 |\n",
    "| avg_change | Internal_pump_leakage     |        0.697885 |           0.854985 |\n",
    "| cycle_mean | Internal_pump_leakage     |        0.990937 |           0.987915 |\n",
    "| dx_3rds    | Internal_pump_leakage     |        0.646526 |           0.794562 |\n",
    "| std_3rds   | Internal_pump_leakage     |        0.92145  |           0.969789 |\n",
    "| std_dev    | Internal_pump_leakage     |        0.963746 |           0.984894 |\n",
    "| avg_3rds   | stable_flag               |        0.966767 |           0.963746 |\n",
    "| avg_change | stable_flag               |        0.827795 |           0.942598 |\n",
    "| cycle_mean | stable_flag               |        0.963746 |           0.966767 |\n",
    "| dx_3rds    | stable_flag               |        0.800604 |           0.912387 |\n",
    "| std_3rds   | stable_flag               |        0.957704 |           0.969789 |\n",
    "| std_dev    | stable_flag               |        0.954683 |           0.969789 |\n",
    "| avg_3rds   | Valve_Condition           |        0.984894 |           0.987915 |\n",
    "| avg_change | Valve_Condition           |        0.465257 |           0.504532 |\n",
    "| cycle_mean | Valve_Condition           |        0.918429 |           0.97281  |\n",
    "| dx_3rds    | Valve_Condition           |        0.44713  |           0.483384 |\n",
    "| std_3rds   | Valve_Condition           |        0.694864 |           0.933535 |\n",
    "| std_dev    | Valve_Condition           |        0.752266 |           0.960725 |"
   ]
  },
  {
   "cell_type": "markdown",
   "metadata": {},
   "source": [
    "| Feature    |   Target                  |   KNN Accuracry |   XGBoost Accuracy |\n",
    "|   :---:    |          :---:            |      :---:      |        :---:       |\n",
    "| St   | Cooler_Condition          |        0.996979 |           0.996979 |\n",
    "| avg_3rds   | Hydraulic_accumulator_bar |        0.963746 |           0.987915 |\n",
    "| avg_3rds   | Internal_pump_leakage     |        0.990937 |           0.996979 |\n",
    "| avg_3rds   | stable_flag               |        0.966767 |           0.963746 |\n",
    "| avg_3rds   | Valve_Condition           |        0.984894 |           0.987915 |"
   ]
  },
  {
   "cell_type": "code",
   "execution_count": 1,
   "metadata": {},
   "outputs": [],
   "source": [
    "run \"../src/RegularModel.py\""
   ]
  },
  {
   "cell_type": "code",
   "execution_count": 4,
   "metadata": {},
   "outputs": [],
   "source": [
    "model = load(\"../models/Internal_pump_leakage_avg_3rds.pkl\")"
   ]
  },
  {
   "cell_type": "code",
   "execution_count": 40,
   "metadata": {},
   "outputs": [
    {
     "name": "stdout",
     "output_type": "stream",
     "text": [
      "mean_FS1_2: 0.295784\n",
      "mean_SE_3: 0.263202\n",
      "mean_EPS1_1: 0.138062\n",
      "mean_TS1_3: 0.103163\n",
      "mean_PS2_2: 0.036164\n",
      "mean_PS1_2: 0.036125\n",
      "mean_PS1_3: 0.035623\n",
      "mean_TS2_1: 0.025716\n",
      "mean_EPS1_2: 0.019335\n",
      "mean_FS1_3: 0.016336\n",
      "mean_TS1_1: 0.012312\n",
      "mean_VS1_2: 0.002524\n",
      "mean_VS1_3: 0.002438\n",
      "mean_TS2_2: 0.002181\n",
      "mean_PS2_1: 0.001697\n",
      "mean_VS1_1: 0.001256\n",
      "mean_PS2_3: 0.001090\n",
      "mean_CE_1: 0.000837\n",
      "mean_EPS1_3: 0.000701\n",
      "mean_TS2_3: 0.000652\n",
      "mean_SE_2: 0.000639\n",
      "mean_TS1_2: 0.000632\n",
      "mean_FS2_3: 0.000625\n",
      "mean_FS2_2: 0.000615\n",
      "mean_PS3_3: 0.000548\n",
      "mean_CP_1: 0.000477\n",
      "mean_PS3_1: 0.000370\n",
      "mean_PS6_1: 0.000306\n",
      "mean_PS1_1: 0.000301\n",
      "mean_SE_1: 0.000289\n"
     ]
    }
   ],
   "source": [
    "feature_importances = model.xgb_grid_search.best_estimator_.steps[1][1].feature_importances_\n",
    "feature_columns = model._X_train.columns\n",
    "fi_list = list(filter(lambda x : x[1] > 0, zip(feature_columns, feature_importances)))\n",
    "fi_list.sort(reverse=True, key = lambda x : x[1])\n",
    "for col, num in fi_list:\n",
    "#     if count == 3:\n",
    "#         print(\"\\n\")\n",
    "#         count = 0\n",
    "    print(f\"{col}: {num:5f}\")\n",
    "#     count += 1"
   ]
  },
  {
   "cell_type": "code",
   "execution_count": 59,
   "metadata": {},
   "outputs": [],
   "source": [
    "def feature_importance(file_path:str):\n",
    "    model = load(file_path)\n",
    "    feature_importances = model.xgb_grid_search.best_estimator_.steps[1][1].feature_importances_\n",
    "    feature_columns = model._X_train.columns\n",
    "    fi_list = list(filter(lambda x : x[1] > 0, zip(feature_columns, feature_importances)))\n",
    "    fi_list.sort(reverse=True, key = lambda x : x[1])\n",
    "    return fi_list"
   ]
  },
  {
   "cell_type": "code",
   "execution_count": 129,
   "metadata": {},
   "outputs": [],
   "source": [
    "final_pairs = ['Cooler_Condition_std_3rds', 'Hydraulic_accumulator_bar_avg_3rds', 'Internal_pump_leakage_avg_3rds', 'stable_flag_avg_3rds', 'Valve_Condition_avg_3rds']"
   ]
  },
  {
   "cell_type": "code",
   "execution_count": 124,
   "metadata": {
    "scrolled": false
   },
   "outputs": [],
   "source": [
    "# files = [file for file in iglob(\"../models/*.pkl\") if os.path.basename(file)[:-4] in final_pairs]\n",
    "\n",
    "def get_feature_counts(sensor_info:str=\"./**/sensor_info.pkl\", model_search:str=\"\", top:int=5):\n",
    "    with open(sensor_info, \"rb\") as file:\n",
    "        sensors = pickle.load(file)\n",
    "        col_names = sensors.keys() \n",
    "    files = [file for file in iglob(model_search)]\n",
    "    feature_counts= {}\n",
    "    for file in files:\n",
    "        pair = os.path.basename(file)[:-4]\n",
    "        fi = feature_importance(file)[:top]\n",
    "    #     print(f\"\\n{pair}:\")\n",
    "        for name, itm in fi:\n",
    "            name = name.split(\"_\")\n",
    "            feature = [word for word in name if word in col_names]\n",
    "    #         print(f\"{next(feature)}: {itm:.5f}\")\n",
    "            if feature[0] in feature_counts.keys():\n",
    "                feature_counts[feature[0]] += 1\n",
    "                continue\n",
    "            feature_counts.update({feature[0]: 1})\n",
    "\n",
    "    features = list(feature_counts.items())\n",
    "    features.sort(reverse=True, key=lambda x : x[1])\n",
    "    feature_ids, feature_count = [[k for k, v in features],\n",
    "                 [v for k, v in features]]\n",
    "    return (feature_ids, feature_count)"
   ]
  },
  {
   "cell_type": "code",
   "execution_count": 133,
   "metadata": {},
   "outputs": [],
   "source": [
    "targets = ['Cooler_Condition*', 'Hydraulic_accumulator_bar*', 'Internal_pump_leakage*', 'stable_flag*', 'Valve_Condition*']"
   ]
  },
  {
   "cell_type": "code",
   "execution_count": 149,
   "metadata": {
    "scrolled": false
   },
   "outputs": [
    {
     "data": {
      "image/png": "[encoded data removed]",
      "text/plain": [
       "<Figure size 1200x800 with 6 Axes>"
      ]
     },
     "metadata": {},
     "output_type": "display_data"
    }
   ],
   "source": [
    "ax_num = (divmod(num, 2) for num in range(10))\n",
    "fig, ax = plt.subplots(3, 2, figsize=(12,8), tight_layout=\"tight\")\n",
    "for model in targets:\n",
    "    ax_i = ax[next(ax_num)]\n",
    "    path = f\"../models/{model}.pkl\"\n",
    "    x, y = get_feature_counts(\"../features/sensor_info.pkl\", path, top=8)\n",
    "#     print(x, y)\n",
    "    sns.barplot(x=x, y=y, ax=ax_i)\n",
    "    plt.suptitle(\"Top Sensors for\")\n",
    "    ax_i.set_title(model)\n",
    "    # plt.yticks(range(0, 30, 2))\n",
    "plt.show()"
   ]
  },
  {
   "cell_type": "code",
   "execution_count": 203,
   "metadata": {},
   "outputs": [],
   "source": [
    "def get_feature_avg(sensor_info:str=\"./**/sensor_info.pkl\", model_search:str=\"\", top:int=5):\n",
    "    with open(sensor_info, \"rb\") as file:\n",
    "        sensors = pickle.load(file)\n",
    "        col_names = sensors.keys() \n",
    "    files = [file for file in iglob(model_search)]\n",
    "    feature_counts= {}\n",
    "    for file in files:\n",
    "        pair = os.path.basename(file)[:-4]\n",
    "        fi = feature_importance(file)[:top]\n",
    "    #     print(f\"\\n{pair}:\")\n",
    "        for name, itm in fi:\n",
    "            name = name.split(\"_\")\n",
    "#             feature = [word for word in name if word in col_names]\n",
    "            feature = [name[ind] for ind in range(len(name)) if name[ind].isupper()]\n",
    "            if not name[-1] == feature[0]:\n",
    "                feature[0] = (feature[0], name[-1])\n",
    "#             feature = [name[ind+1] for ind in range(len(name)) if name[ind].isupper()]\n",
    "#             print(f\"{next(feature)}: {itm:.5f}\")\n",
    "            if feature[0] in feature_counts.keys():\n",
    "                feature_counts[feature[0]].append(itm)\n",
    "                continue\n",
    "            feature_counts.update({feature[0]: [itm]})\n",
    "\n",
    "    features = list(feature_counts.items())\n",
    "    features.sort(reverse=True, key=lambda x : x[1])\n",
    "    feature_ids, feature_arr = [[k for k, v in features],\n",
    "                 [v for k, v in features]]\n",
    "    feature_avg = []\n",
    "    for arr in feature_arr:\n",
    "        feature_avg.append(np.mean(arr))\n",
    "    return feature_ids, feature_avg"
   ]
  },
  {
   "cell_type": "code",
   "execution_count": 204,
   "metadata": {},
   "outputs": [],
   "source": [
    "name, avg = get_feature_avg(\"../features/sensor_info.pkl\", \"../models/*.pkl\", top=10)"
   ]
  },
  {
   "cell_type": "code",
   "execution_count": 210,
   "metadata": {},
   "outputs": [],
   "source": [
    "def name_filter(x):\n",
    "    if isinstance(x, tuple):\n",
    "        return int(x[1])\n",
    "    return 0"
   ]
  },
  {
   "cell_type": "code",
   "execution_count": 225,
   "metadata": {},
   "outputs": [
    {
     "data": {
      "text/plain": [
       "([],\n",
       " [(('TS1', '1'), 0.12870742),\n",
       "  (('EPS1', '1'), 0.10662965),\n",
       "  (('SE', '1'), 0.088047385),\n",
       "  (('FS1', '1'), 0.08013861),\n",
       "  (('PS4', '1'), 0.06808045),\n",
       "  (('PS5', '1'), 0.04343231),\n",
       "  (('PS1', '1'), 0.039662875),\n",
       "  (('TS4', '1'), 0.03904135),\n",
       "  (('PS2', '1'), 0.037859865),\n",
       "  (('CE', '1'), 0.0361591),\n",
       "  (('FS2', '1'), 0.03408581),\n",
       "  (('PS3', '1'), 0.03300824),\n",
       "  (('TS2', '1'), 0.032258857),\n",
       "  (('VS1', '1'), 0.031809665),\n",
       "  (('CP', '1'), 0.027117696)],\n",
       " [(('FS1', '2'), 0.1557509),\n",
       "  (('PS2', '2'), 0.13012569),\n",
       "  (('EPS1', '2'), 0.07211589),\n",
       "  (('SE', '2'), 0.054280285),\n",
       "  (('PS5', '2'), 0.04842399),\n",
       "  (('PS3', '2'), 0.040074892),\n",
       "  (('TS4', '2'), 0.039173167),\n",
       "  (('TS2', '2'), 0.03789159),\n",
       "  (('PS6', '2'), 0.03725287),\n",
       "  (('TS1', '2'), 0.037049565),\n",
       "  (('PS1', '2'), 0.03642851),\n",
       "  (('PS4', '2'), 0.035745364),\n",
       "  (('CE', '2'), 0.024931092)],\n",
       " [(('CE', '3'), 0.36857525),\n",
       "  (('CP', '3'), 0.30823955),\n",
       "  (('PS4', '3'), 0.2176693),\n",
       "  (('TS3', '3'), 0.09411573),\n",
       "  (('SE', '3'), 0.076099925),\n",
       "  (('TS1', '3'), 0.071462445),\n",
       "  (('TS2', '3'), 0.06860474),\n",
       "  (('PS3', '3'), 0.059225947),\n",
       "  (('PS6', '3'), 0.056364875),\n",
       "  (('FS1', '3'), 0.05007259),\n",
       "  (('EPS1', '3'), 0.039503053),\n",
       "  (('TS4', '3'), 0.034999784),\n",
       "  (('PS1', '3'), 0.033184055),\n",
       "  (('FS2', '3'), 0.030932061)])"
      ]
     },
     "execution_count": 225,
     "metadata": {},
     "output_type": "execute_result"
    }
   ],
   "source": [
    "period = name\n",
    "x = list(zip(period, avg))\n",
    "x.sort(reverse=True, key=lambda x : x[1])\n",
    "zero, one, two, three = [[(zero, avg) for zero, avg in x if len(zero) < 2],\n",
    "                         [(one, avg) for one, avg in x if one[1] == '1'],\n",
    "                         [(two, avg) for two, avg in x if two[1] == '2'],\n",
    "                         [(three, avg) for three, avg in x if three[1] == '3']]\n"
   ]
  }
 ],
 "metadata": {
  "jupytext": {
   "formats": "ipynb,py:percent"
  },
  "kernelspec": {
   "display_name": "Python 3 (learn-env)",
   "language": "python",
   "name": "python3"
  },
  "language_info": {
   "codemirror_mode": {
    "name": "ipython",
    "version": 3
   },
   "file_extension": ".py",
   "mimetype": "text/x-python",
   "name": "python",
   "nbconvert_exporter": "python",
   "pygments_lexer": "ipython3",
   "version": "3.8.5"
  },
  "latex_envs": {
   "LaTeX_envs_menu_present": true,
   "autoclose": false,
   "autocomplete": true,
   "bibliofile": "biblio.bib",
   "cite_by": "apalike",
   "current_citInitial": 1,
   "eqLabelWithNumbers": true,
   "eqNumInitial": 1,
   "hotkeys": {
    "equation": "Ctrl-E",
    "itemize": "Ctrl-I"
   },
   "labels_anchors": false,
   "latex_user_defs": false,
   "report_style_numbering": false,
   "user_envs_cfg": false
  },
  "varInspector": {
   "cols": {
    "lenName": 16,
    "lenType": 16,
    "lenVar": 40
   },
   "kernels_config": {
    "python": {
     "delete_cmd_postfix": "",
     "delete_cmd_prefix": "del ",
     "library": "var_list.py",
     "varRefreshCmd": "print(var_dic_list())"
    },
    "r": {
     "delete_cmd_postfix": ") ",
     "delete_cmd_prefix": "rm(",
     "library": "var_list.r",
     "varRefreshCmd": "cat(var_dic_list()) "
    }
   },
   "types_to_exclude": [
    "module",
    "function",
    "builtin_function_or_method",
    "instance",
    "_Feature"
   ],
   "window_display": false
  }
 },
 "nbformat": 4,
 "nbformat_minor": 4
}
