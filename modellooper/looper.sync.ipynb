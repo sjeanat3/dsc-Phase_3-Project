{
 "cells": [
  {
   "cell_type": "code",
   "execution_count": 2,
   "metadata": {},
   "outputs": [],
   "source": [
    "import os\n",
    "import pickle\n",
    "from glob import iglob\n",
    "import json\n",
    "from joblib import dump\n",
    "from time import perf_counter\n",
    "from multiprocessing import Pool\n",
    "\n",
    "import matplotlib.pyplot as plt\n",
    "import numpy as np\n",
    "import pandas as pd\n",
    "import seaborn as sns\n",
    "from pandas.errors import ParserError\n",
    "from sklearn import svm\n",
    "from sklearn.ensemble import RandomForestClassifier\n",
    "from sklearn.linear_model import LogisticRegression\n",
    "from sklearn.metrics import (accuracy_score, f1_score, plot_confusion_matrix,\n",
    "                             plot_roc_curve, precision_score, recall_score,\n",
    "                             roc_auc_score)\n",
    "from sklearn.model_selection import GridSearchCV, train_test_split\n",
    "from sklearn.neighbors import KNeighborsClassifier\n",
    "from sklearn.pipeline import Pipeline\n",
    "from sklearn.preprocessing import StandardScaler\n",
    "from sklearn.svm import SVC\n",
    "from sklearn.tree import DecisionTreeClassifier\n",
    "from xgboost import XGBClassifier\n",
    "from multimodel import MultiModel"
   ]
  },
  {
   "cell_type": "code",
   "execution_count": 2,
   "metadata": {},
   "outputs": [],
   "source": [
    "run \"../graph_tool.py\""
   ]
  },
  {
   "cell_type": "code",
   "execution_count": 26,
   "metadata": {},
   "outputs": [],
   "source": [
    "%reload_ext autoreload\n",
    "%autoreload 1 \n",
    "%aimport modeling "
   ]
  },
  {
   "cell_type": "code",
   "execution_count": 4,
   "metadata": {},
   "outputs": [],
   "source": [
    "with open('../features/cond_encoding.pkl', 'rb') as encodings:\n",
    "    target = pickle.load(encodings)\n",
    "    target = [col_str.strip('/% ').rstrip() for col_str in target.keys()]\n",
    "    target = [itm.split() for itm in target]\n",
    "    for ind, itm in enumerate(target):\n",
    "        while \"/\" in itm:\n",
    "            itm.remove(\"/\")\n",
    "        target[ind] = \"_\".join(itm)"
   ]
  },
  {
   "cell_type": "code",
   "execution_count": 5,
   "metadata": {},
   "outputs": [],
   "source": [
    "y_data = pd.read_csv('../data/profile.txt', sep=\"\\t\", header=None, names=target)\n",
    "for col in y_data.columns:\n",
    "    y_data[col].to_pickle(f\"./target_variables/{col}.pkl\")"
   ]
  },
  {
   "cell_type": "code",
   "execution_count": 6,
   "metadata": {},
   "outputs": [],
   "source": [
    "features = [] \n",
    "for itm in iglob('../features/*.pkl'):\n",
    "    filename = os.path.basename(itm)[:-4]\n",
    "    if filename in [\"cond_encoding\", \"sensor_info\"]:\n",
    "        continue\n",
    "    features.append((filename, itm)) \n",
    "target_vars = [] \n",
    "for f_path in iglob(\"./target_variables/*.pkl\"):\n",
    "    filename = os.path.basename(f_path)[:-4]\n",
    "    target_vars.append((filename, f_path))"
   ]
  },
  {
   "cell_type": "code",
   "execution_count": 7,
   "metadata": {},
   "outputs": [],
   "source": [
    "args_list = []\n",
    "for name, path in target_vars:\n",
    "    for feature, pkl in features:\n",
    "        args_list.append((pkl, path, feature, name))"
   ]
  },
  {
   "cell_type": "code",
   "execution_count": 8,
   "metadata": {},
   "outputs": [],
   "source": [
    "def pool_func(args):\n",
    "    start_t = perf_counter()\n",
    "    _, _, feature, target = args\n",
    "    model_inst = MultiModel(*args)\n",
    "    model_inst.fit_model()\n",
    "    dump(model_inst, f\"../models/{target}_{feature}.pkl\")\n",
    "    with open(f\"../models/{target}_{feature}.txt\", \"w\") as log:\n",
    "        log.writelines(model_inst.print_m())\n",
    "    end_t = perf_counter()\n",
    "    return (f\"Target variable {target} with feature set {feature}\", end_t - start_t)"
   ]
  },
  {
   "cell_type": "code",
   "execution_count": 9,
   "metadata": {},
   "outputs": [
    {
     "name": "stdout",
     "output_type": "stream",
     "text": [
      "Target variable Cooler_Condition with feature set avg_3rds took 91.6036569 to compute.\n",
      "Target variable Cooler_Condition with feature set avg_change took 26.36430710000002 to compute.\n",
      "Target variable Cooler_Condition with feature set cycle_mean took 22.932991799999968 to compute.\n",
      "Target variable Cooler_Condition with feature set dx_3rds took 53.131338400000004 to compute.\n",
      "Target variable Cooler_Condition with feature set std_3rds took 49.67512549999998 to compute.\n",
      "Target variable Cooler_Condition with feature set std_dev took 26.76164060000002 to compute.\n",
      "Target variable Hydraulic_accumulator_bar with feature set avg_3rds took 104.21628130000005 to compute.\n",
      "Target variable Hydraulic_accumulator_bar with feature set avg_change took 40.48629089999997 to compute.\n"
     ]
    },
    {
     "name": "stderr",
     "output_type": "stream",
     "text": [
      "C:\\tools\\Anaconda3\\envs\\learn-env\\lib\\site-packages\\sklearn\\svm\\_base.py:976: ConvergenceWarning: Liblinear failed to converge, increase the number of iterations.\n",
      "  warnings.warn(\"Liblinear failed to converge, increase \"\n"
     ]
    },
    {
     "name": "stdout",
     "output_type": "stream",
     "text": [
      "Target variable Hydraulic_accumulator_bar with feature set cycle_mean took 50.6219433 to compute.\n",
      "Target variable Hydraulic_accumulator_bar with feature set dx_3rds took 84.14763970000001 to compute.\n",
      "Target variable Hydraulic_accumulator_bar with feature set std_3rds took 96.81083339999998 to compute.\n",
      "Target variable Hydraulic_accumulator_bar with feature set std_dev took 53.431290500000046 to compute.\n",
      "Target variable Internal_pump_leakage with feature set avg_3rds took 52.994415799999956 to compute.\n",
      "Target variable Internal_pump_leakage with feature set avg_change took 39.4562919 to compute.\n"
     ]
    },
    {
     "name": "stderr",
     "output_type": "stream",
     "text": [
      "C:\\tools\\Anaconda3\\envs\\learn-env\\lib\\site-packages\\sklearn\\svm\\_base.py:976: ConvergenceWarning: Liblinear failed to converge, increase the number of iterations.\n",
      "  warnings.warn(\"Liblinear failed to converge, increase \"\n"
     ]
    },
    {
     "name": "stdout",
     "output_type": "stream",
     "text": [
      "Target variable Internal_pump_leakage with feature set cycle_mean took 31.33738429999994 to compute.\n",
      "Target variable Internal_pump_leakage with feature set dx_3rds took 78.0019873 to compute.\n",
      "Target variable Internal_pump_leakage with feature set std_3rds took 82.62968189999992 to compute.\n",
      "Target variable Internal_pump_leakage with feature set std_dev took 36.898608600000216 to compute.\n",
      "Target variable stable_flag with feature set avg_3rds took 38.03125849999992 to compute.\n",
      "Target variable stable_flag with feature set avg_change took 20.691381200000023 to compute.\n",
      "Target variable stable_flag with feature set cycle_mean took 22.029792399999906 to compute.\n",
      "Target variable stable_flag with feature set dx_3rds took 35.419987900000024 to compute.\n",
      "Target variable stable_flag with feature set std_3rds took 39.72152260000007 to compute.\n",
      "Target variable stable_flag with feature set std_dev took 22.223691299999928 to compute.\n",
      "Target variable Valve_Condition with feature set avg_3rds took 97.17858330000013 to compute.\n",
      "Target variable Valve_Condition with feature set avg_change took 47.58167070000013 to compute.\n"
     ]
    },
    {
     "name": "stderr",
     "output_type": "stream",
     "text": [
      "C:\\tools\\Anaconda3\\envs\\learn-env\\lib\\site-packages\\sklearn\\svm\\_base.py:976: ConvergenceWarning: Liblinear failed to converge, increase the number of iterations.\n",
      "  warnings.warn(\"Liblinear failed to converge, increase \"\n"
     ]
    },
    {
     "name": "stdout",
     "output_type": "stream",
     "text": [
      "Target variable Valve_Condition with feature set cycle_mean took 52.222709800000075 to compute.\n",
      "Target variable Valve_Condition with feature set dx_3rds took 102.35675130000004 to compute.\n",
      "Target variable Valve_Condition with feature set std_3rds took 118.73700860000008 to compute.\n",
      "Target variable Valve_Condition with feature set std_dev took 49.62918489999993 to compute.\n"
     ]
    }
   ],
   "source": [
    "for args in args_list:\n",
    "    msg, duration = pool_func(args)\n",
    "    print(f\"{msg} took {duration} to compute.\")"
   ]
  },
  {
   "cell_type": "code",
   "execution_count": 24,
   "metadata": {
    "scrolled": false
   },
   "outputs": [],
   "source": [
    "test_summary = []\n",
    "for text in iglob(\"../models/*.txt\"):\n",
    "    with open(text, 'r') as log:\n",
    "        output = log.readlines()\n",
    "        index = 0\n",
    "        test_summary.append(\"-\" * 60 + \"\\n\")\n",
    "        for line in output:\n",
    "            if not index:\n",
    "                test_summary.append(line.split(\"-\")[-1] + \"\\n\")\n",
    "            if index == 1:\n",
    "                test_summary.append(line.split(\"L\")[0] + \"\\n\")\n",
    "            if \"{\" in line:\n",
    "                 continue\n",
    "            if line[0] in [\"K\", \"X\"]:\n",
    "                test_summary.append(f\"{line}\\n\")\n",
    "            index += 1"
   ]
  },
  {
   "cell_type": "code",
   "execution_count": 25,
   "metadata": {},
   "outputs": [],
   "source": [
    "with open('../models/test_summary.txt', 'w') as sum:\n",
    "    sum.writelines(test_summary)"
   ]
  }
 ],
 "metadata": {
  "kernelspec": {
   "display_name": "Python 3 (learn-env)",
   "language": "python",
   "name": "python3"
  },
  "language_info": {
   "codemirror_mode": {
    "name": "ipython",
    "version": 3
   },
   "file_extension": ".py",
   "mimetype": "text/x-python",
   "name": "python",
   "nbconvert_exporter": "python",
   "pygments_lexer": "ipython3",
   "version": "3.8.5"
  },
  "latex_envs": {
   "LaTeX_envs_menu_present": true,
   "autoclose": false,
   "autocomplete": true,
   "bibliofile": "biblio.bib",
   "cite_by": "apalike",
   "current_citInitial": 1,
   "eqLabelWithNumbers": true,
   "eqNumInitial": 1,
   "hotkeys": {
    "equation": "Ctrl-E",
    "itemize": "Ctrl-I"
   },
   "labels_anchors": false,
   "latex_user_defs": false,
   "report_style_numbering": false,
   "user_envs_cfg": false
  },
  "varInspector": {
   "cols": {
    "lenName": 16,
    "lenType": 16,
    "lenVar": 40
   },
   "kernels_config": {
    "python": {
     "delete_cmd_postfix": "",
     "delete_cmd_prefix": "del ",
     "library": "var_list.py",
     "varRefreshCmd": "print(var_dic_list())"
    },
    "r": {
     "delete_cmd_postfix": ") ",
     "delete_cmd_prefix": "rm(",
     "library": "var_list.r",
     "varRefreshCmd": "cat(var_dic_list()) "
    }
   },
   "types_to_exclude": [
    "module",
    "function",
    "builtin_function_or_method",
    "instance",
    "_Feature"
   ],
   "window_display": false
  }
 },
 "nbformat": 4,
 "nbformat_minor": 4
}
