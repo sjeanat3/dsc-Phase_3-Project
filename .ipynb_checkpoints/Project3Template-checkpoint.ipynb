{
 "cells": [
  {
   "cell_type": "markdown",
   "metadata": {},
   "source": [
    "# Skye and Drew's Excellent Adventure\n",
    "## Predictive Maintenance of Hydraulic Pumps with Industrial Applications\n"
   ]
  },
  {
   "attachments": {},
   "cell_type": "markdown",
   "metadata": {},
   "source": [
    "![Hydraulic Machine](./images/NTT-Sept-17.png)\n",
    "## Overview / Business Problem\n",
    "\n",
    "The stakeholder is a hydroponic farming start-up called Square Roots. The start-up spends a considerable amount of time and resources to maintain/monitor their irrigation systems. Square Roots is seeking to future proof their irrigation systems by monitoring the operation of mechanical components through various sensor data. This project will provide Square Roots with recommendations regarding which sensors provide the best predictive data for understanding the maintenance condition of their hydraulic pumps. By implementing these recommendations, Square Roots will be able to efficiently recognize the characteristics that imply an issues and in-turn, troubleshoot before any faults take place.\n",
    "\n",
    "This project utilizes a data set which includes sensor data from 17 separate sensors collected over 2205 60-second hydraulic pump cycles. The pump condition was recorded for each 60-second cycle. The data set include five different target variables – cooler condition, valve condition, internal pump leakage, hydraulic accumulator (hydraulic pressure), and stable flag (stable condition). Although dependent on the target variable being utilized, a false positive with this data set generally implies an issue with the pump was predicted when there was no issue. In turn, a false negative implies no issues with the pump were predicted when there was in fact an issue. With regards to our stakeholder, Square Roots, a false negative would be more detrimental. Given the multiple target variables and multiple classes within a majority of these variables, the modeling performed within this analysis focuses on optimizing accuracy, the weighted F-1 score, and ROC-AUC score."
   ]
  },
  {
   "attachments": {},
   "cell_type": "markdown",
   "metadata": {},
   "source": [
    "## Data Understanding\n",
    "\n",
    "First, we performed feature extraction to condense the time-series data into a usable set of features and then used statistical analysis tools XGBoost and K-Nearest Neighbors to train our predictive models.\n",
    "\n",
    "\n",
    "Describe the data being used for this project.\n",
    "\n",
    "Questions to consider:\n",
    "\n",
    "- Where did the data come from, and how do they relate to the data analysis questions?\n",
    "- What do the data represent? Who is in the sample and what variables are included?\n",
    "- What is the target variable?\n",
    "- What are the properties of the variables you intend to use?\n",
    "\n",
    "<p>\n",
    "<a href=\"https://archive.ics.uci.edu/ml/datasets/Condition+monitoring+of+hydraulic+systems#\">**This data**</a> comes from a set of sensor measurements taken during 2205 sixty second cycles of a hydraulic pump testing rig. During the testing the pump's maintenance status was recorded. These various metrics of the test rigs physical condition will be the target variable for our tests. The sensor data will be the predictors.\n",
    "\n",
    "The goal will be to use sensor data (such as temperature, tank pressure, vibration magnitude, etc.) to\n",
    "predict the state of the hydraulic pump.\n",
    "\n",
    "The data is split between sensors. Each sensor has a specific sample rate qhich cooresponds to the columns\n",
    "in its table. So `TS1.txt` contains temprature readings from one sensor. Its sample rate was 1hz for\n",
    "each 60 second pump cycle. Therefore, in the `TS1.txt` file there are 60 columns and 2205 rows of data.\n",
    " \n",
    "### Structure of the Data\n",
    "**The structure of the data is this:**\n",
    "1. The rows represent 1 cycle of the hydraulic test rig.\n",
    "2. The individual txt files are sensor readings, rows represent a cycle, each column is a reading\n",
    "   from that specific sensor.\n",
    "3. Readings from each table are given in hz, and each cycle lasted 60 seconds. So, a 1hz sensor\n",
    "   provides a 60 column by 2205 row table.\n",
    "4. \"Profile.txt\" contains a 5 column by 2205 row table with system states encoded in each column.\n",
    "\n",
    "### Target Variables\n",
    "**Now that we can see the structure** of our target variables a little more clearly lets take a\n",
    "look at the `profile.txt` file in our dataset. \n",
    "\n",
    "I will pull it inot a primary DataFrame object, so that we can continue to work with it; adding \n",
    "predictor variables and iterating over a test pipeline to find the best combinations for prediction.\n",
    "\n",
    "Setting this up just requires pulling in the five columns and assigning column names based on our\n",
    "encoding keys from the above dictionary."
   ]
  },
  {
   "cell_type": "code",
   "execution_count": 316,
   "metadata": {},
   "outputs": [],
   "source": [
    "import numpy as np\n",
    "import pandas as pd\n",
    "from pandas.errors import ParserError\n",
    "import matplotlib.pyplot as plt\n",
    "import seaborn as sns\n",
    "import os\n",
    "import glob\n",
    "import pickle\n",
    "from joblib import dump, load\n",
    "from tabulate import tabulate\n",
    "from typing import Union, BinaryIO\n",
    "from joblib import load, dump\n",
    "from glob import iglob\n",
    "import os\n",
    "from time import perf_counter\n",
    "\n",
    "\n",
    "from sklearn.pipeline import Pipeline\n",
    "from sklearn.preprocessing import StandardScaler\n",
    "from sklearn.tree import DecisionTreeClassifier\n",
    "from sklearn.ensemble import RandomForestClassifier\n",
    "from sklearn.model_selection import train_test_split, GridSearchCV\n",
    "from sklearn.impute import SimpleImputer\n",
    "from sklearn.multioutput import MultiOutputClassifier\n",
    "from sklearn.linear_model import LogisticRegression\n",
    "from sklearn.neighbors import KNeighborsClassifier\n",
    "from sklearn import svm\n",
    "from sklearn.svm import SVC\n",
    "from xgboost import XGBClassifier\n",
    "from sklearn.metrics import (plot_confusion_matrix, accuracy_score, recall_score,\n",
    "                             precision_score, f1_score, roc_auc_score, plot_roc_curve, \n",
    "                             confusion_matrix, roc_curve)"
   ]
  },
  {
   "cell_type": "markdown",
   "metadata": {},
   "source": [
    "## Data Preparation\n",
    "\n",
    "Describe and justify the process for preparing the data for analysis.\n",
    "\n",
    "Questions to consider:\n",
    "\n",
    "- Were there variables you dropped or created?\n",
    "- How did you address missing values or outliers?\n",
    "- Why are these choices appropriate given the data and the business problem?\n",
    "- Can you pipeline your preparation steps to use them consistently in the modeling process?\n",
    "\n",
    "Each row represents one full cycle and each column represents one sample (in this case 1 second) of readings from the temperatue sensor. To create features from this data we will need to come up with methods for aggregating each row of the sensor data into a single column of data.\n",
    "\n",
    "##### Raw Table (ex: TS1.txt)\n",
    "| cycle  |1s |2s |3s |.. |60s|\n",
    "| :---:  |---|---|---|---|---|\n",
    "| first: | 0 | 1 | 2 |...|59 |\n",
    "| second:| 0 | 1 | 2 |...|59 |\n",
    "|   ...  |...|...|...|...|...|\n",
    "| last:  | 0 | 1 | 2 |...|59 |\n",
    "\n",
    "\n",
    "##### Taking the average of each row:\n",
    "| test     |1s-60s | << |\n",
    "| :---:    | :---: |:---|\n",
    "| first:   | avg[0]| << |\n",
    "| second:  | avg[1]| << |\n",
    "|   ...    |  ...  | << |\n",
    "| last:    |avg[-1]| << |\n",
    "\n",
    "| test   |1s-20s    |21s-40s   |41s-60s   |  << |\n",
    "| :---:  | :---:    | :---:    | :---:    | :---|\n",
    "| first: |avg[0][0] |avg[0][1] |avg[0][2] |  << |\n",
    "| second:|avg[1][0] |avg[1][1] |avg[1][2] |  << |\n",
    "|   ...  |  ...     |  ...     |  ...     |  << |\n",
    "| last:  |avg[-1][0]|avg[-1][1]|avg[-1][2]|  << |\n",
    " \n",
    "* If we apply this \"pattern\" to `TS1.txt` we end up with one feature column: *the mean temperature reading\n",
    "from the sensor for all cycles*. \n",
    "* Repeating this pattern for each table of **sensor data** creates a full feature set of mean readings for\n",
    "all 17 sensors across each **2205 pump cycles**."
   ]
  },
  {
   "cell_type": "markdown",
   "metadata": {},
   "source": [
    "### Baseline Understanding\n",
    "\n",
    "- What does a baseline, model-less prediction look like?"
   ]
  },
  {
   "cell_type": "code",
   "execution_count": 317,
   "metadata": {
    "scrolled": false
   },
   "outputs": [
    {
     "name": "stdout",
     "output_type": "stream",
     "text": [
      "| id   | feature            | unit    |   sample rate |\n",
      "|------|--------------------|---------|---------------|\n",
      "| SE   | efficiency_factor  | percent |             1 |\n",
      "| PS1  | pressure           | bar     |           100 |\n",
      "| TS4  | temperature        | Ã‚Â°C   |             1 |\n",
      "| PS2  | pressure           | bar     |           100 |\n",
      "| PS3  | pressure           | bar     |           100 |\n",
      "| TS3  | temperature        | Ã‚Â°C   |             1 |\n",
      "| VS1  | vibration          | mm/s    |             1 |\n",
      "| TS2  | temperature        | Ã‚Â°C   |             1 |\n",
      "| PS6  | pressure           | bar     |           100 |\n",
      "| PS4  | pressure           | bar     |           100 |\n",
      "| TS1  | temperature        | Ã‚Â°C   |             1 |\n",
      "| PS5  | pressure           | bar     |           100 |\n",
      "| CP   | cooling_power      | kW      |             1 |\n",
      "| CE   | cooling_efficiency | percent |             1 |\n",
      "| EPS1 | motor_power        | W       |           100 |\n",
      "| FS1  | volume_flow        | l/min   |            10 |\n",
      "| FS2  | volume_flow        | l/min   |            10 |\n"
     ]
    }
   ],
   "source": [
    "# Printing out our list of features\n",
    "# open our dictionary with feature info\n",
    "with open('./features/sensor_info.pkl', 'rb') as featr:\n",
    "    features = pickle.load(featr)\n",
    "table = []\n",
    "for itm in glob.iglob(\"./data/*.txt\"):\n",
    "    id = os.path.basename(itm)\n",
    "    id = id[:-4]\n",
    "    if id in [\"documentation\", \"description\", \"profile\"]:\n",
    "        continue\n",
    "    table.append([id, features[id]['type'], features[id]['unit'], features[id]['samp_rate']])\n",
    "print(tabulate(table, tablefmt=\"github\", headers=[\"id\", \"feature\", \"unit\", \"sample rate\"]))"
   ]
  },
  {
   "cell_type": "code",
   "execution_count": 318,
   "metadata": {},
   "outputs": [],
   "source": [
    "# here I am using the information saved in cond_encodings.pkl to \n",
    "# make save each of our target variables in separate pickles.\n",
    "with open('./features/cond_encoding.pkl', 'rb') as encodings:\n",
    "    target = pickle.load(encodings)\n",
    "    target = [col_str.strip('/% ').rstrip() for col_str in target.keys()]\n",
    "    target = [itm.split() for itm in target]\n",
    "    for ind, itm in enumerate(target):\n",
    "        while \"/\" in itm:\n",
    "            itm.remove(\"/\")\n",
    "        target[ind] = \"_\".join(itm)\n",
    "\n",
    "y_data = pd.read_csv('./data/profile.txt', sep=\"\\t\", header=None, names=target)\n",
    "for col in y_data.columns:\n",
    "    y_data[col].to_pickle(f\"./target_variables/{col}.pkl\")"
   ]
  },
  {
   "attachments": {},
   "cell_type": "markdown",
   "metadata": {},
   "source": [
    "## Modeling\n",
    "\n",
    "As previously mentioned, the data set includes five target variables – cooler condition, valve condition, internal pump leakage, hydraulic accumulator (hydraulic pressure), and stable flag (stable condition). We determined that each of these target variables were vital to the stakeholder and will likely impact our final recommendation. As a result, several models were created. About two models were created for each target variable. Depending on the variable, utilized, certain features were utilized including simple averages of the 60-second cycle, the average change over the course of the cycle, the average and change every 20-seconds of the cycle, and standard deviation of both the full 60-second cycle and every 20-seconds. To begin, we will utilize a simple logistic regression model. Given the data and the stakeholder’s business problem, it will make most sense to run a grid search on several different model types to determine which produces the highest accuracy."
   ]
  },
  {
   "cell_type": "markdown",
   "metadata": {},
   "source": [
    "### Baseline Model"
   ]
  },
  {
   "attachments": {},
   "cell_type": "markdown",
   "metadata": {},
   "source": [
    "To begin, the baseline model ran a simple logistic regression and included all X-variables and utilized ‘Valve Condition’ as the target variable. Valve Condition, measured as a percentage, includes four classifications – 100 meaning the pump was functioning at optimal switching behavior, 90 meaning there was a small lag, 80 meaning there was a severe lag, and 73 meaning the pump was close to total failure."
   ]
  },
  {
   "cell_type": "code",
   "execution_count": 319,
   "metadata": {
    "scrolled": true
   },
   "outputs": [
    {
     "data": {
      "text/html": [
       "<div>\n",
       "<style scoped>\n",
       "    .dataframe tbody tr th:only-of-type {\n",
       "        vertical-align: middle;\n",
       "    }\n",
       "\n",
       "    .dataframe tbody tr th {\n",
       "        vertical-align: top;\n",
       "    }\n",
       "\n",
       "    .dataframe thead th {\n",
       "        text-align: right;\n",
       "    }\n",
       "</style>\n",
       "<table border=\"1\" class=\"dataframe\">\n",
       "  <thead>\n",
       "    <tr style=\"text-align: right;\">\n",
       "      <th></th>\n",
       "      <th>CE</th>\n",
       "      <th>CP</th>\n",
       "      <th>EPS1</th>\n",
       "      <th>FS1</th>\n",
       "      <th>FS2</th>\n",
       "      <th>PS1</th>\n",
       "      <th>PS2</th>\n",
       "      <th>PS3</th>\n",
       "      <th>PS4</th>\n",
       "      <th>PS5</th>\n",
       "      <th>PS6</th>\n",
       "      <th>SE</th>\n",
       "      <th>TS1</th>\n",
       "      <th>TS2</th>\n",
       "      <th>TS3</th>\n",
       "      <th>TS4</th>\n",
       "      <th>VS1</th>\n",
       "    </tr>\n",
       "  </thead>\n",
       "  <tbody>\n",
       "    <tr>\n",
       "      <th>0</th>\n",
       "      <td>39.601350</td>\n",
       "      <td>1.862750</td>\n",
       "      <td>2538.929167</td>\n",
       "      <td>6.709815</td>\n",
       "      <td>10.304592</td>\n",
       "      <td>160.673492</td>\n",
       "      <td>109.466914</td>\n",
       "      <td>1.991475</td>\n",
       "      <td>0.0</td>\n",
       "      <td>9.842169</td>\n",
       "      <td>9.728098</td>\n",
       "      <td>59.157183</td>\n",
       "      <td>35.621983</td>\n",
       "      <td>40.978767</td>\n",
       "      <td>38.471017</td>\n",
       "      <td>31.745250</td>\n",
       "      <td>0.576950</td>\n",
       "    </tr>\n",
       "    <tr>\n",
       "      <th>1</th>\n",
       "      <td>25.786433</td>\n",
       "      <td>1.255550</td>\n",
       "      <td>2531.498900</td>\n",
       "      <td>6.715315</td>\n",
       "      <td>10.403098</td>\n",
       "      <td>160.603320</td>\n",
       "      <td>109.354890</td>\n",
       "      <td>1.976234</td>\n",
       "      <td>0.0</td>\n",
       "      <td>9.635142</td>\n",
       "      <td>9.529488</td>\n",
       "      <td>59.335617</td>\n",
       "      <td>36.676967</td>\n",
       "      <td>41.532767</td>\n",
       "      <td>38.978967</td>\n",
       "      <td>34.493867</td>\n",
       "      <td>0.565850</td>\n",
       "    </tr>\n",
       "    <tr>\n",
       "      <th>2</th>\n",
       "      <td>22.218233</td>\n",
       "      <td>1.113217</td>\n",
       "      <td>2519.928000</td>\n",
       "      <td>6.718522</td>\n",
       "      <td>10.366250</td>\n",
       "      <td>160.347720</td>\n",
       "      <td>109.158845</td>\n",
       "      <td>1.972224</td>\n",
       "      <td>0.0</td>\n",
       "      <td>9.530548</td>\n",
       "      <td>9.427949</td>\n",
       "      <td>59.543150</td>\n",
       "      <td>37.880800</td>\n",
       "      <td>42.442450</td>\n",
       "      <td>39.631950</td>\n",
       "      <td>35.646150</td>\n",
       "      <td>0.576533</td>\n",
       "    </tr>\n",
       "    <tr>\n",
       "      <th>3</th>\n",
       "      <td>20.459817</td>\n",
       "      <td>1.062150</td>\n",
       "      <td>2511.541633</td>\n",
       "      <td>6.720565</td>\n",
       "      <td>10.302678</td>\n",
       "      <td>160.188088</td>\n",
       "      <td>109.064807</td>\n",
       "      <td>1.946575</td>\n",
       "      <td>0.0</td>\n",
       "      <td>9.438827</td>\n",
       "      <td>9.337430</td>\n",
       "      <td>59.794900</td>\n",
       "      <td>38.879050</td>\n",
       "      <td>43.403983</td>\n",
       "      <td>40.403383</td>\n",
       "      <td>36.579467</td>\n",
       "      <td>0.569267</td>\n",
       "    </tr>\n",
       "    <tr>\n",
       "      <th>4</th>\n",
       "      <td>19.787017</td>\n",
       "      <td>1.070467</td>\n",
       "      <td>2503.449500</td>\n",
       "      <td>6.690308</td>\n",
       "      <td>10.237750</td>\n",
       "      <td>160.000472</td>\n",
       "      <td>108.931434</td>\n",
       "      <td>1.922707</td>\n",
       "      <td>0.0</td>\n",
       "      <td>9.358762</td>\n",
       "      <td>9.260636</td>\n",
       "      <td>59.455267</td>\n",
       "      <td>39.803917</td>\n",
       "      <td>44.332750</td>\n",
       "      <td>41.310550</td>\n",
       "      <td>37.427900</td>\n",
       "      <td>0.577367</td>\n",
       "    </tr>\n",
       "  </tbody>\n",
       "</table>\n",
       "</div>"
      ],
      "text/plain": [
       "          CE        CP         EPS1       FS1        FS2         PS1  \\\n",
       "0  39.601350  1.862750  2538.929167  6.709815  10.304592  160.673492   \n",
       "1  25.786433  1.255550  2531.498900  6.715315  10.403098  160.603320   \n",
       "2  22.218233  1.113217  2519.928000  6.718522  10.366250  160.347720   \n",
       "3  20.459817  1.062150  2511.541633  6.720565  10.302678  160.188088   \n",
       "4  19.787017  1.070467  2503.449500  6.690308  10.237750  160.000472   \n",
       "\n",
       "          PS2       PS3  PS4       PS5       PS6         SE        TS1  \\\n",
       "0  109.466914  1.991475  0.0  9.842169  9.728098  59.157183  35.621983   \n",
       "1  109.354890  1.976234  0.0  9.635142  9.529488  59.335617  36.676967   \n",
       "2  109.158845  1.972224  0.0  9.530548  9.427949  59.543150  37.880800   \n",
       "3  109.064807  1.946575  0.0  9.438827  9.337430  59.794900  38.879050   \n",
       "4  108.931434  1.922707  0.0  9.358762  9.260636  59.455267  39.803917   \n",
       "\n",
       "         TS2        TS3        TS4       VS1  \n",
       "0  40.978767  38.471017  31.745250  0.576950  \n",
       "1  41.532767  38.978967  34.493867  0.565850  \n",
       "2  42.442450  39.631950  35.646150  0.576533  \n",
       "3  43.403983  40.403383  36.579467  0.569267  \n",
       "4  44.332750  41.310550  37.427900  0.577367  "
      ]
     },
     "execution_count": 319,
     "metadata": {},
     "output_type": "execute_result"
    }
   ],
   "source": [
    "feature_avg = pd.read_pickle('./features/cycle_mean.pkl')\n",
    "feature_avg.head()"
   ]
  },
  {
   "cell_type": "code",
   "execution_count": 320,
   "metadata": {},
   "outputs": [],
   "source": [
    "with open('./features/cond_encoding.pkl', 'rb') as file:\n",
    "    encoding = pickle.load(file)"
   ]
  },
  {
   "cell_type": "code",
   "execution_count": 321,
   "metadata": {},
   "outputs": [
    {
     "data": {
      "text/html": [
       "<div>\n",
       "<style scoped>\n",
       "    .dataframe tbody tr th:only-of-type {\n",
       "        vertical-align: middle;\n",
       "    }\n",
       "\n",
       "    .dataframe tbody tr th {\n",
       "        vertical-align: top;\n",
       "    }\n",
       "\n",
       "    .dataframe thead th {\n",
       "        text-align: right;\n",
       "    }\n",
       "</style>\n",
       "<table border=\"1\" class=\"dataframe\">\n",
       "  <thead>\n",
       "    <tr style=\"text-align: right;\">\n",
       "      <th></th>\n",
       "      <th>Cooler Condition / %</th>\n",
       "      <th>Valve Condition / %</th>\n",
       "      <th>Internal pump leakage</th>\n",
       "      <th>Hydraulic accumulator / bar</th>\n",
       "      <th>stable flag</th>\n",
       "    </tr>\n",
       "  </thead>\n",
       "  <tbody>\n",
       "    <tr>\n",
       "      <th>0</th>\n",
       "      <td>3</td>\n",
       "      <td>100</td>\n",
       "      <td>0</td>\n",
       "      <td>130</td>\n",
       "      <td>1</td>\n",
       "    </tr>\n",
       "    <tr>\n",
       "      <th>1</th>\n",
       "      <td>3</td>\n",
       "      <td>100</td>\n",
       "      <td>0</td>\n",
       "      <td>130</td>\n",
       "      <td>1</td>\n",
       "    </tr>\n",
       "    <tr>\n",
       "      <th>2</th>\n",
       "      <td>3</td>\n",
       "      <td>100</td>\n",
       "      <td>0</td>\n",
       "      <td>130</td>\n",
       "      <td>1</td>\n",
       "    </tr>\n",
       "    <tr>\n",
       "      <th>3</th>\n",
       "      <td>3</td>\n",
       "      <td>100</td>\n",
       "      <td>0</td>\n",
       "      <td>130</td>\n",
       "      <td>1</td>\n",
       "    </tr>\n",
       "    <tr>\n",
       "      <th>4</th>\n",
       "      <td>3</td>\n",
       "      <td>100</td>\n",
       "      <td>0</td>\n",
       "      <td>130</td>\n",
       "      <td>1</td>\n",
       "    </tr>\n",
       "  </tbody>\n",
       "</table>\n",
       "</div>"
      ],
      "text/plain": [
       "   Cooler Condition / %  Valve Condition / %  Internal pump leakage  \\\n",
       "0                     3                  100                      0   \n",
       "1                     3                  100                      0   \n",
       "2                     3                  100                      0   \n",
       "3                     3                  100                      0   \n",
       "4                     3                  100                      0   \n",
       "\n",
       "   Hydraulic accumulator / bar  stable flag  \n",
       "0                          130            1  \n",
       "1                          130            1  \n",
       "2                          130            1  \n",
       "3                          130            1  \n",
       "4                          130            1  "
      ]
     },
     "execution_count": 321,
     "metadata": {},
     "output_type": "execute_result"
    }
   ],
   "source": [
    "target_cols = list(encoding.keys())\n",
    "df = pd.read_csv('./data/profile.txt', sep='\\t', header = None, names = target_cols)\n",
    "df.head()"
   ]
  },
  {
   "cell_type": "code",
   "execution_count": 322,
   "metadata": {},
   "outputs": [],
   "source": [
    "#Set the first model's X and y variables\n",
    "#Here, we will include all of the columns in our feature averages data frame\n",
    "base_model_X = pd.read_pickle(\"./features/cycle_mean.pkl\")\n",
    "base_model_y = pd.read_pickle(\"./target_variables/Valve_Condition.pkl\")"
   ]
  },
  {
   "cell_type": "code",
   "execution_count": 323,
   "metadata": {},
   "outputs": [
    {
     "name": "stdout",
     "output_type": "stream",
     "text": [
      "[ 90  80 100  80 100  80 100  90 100  80  80  73 100 100  73  73  80 100\n",
      " 100 100  90  73 100  73  90  73  80  73  90 100  80  90 100  73 100  73\n",
      " 100  73 100  90 100 100 100 100 100  90  73 100  80  80 100 100 100 100\n",
      " 100  73 100 100 100 100  80  73 100 100 100 100  90  90 100 100  90  90\n",
      "  80  90  90  73 100  80 100  90  73  80  90 100  90  73  90 100  73 100\n",
      " 100  73  80  90  80 100 100  80  90  90 100  90 100 100  90  90 100  73\n",
      "  90 100  90  80  90 100  73 100  90 100 100  90 100 100 100  90 100  73\n",
      " 100  73 100  80 100  80 100  80 100 100 100 100  80 100  90 100 100 100\n",
      "  90  90 100 100  80  73 100  73  73  90 100 100 100 100 100 100 100 100\n",
      "  73 100  80 100 100  73  90 100  80 100  73  90  90  73 100  73 100 100\n",
      " 100 100 100 100 100  90  73  80 100  73 100 100  80  80  73 100  73 100\n",
      "  73 100  73  73 100  80 100 100  90  73  73  73  80 100  90 100  90 100\n",
      " 100  80 100  90 100 100  80  90  73  73  80  80  73  80 100  73 100  80\n",
      "  90 100 100 100 100 100 100 100  73 100 100  90 100  73  73 100  90  73\n",
      "  80 100 100  80  73  73  90 100  80  90  80  90 100  90 100  73  73  73\n",
      " 100  73  80  90 100 100  90 100  80 100 100  73  90  73  90 100 100  73\n",
      "  73 100  73  80  90 100  90  90 100 100 100 100  80 100 100  73 100  73\n",
      "  80  73  80  73  80  73  73  73 100  90 100 100  80  80 100  80 100 100\n",
      "  80 100  80  73  90  80 100]\n"
     ]
    }
   ],
   "source": [
    "# shuffle and split, stratify keeps target distribution same in train/test\n",
    "base_model_X_train, base_model_X_test, base_model_y_train, base_model_y_test = train_test_split(base_model_X, \n",
    "                                                                                base_model_y, \n",
    "                                                                                test_size = 0.15, \n",
    "                                                                                random_state = 42)\n",
    "\n",
    "base_model_steps = [('std_scaler', StandardScaler()),\n",
    "        ('dec_tree', DecisionTreeClassifier(random_state = 42))]\n",
    "\n",
    "base_model_pipeline = Pipeline(base_model_steps)\n",
    "\n",
    "\n",
    "# Train the pipeline (tranformations & predictor)\n",
    "base_model_pipeline.fit(base_model_X_train, base_model_y_train)\n",
    "\n",
    "base_model_prediction = base_model_pipeline.predict(base_model_X_test)\n",
    "print(base_model_prediction)\n"
   ]
  },
  {
   "cell_type": "code",
   "execution_count": 324,
   "metadata": {},
   "outputs": [],
   "source": [
    "base_model_pipe_grid = {'dec_tree__criterion': ['gini', 'entropy'],\n",
    "                   'dec_tree__max_depth': [2,4,6,8,10,12]}\n",
    "\n",
    "base_model_gs_pipe = GridSearchCV(estimator = base_model_pipeline, \n",
    "                       param_grid = base_model_pipe_grid, scoring = 'precision_micro')\n",
    "\n",
    "base_model_gs_pipe.fit(base_model_X_train, base_model_y_train);"
   ]
  },
  {
   "cell_type": "code",
   "execution_count": 325,
   "metadata": {},
   "outputs": [
    {
     "data": {
      "text/plain": [
       "{'dec_tree__criterion': 'entropy', 'dec_tree__max_depth': 12}"
      ]
     },
     "execution_count": 325,
     "metadata": {},
     "output_type": "execute_result"
    }
   ],
   "source": [
    "base_model_gs_pipe.best_params_"
   ]
  },
  {
   "cell_type": "code",
   "execution_count": 326,
   "metadata": {},
   "outputs": [
    {
     "data": {
      "text/plain": [
       "0.9486404833836858"
      ]
     },
     "execution_count": 326,
     "metadata": {},
     "output_type": "execute_result"
    }
   ],
   "source": [
    "base_model_gs_pipe.score(base_model_X_test, base_model_y_test)"
   ]
  },
  {
   "cell_type": "code",
   "execution_count": 327,
   "metadata": {},
   "outputs": [
    {
     "data": {
      "text/plain": [
       "[('CE', 0.004082948557540575),\n",
       " ('CP', 0.0),\n",
       " ('EPS1', 0.0029809480600318196),\n",
       " ('FS1', 0.0),\n",
       " ('FS2', 0.005572283865779667),\n",
       " ('PS1', 0.23932466556688314),\n",
       " ('PS2', 0.4085048358808755),\n",
       " ('PS3', 0.0011942162732920176),\n",
       " ('PS4', 0.012805097334171808),\n",
       " ('PS5', 0.02859957433813187),\n",
       " ('PS6', 0.022647470732487653),\n",
       " ('SE', 0.20432690049129285),\n",
       " ('TS1', 0.025506917602116014),\n",
       " ('TS2', 0.02162796525729697),\n",
       " ('TS3', 0.010817651743963349),\n",
       " ('TS4', 0.004585935220652116),\n",
       " ('VS1', 0.007422589075484678)]"
      ]
     },
     "execution_count": 327,
     "metadata": {},
     "output_type": "execute_result"
    }
   ],
   "source": [
    "list(zip(base_model_X_train.columns, \n",
    "         base_model_gs_pipe.best_estimator_.named_steps['dec_tree'].feature_importances_))"
   ]
  },
  {
   "cell_type": "markdown",
   "metadata": {},
   "source": [
    "### Multiple Model Testing with Grid Search"
   ]
  },
  {
   "attachments": {},
   "cell_type": "markdown",
   "metadata": {},
   "source": [
    "As previously mentioned, we are going to perform a grid search on multiple models to determine the highest performing models. For now, we will utilize a simple average of the test cycles as the feature.  Once we’ve determined the top performing models, we can perform grid searches with these models and repeat the process for other combinations of target variables and features."
   ]
  },
  {
   "cell_type": "markdown",
   "metadata": {},
   "source": [
    "### First Model:\n",
    "### Feature, Target Variable: Simple Average, Valve Condition\n",
    "\n",
    "Before going too far down the data preparation rabbit hole, be sure to check your work against a first 'substandard' model! What is the easiest way for you to find out how hard your problem is?"
   ]
  },
  {
   "cell_type": "code",
   "execution_count": 328,
   "metadata": {},
   "outputs": [],
   "source": [
    "model1_lr_pipe = Pipeline([('scaler', StandardScaler()),\n",
    "                    ('lr', LogisticRegression(random_state = 42))])\n",
    "\n",
    "model1_dtree_pipe = Pipeline([('scaler', StandardScaler()),\n",
    "                    ('dtree',DecisionTreeClassifier(random_state = 42))])\n",
    "\n",
    "model1_rf_pipe = Pipeline([('scaler', StandardScaler()),\n",
    "                    ('rf',RandomForestClassifier(random_state = 42))])\n",
    "\n",
    "model1_knn_pipe = Pipeline([('scaler', StandardScaler()),\n",
    "                    ('knn', KNeighborsClassifier())])\n",
    "\n",
    "model1_svm_pipe = Pipeline([('scaler', StandardScaler()),\n",
    "                     ('svm', svm.SVC(random_state = 42))])\n",
    "\n",
    "model1_xgb_pipe = Pipeline([('scaler', StandardScaler()),\n",
    "                     ('xgb', XGBClassifier(random_state = 42))])"
   ]
  },
  {
   "cell_type": "code",
   "execution_count": 329,
   "metadata": {},
   "outputs": [],
   "source": [
    "model1_param_range = [1, 2, 3, 4, 5, 6]\n",
    "model1_param_range_fl = [1.0, 0.5, 0.1]\n",
    "model1_n_estimators = [50, 100, 150]\n",
    "model1_learning_rates = [.1, .2, .3]\n",
    "\n",
    "model1_lr_param_grid = [{'lr__penalty': ['l1', 'l2'],\n",
    "                   'lr__C': model1_param_range_fl,\n",
    "                   'lr__solver': ['liblinear']}]\n",
    "\n",
    "model1_dtree_param_grid = [{'dtree__criterion': ['gini', 'entropy'],\n",
    "                   'dtree__min_samples_leaf': model1_param_range,\n",
    "                   'dtree__max_depth': model1_param_range,\n",
    "                   'dtree__min_samples_split': model1_param_range[1:]}]\n",
    "\n",
    "model1_rf_param_grid = [{'rf__min_samples_leaf': model1_param_range,\n",
    "                   'rf__max_depth': model1_param_range,\n",
    "                   'rf__min_samples_split': model1_param_range[1:]}]\n",
    "\n",
    "model1_knn_param_grid = [{'knn__n_neighbors': model1_param_range,\n",
    "                   'knn__weights': ['uniform', 'distance'],\n",
    "                   'knn__metric': ['euclidean', 'manhattan']}]\n",
    "\n",
    "model1_svm_param_grid = [{'svm__kernel': ['linear', 'rbf'], \n",
    "                    'svm__C': model1_param_range}]\n",
    "\n",
    "model1_xgb_param_grid = [{'xgb__learning_rate': model1_learning_rates,\n",
    "                    'xgb__max_depth': model1_param_range,\n",
    "                    'xgb__min_child_weight': model1_param_range[:2],\n",
    "                    'xgb__subsample': model1_param_range_fl,\n",
    "                    'xgb__n_estimators': model1_n_estimators}]"
   ]
  },
  {
   "cell_type": "code",
   "execution_count": 330,
   "metadata": {},
   "outputs": [],
   "source": [
    "model1_lr_grid_search = GridSearchCV(estimator = model1_lr_pipe,\n",
    "                              param_grid = model1_lr_param_grid,\n",
    "                              scoring = 'accuracy',\n",
    "                              cv = 3,\n",
    "                              n_jobs = -1)\n",
    "\n",
    "model1_dtree_grid_search = GridSearchCV(estimator = model1_dtree_pipe,\n",
    "                                 param_grid = model1_dtree_param_grid,\n",
    "                                 scoring = 'accuracy',\n",
    "                                 cv = 3,\n",
    "                                 n_jobs = -1)\n",
    "\n",
    "model1_rf_grid_search = GridSearchCV(estimator = model1_rf_pipe,\n",
    "                              param_grid = model1_rf_param_grid,\n",
    "                              scoring = 'accuracy',\n",
    "                              cv = 3,\n",
    "                              n_jobs = -1)\n",
    "\n",
    "model1_knn_grid_search = GridSearchCV(estimator = model1_knn_pipe,\n",
    "                               param_grid = model1_knn_param_grid,\n",
    "                               scoring = 'accuracy',\n",
    "                               cv = 3,\n",
    "                               n_jobs = -1)\n",
    "\n",
    "model1_svm_grid_search = GridSearchCV(estimator = model1_svm_pipe,\n",
    "                               param_grid = model1_svm_param_grid,\n",
    "                               scoring = 'accuracy',\n",
    "                               cv = 3,\n",
    "                               n_jobs = -1)\n",
    "\n",
    "model1_xgb_grid_search = GridSearchCV(estimator = model1_xgb_pipe,\n",
    "                               param_grid = model1_xgb_param_grid,\n",
    "                               scoring = 'accuracy',\n",
    "                               cv = 3,\n",
    "                               n_jobs = -1)"
   ]
  },
  {
   "cell_type": "code",
   "execution_count": 331,
   "metadata": {},
   "outputs": [
    {
     "name": "stderr",
     "output_type": "stream",
     "text": [
      "/opt/anaconda3/envs/learn-env/lib/python3.8/site-packages/sklearn/svm/_base.py:976: ConvergenceWarning: Liblinear failed to converge, increase the number of iterations.\n",
      "  warnings.warn(\"Liblinear failed to converge, increase \"\n"
     ]
    }
   ],
   "source": [
    "grids = [model1_lr_grid_search, \n",
    "         model1_dtree_grid_search, \n",
    "         model1_rf_grid_search, \n",
    "         model1_knn_grid_search, \n",
    "         model1_svm_grid_search, \n",
    "         model1_xgb_grid_search]\n",
    "\n",
    "for i in grids:\n",
    "    i.fit(base_model_X_train, base_model_y_train)"
   ]
  },
  {
   "cell_type": "code",
   "execution_count": 332,
   "metadata": {},
   "outputs": [
    {
     "name": "stdout",
     "output_type": "stream",
     "text": [
      "Logistic Regression Test Accuracy: 0.8700906344410876\n",
      "Logistic Regression Best Params: {'lr__C': 1.0, 'lr__penalty': 'l1', 'lr__solver': 'liblinear'}\n",
      "\u000b",
      "\n",
      "Decision Trees Test Accuracy: 0.797583081570997\n",
      "Decision Trees Best Params: {'dtree__criterion': 'gini', 'dtree__max_depth': 6, 'dtree__min_samples_leaf': 1, 'dtree__min_samples_split': 6}\n",
      "\u000b",
      "\n",
      "Random Forest Test Accuracy: 0.8610271903323263\n",
      "Random Forest Best Params: {'rf__max_depth': 6, 'rf__min_samples_leaf': 1, 'rf__min_samples_split': 2}\n",
      "\u000b",
      "\n",
      "K-Nearest Neighbors Test Accuracy: 0.918429003021148\n",
      "K-Nearest Neighbors Best Params: {'knn__metric': 'manhattan', 'knn__n_neighbors': 1, 'knn__weights': 'uniform'}\n",
      "\u000b",
      "\n",
      "Support Vector Machines Test Accuracy: 0.9788519637462235\n",
      "Support Vector Machines Best Params: {'svm__C': 6, 'svm__kernel': 'linear'}\n",
      "\u000b",
      "\n",
      "XGBoost Test Accuracy: 0.972809667673716\n",
      "XGBoost Best Params: {'xgb__learning_rate': 0.2, 'xgb__max_depth': 5, 'xgb__min_child_weight': 1, 'xgb__n_estimators': 150, 'xgb__subsample': 0.5}\n",
      "\u000b",
      "\n"
     ]
    }
   ],
   "source": [
    "grid_dict = {0: 'Logistic Regression', 1: 'Decision Trees', \n",
    "             2: 'Random Forest', 3: 'K-Nearest Neighbors', \n",
    "             4: 'Support Vector Machines', 5: 'XGBoost'}\n",
    "\n",
    "for i, model in enumerate(grids):\n",
    "    print('{} Test Accuracy: {}'.format(grid_dict[i],\\\n",
    "    model.score(base_model_X_test, base_model_y_test)))\n",
    "    print('{} Best Params: {}'.format(grid_dict[i], model.best_params_))\n",
    "    print('\\v')"
   ]
  },
  {
   "cell_type": "code",
   "execution_count": 333,
   "metadata": {},
   "outputs": [
    {
     "data": {
      "text/plain": [
       "[('CE', 0.039068956),\n",
       " ('CP', 0.029016161),\n",
       " ('EPS1', 0.042381942),\n",
       " ('FS1', 0.11295056),\n",
       " ('FS2', 0.039775964),\n",
       " ('PS1', 0.09620055),\n",
       " ('PS2', 0.11468861),\n",
       " ('PS3', 0.02678718),\n",
       " ('PS4', 0.046755668),\n",
       " ('PS5', 0.05789243),\n",
       " ('PS6', 0.076922685),\n",
       " ('SE', 0.16333772),\n",
       " ('TS1', 0.031819478),\n",
       " ('TS2', 0.033872727),\n",
       " ('TS3', 0.029593308),\n",
       " ('TS4', 0.021771073),\n",
       " ('VS1', 0.037164997)]"
      ]
     },
     "execution_count": 333,
     "metadata": {},
     "output_type": "execute_result"
    }
   ],
   "source": [
    "list(zip(base_model_X_train.columns, \n",
    "         model1_xgb_grid_search.best_estimator_.named_steps['xgb'].feature_importances_))"
   ]
  },
  {
   "cell_type": "code",
   "execution_count": 334,
   "metadata": {},
   "outputs": [],
   "source": [
    "def create_confusion_matrix(grid_search, X_test, y_test):\n",
    "    return plot_confusion_matrix(grid_search, \n",
    "                      X_test, \n",
    "                      y_test,\n",
    "                      cmap = plt.cm.Blues)\n",
    "    plt.show"
   ]
  },
  {
   "cell_type": "code",
   "execution_count": 335,
   "metadata": {},
   "outputs": [
    {
     "data": {
      "text/plain": [
       "<sklearn.metrics._plot.confusion_matrix.ConfusionMatrixDisplay at 0x7fdcca04b760>"
      ]
     },
     "execution_count": 335,
     "metadata": {},
     "output_type": "execute_result"
    },
    {
     "data": {
      "image/png": "[encoded data removed]",
      "text/plain": [
       "<Figure size 432x288 with 2 Axes>"
      ]
     },
     "metadata": {
      "needs_background": "light"
     },
     "output_type": "display_data"
    }
   ],
   "source": [
    "create_confusion_matrix(model1_xgb_grid_search, base_model_X_test, base_model_y_test)"
   ]
  },
  {
   "cell_type": "code",
   "execution_count": 336,
   "metadata": {},
   "outputs": [
    {
     "data": {
      "text/plain": [
       "<sklearn.metrics._plot.confusion_matrix.ConfusionMatrixDisplay at 0x7fdcdb83a460>"
      ]
     },
     "execution_count": 336,
     "metadata": {},
     "output_type": "execute_result"
    },
    {
     "data": {
      "image/png": "[encoded data removed]",
      "text/plain": [
       "<Figure size 432x288 with 2 Axes>"
      ]
     },
     "metadata": {
      "needs_background": "light"
     },
     "output_type": "display_data"
    }
   ],
   "source": [
    "create_confusion_matrix(model1_knn_grid_search, base_model_X_test, base_model_y_test)"
   ]
  },
  {
   "cell_type": "code",
   "execution_count": 337,
   "metadata": {},
   "outputs": [],
   "source": [
    "def get_f1_weighted_score(name, grid_search, X_test, y_test):\n",
    "    test_preds = grid_search.predict(X_test)\n",
    "    return print('{} F-1 Weighted Score: {}'.format(str(name), f1_score(y_test, test_preds, average = 'weighted')))\n"
   ]
  },
  {
   "cell_type": "code",
   "execution_count": 338,
   "metadata": {},
   "outputs": [],
   "source": [
    "def get_roc_auc_score(name, gird_search, X_test, y_test):\n",
    "    test_probas = gird_search.predict_proba(X_test)\n",
    "    score = roc_auc_score(y_test, \n",
    "                          test_probas,\n",
    "                          multi_class = 'ovo',\n",
    "                          average = 'weighted')\n",
    "    return print('{} ROC-AUC Score: {}'.format(str(name), score))"
   ]
  },
  {
   "cell_type": "code",
   "execution_count": 339,
   "metadata": {},
   "outputs": [],
   "source": [
    "def get_accuracy(name, grid_search, X_test, y_test): \n",
    "    test_preds = grid_search.predict(X_test)\n",
    "    return  print('{} Accuracy Score: {}'.format(str(name), accuracy_score(y_test, test_preds)))"
   ]
  },
  {
   "cell_type": "code",
   "execution_count": 340,
   "metadata": {},
   "outputs": [
    {
     "name": "stdout",
     "output_type": "stream",
     "text": [
      "KNN Accuracy Score: 0.918429003021148\n",
      "KNN F-1 Weighted Score: 0.9186346493473566\n",
      "KNN ROC-AUC Score: 0.9432591283982722\n",
      "\u000b",
      "\n",
      "XGB Accuracy Score: 0.972809667673716\n",
      "XGB F-1 Weighted Score: 0.9727442972719881\n",
      "XGB ROC-AUC Score: 0.9990739744776906\n"
     ]
    }
   ],
   "source": [
    "get_accuracy('KNN', model1_knn_grid_search, base_model_X_test, base_model_y_test)\n",
    "get_f1_weighted_score('KNN', model1_knn_grid_search, base_model_X_test, base_model_y_test)\n",
    "get_roc_auc_score('KNN', model1_knn_grid_search, base_model_X_test, base_model_y_test)\n",
    "print('\\v')\n",
    "get_accuracy('XGB', model1_xgb_grid_search, base_model_X_test, base_model_y_test)\n",
    "get_f1_weighted_score('XGB', model1_xgb_grid_search, base_model_X_test, base_model_y_test)\n",
    "get_roc_auc_score('XGB', model1_xgb_grid_search, base_model_X_test, base_model_y_test)"
   ]
  },
  {
   "cell_type": "code",
   "execution_count": 341,
   "metadata": {},
   "outputs": [],
   "source": [
    "def true_pos_rate(grid_search, X_test, y_test):\n",
    "    test_preds = grid_search.predict(X_test)\n",
    "    true_pos_rate = recall_score(y_test, test_preds)\n",
    "    return true_pos_rate"
   ]
  },
  {
   "cell_type": "code",
   "execution_count": 342,
   "metadata": {},
   "outputs": [],
   "source": [
    "# confusion_matrix(model1_knn_grid_search.predict(base_model_X_test), base_model_y_test)\n",
    "\n",
    "# metrics.roc_auc_score(model1_knn_pipe, base_model_X_test, base_model_y_test)"
   ]
  },
  {
   "cell_type": "code",
   "execution_count": 343,
   "metadata": {},
   "outputs": [],
   "source": [
    "#Class 73\n",
    "knn_class_73_fp = 3 + 0 + 1\n",
    "knn_class_73_fn = 0 + 0 + 3\n",
    "knn_class_73_tp = 64\n",
    "knn_class_73_tn = 331 - knn_class_73_tp - knn_class_73_fn - knn_class_73_fp\n",
    "knn_class_73_tpr = knn_class_73_tp / (knn_class_73_tp + knn_class_73_fn)\n",
    "knn_class_73_fpr = knn_class_73_fp / (knn_class_73_fp + knn_class_73_tn)\n",
    "\n",
    "#Class 80\n",
    "knn_class_80_fp = 0 + 3 + 0\n",
    "knn_class_80_fn = 3 + 2 + 2\n",
    "knn_class_80_tp = 48\n",
    "knn_class_80_tn = 331 - knn_class_80_tp - knn_class_80_fn - knn_class_80_fp\n",
    "knn_class_80_tpr = knn_class_80_tp / (knn_class_80_tp + knn_class_80_fn)\n",
    "knn_class_80_fpr = knn_class_80_fp / (knn_class_80_fp + knn_class_80_tn)\n",
    "\n",
    "\n",
    "#Class 90\n",
    "knn_class_90_fp = 0 + 2 + 7\n",
    "knn_class_90_fn = 0 + 3 + 6\n",
    "knn_class_90_tp = 51\n",
    "knn_class_90_tn = 331 - knn_class_90_tp - knn_class_90_fn - knn_class_90_fp\n",
    "knn_class_90_tpr = knn_class_90_tp / (knn_class_90_tp + knn_class_90_fn)\n",
    "knn_class_90_fpr = knn_class_90_fp / (knn_class_90_fp + knn_class_90_tn)\n",
    "\n",
    "\n",
    "#Class 100\n",
    "knn_class_100_fp = 3 + 2 + 6\n",
    "knn_class_100_fn = 1 + 0 + 7\n",
    "knn_class_100_tp = 141\n",
    "knn_class_100_tn = 331 - knn_class_100_tp - knn_class_100_fn - knn_class_100_fp\n",
    "knn_class_100_tpr = knn_class_100_tp / (knn_class_100_tp + knn_class_100_fn)\n",
    "knn_class_100_fpr = knn_class_100_fp / (knn_class_100_fp + knn_class_100_tn)"
   ]
  },
  {
   "cell_type": "code",
   "execution_count": 344,
   "metadata": {},
   "outputs": [
    {
     "data": {
      "text/plain": [
       "0.010869565217391304"
      ]
     },
     "execution_count": 344,
     "metadata": {},
     "output_type": "execute_result"
    }
   ],
   "source": [
    "knn_class_80_fpr"
   ]
  },
  {
   "cell_type": "code",
   "execution_count": 345,
   "metadata": {},
   "outputs": [],
   "source": [
    "# from sklearn import datasets, metrics\n",
    "\n",
    "# metrics.roc_auc_score(base_model_X_train, base_model_y_train)"
   ]
  },
  {
   "cell_type": "code",
   "execution_count": 346,
   "metadata": {},
   "outputs": [
    {
     "name": "stdout",
     "output_type": "stream",
     "text": [
      "0.06043956043956044\n"
     ]
    },
    {
     "data": {
      "image/png": "[encoded data removed]",
      "text/plain": [
       "<Figure size 432x288 with 1 Axes>"
      ]
     },
     "metadata": {
      "needs_background": "light"
     },
     "output_type": "display_data"
    }
   ],
   "source": [
    "# plotting KNN ROC-AUC Curves\n",
    "\n",
    "plt.plot(knn_class_73_fpr, \n",
    "         knn_class_73_tpr, \n",
    "         linestyle = '--', \n",
    "         color = 'orange', \n",
    "         label = 'Class 73 vs Rest')\n",
    "\n",
    "plt.plot(knn_class_80_fpr, \n",
    "         knn_class_80_tpr,\n",
    "         linestyle = '--',\n",
    "         color = 'green', \n",
    "         label = 'Class 80 vs Rest')\n",
    "\n",
    "plt.plot(knn_class_90_fpr, \n",
    "         knn_class_90_tpr,\n",
    "         linestyle = '--',\n",
    "         color = 'blue', \n",
    "         label = 'Class 90 vs Rest')\n",
    "\n",
    "plt.plot(knn_class_100_fpr, \n",
    "         knn_class_100_tpr,\n",
    "         linestyle = '--',\n",
    "         color = 'red', \n",
    "         label = 'Class 100 vs Rest')\n",
    "print(knn_class_100_fpr)\n",
    "plt.xlim(0,1)\n",
    "plt.ylim(0,1)\n",
    "plt.title('Multiclass ROC curve')\n",
    "plt.xlabel('False Positive Rate')\n",
    "plt.ylabel('True Positive rate')\n",
    "plt.legend(loc = 'best')\n",
    "plt.show()\n",
    "\n",
    "# plt.savefig('Multiclass ROC', dpi = 300);"
   ]
  },
  {
   "cell_type": "markdown",
   "metadata": {},
   "source": [
    "## Modeling Iterations\n",
    "\n",
    "Now you can start to use the results of your first model to iterate - there are many options!"
   ]
  },
  {
   "attachments": {},
   "cell_type": "markdown",
   "metadata": {},
   "source": [
    "### Second Model:\n",
    "\n",
    "### Feature, Target Variable: Simple Average, Internal Pump Leakage"
   ]
  },
  {
   "cell_type": "markdown",
   "metadata": {},
   "source": [
    "### Grid Search Class / Function"
   ]
  },
  {
   "cell_type": "code",
   "execution_count": 347,
   "metadata": {},
   "outputs": [],
   "source": [
    "class RegularModel:\n",
    "\n",
    "    def __init__(self, X_path:Union[BinaryIO, str], y_path:Union[BinaryIO, str], X_name:str='', y_name:str='', random_state:int=42, test_size:float=0.15):\n",
    "        self._X = pd.read_pickle(X_path)\n",
    "        self._y = pd.read_pickle(y_path)\n",
    "        self.features = X_name\n",
    "        self.target = y_name\n",
    "        self.rs = random_state\n",
    "        self.test_size = test_size\n",
    "        self._X_train, self._X_test, self._y_train, self._y_test = train_test_split(self._X, \n",
    "                                                                                        self._y, \n",
    "                                                                                        test_size = self.test_size, \n",
    "                                                                                        random_state = self.rs)\n",
    "\n",
    "        _knn_pipe = Pipeline([('scaler', StandardScaler()),\n",
    "                            ('knn', KNeighborsClassifier())])\n",
    "        \n",
    "        _xgb_pipe = Pipeline([('scaler', StandardScaler()),\n",
    "                             ('xgb', XGBClassifier(random_state = self.rs))])\n",
    "\n",
    "        param_range = [1, 2, 3, 4, 5, 6]\n",
    "        param_range_fl = [1.0, 0.5, 0.1]\n",
    "        n_estimators = [50, 100, 150]\n",
    "        learning_rates = [.1, .2, .3]\n",
    "\n",
    "        knn_param_grid = [{'knn__n_neighbors': param_range,\n",
    "                           'knn__weights': ['uniform', 'distance'],\n",
    "                           'knn__metric': ['euclidean', 'manhattan']}]\n",
    "\n",
    "        xgb_param_grid = [{'xgb__learning_rate': learning_rates,\n",
    "                            'xgb__max_depth': param_range,\n",
    "                            'xgb__min_child_weight': param_range[:2],\n",
    "                            'xgb__subsample': param_range_fl,\n",
    "                            'xgb__n_estimators': n_estimators}]\n",
    "\n",
    "        self.knn_grid_search = GridSearchCV(estimator = _knn_pipe,\n",
    "                                       param_grid = knn_param_grid,\n",
    "                                       scoring = 'accuracy',\n",
    "                                       cv = 3,\n",
    "                                       n_jobs = -1)\n",
    "\n",
    "        self.xgb_grid_search = GridSearchCV(estimator = _xgb_pipe,\n",
    "                                       param_grid = xgb_param_grid,\n",
    "                                       scoring = 'accuracy',\n",
    "                                       cv = 3,\n",
    "                                       n_jobs = -1)\n",
    "        \n",
    "        self.grids = [self.knn_grid_search, self.xgb_grid_search]\n",
    "\n",
    "    def fit_model(self):\n",
    "        for i in self.grids:\n",
    "            i.fit(self._X_train, self._y_train)\n",
    "        return self\n",
    "    \n",
    "    def save_model(self, filename:Union[BinaryIO, str]):\n",
    "        if not isinstance(joblib, Module):\n",
    "            from joblib import dump\n",
    "        dump(self, filename)\n",
    "\n",
    "    def report(self, how:str=\"print\", where:Union[BinaryIO, str]=\"\"):\n",
    "        grid_dict = {0: 'K-Nearest Neighbors', 1: 'XGBoost'}\n",
    "        rep_list = []\n",
    "        rep_list.append(f\"Feature type: {self.features}\\nTarget Variable: {self.target}\\n\")\n",
    "        rep_list.append('\\n')\n",
    "        for i, model in enumerate(self.grids):\n",
    "            rep_list.append('{} Test Accuracy: {}\\n'.format(grid_dict[i],\\\n",
    "            model.score(self._X_test, self._y_test)))\n",
    "            rep_list.append('{} Best Params: {}\\n'.format(grid_dict[i], model.best_params_))\n",
    "            rep_list.append('\\n')\n",
    "        if how == \"file\":\n",
    "            if not where:\n",
    "                raise ValueError(\"You must pass a string with filename and path to use 'file' output method.\")\n",
    "            with open(where, 'w') as file:\n",
    "                file.writelines(rep_list)\n",
    "                return print(f\"Report ouput to {where}.\")\n",
    "        return print(*rep_list)"
   ]
  },
  {
   "cell_type": "code",
   "execution_count": 348,
   "metadata": {},
   "outputs": [
    {
     "data": {
      "text/plain": [
       "<__main__.RegularModel at 0x7fdcca396130>"
      ]
     },
     "execution_count": 348,
     "metadata": {},
     "output_type": "execute_result"
    }
   ],
   "source": [
    "model2_X = \"./features/cycle_mean.pkl\"\n",
    "model2_y = \"./target_variables/Internal_pump_leakage.pkl\"\n",
    "model2 = RegularModel(model2_X, model2_y, 'Simple Averages', 'Internal Pump Leakage')\n",
    "model2.fit_model()"
   ]
  },
  {
   "cell_type": "code",
   "execution_count": 349,
   "metadata": {},
   "outputs": [
    {
     "name": "stdout",
     "output_type": "stream",
     "text": [
      "Report ouput to ./test.txt.\n"
     ]
    },
    {
     "data": {
      "image/png": "[encoded data removed]",
      "text/plain": [
       "<Figure size 432x288 with 1 Axes>"
      ]
     },
     "metadata": {
      "needs_background": "light"
     },
     "output_type": "display_data"
    }
   ],
   "source": [
    "model2.report('file', './test.txt')\n",
    "pred_prob2 = model2.xgb_grid_search.predict_proba(model2._X_test)\n",
    "fpr1, tpr1, thresh0 = roc_curve(model2._y_test, pred_prob2[:,0], pos_label=0)\n",
    "fpr2, tpr2, thresh1 = roc_curve(model2._y_test, pred_prob2[:,1], pos_label=1)\n",
    "fpr3, tpr3, thresh3 = roc_curve(model2._y_test, pred_prob2[:,2], pos_label=2)\n",
    "tpr2, fpr2\n",
    "plt.plot(fpr1, tpr1)\n",
    "plt.plot(fpr2, tpr2)\n",
    "plt.plot(fpr3, tpr3)\n",
    "plt.show()"
   ]
  },
  {
   "cell_type": "code",
   "execution_count": 350,
   "metadata": {},
   "outputs": [
    {
     "name": "stdout",
     "output_type": "stream",
     "text": [
      "Feature type: Simple Averages\n",
      "Target Variable: Internal Pump Leakage\n",
      " \n",
      " K-Nearest Neighbors Test Accuracy: 0.9909365558912386\n",
      " K-Nearest Neighbors Best Params: {'knn__metric': 'manhattan', 'knn__n_neighbors': 1, 'knn__weights': 'uniform'}\n",
      " \n",
      " XGBoost Test Accuracy: 0.9879154078549849\n",
      " XGBoost Best Params: {'xgb__learning_rate': 0.2, 'xgb__max_depth': 6, 'xgb__min_child_weight': 1, 'xgb__n_estimators': 100, 'xgb__subsample': 0.5}\n",
      " \n",
      "\n"
     ]
    }
   ],
   "source": [
    "model2.report()"
   ]
  },
  {
   "cell_type": "code",
   "execution_count": 351,
   "metadata": {},
   "outputs": [
    {
     "name": "stdout",
     "output_type": "stream",
     "text": [
      "KNN Accuracy Score: 0.9909365558912386\n",
      "KNN F-1 Weighted Score: 0.9909369012573976\n",
      "KNN ROC-AUC Score: 0.9919989085181639\n",
      "\u000b",
      "\n",
      "XGB Accuracy Score: 0.9879154078549849\n",
      "XGB F-1 Weighted Score: 0.9879154078549849\n",
      "XGB ROC-AUC Score: 0.9997858907394336\n"
     ]
    }
   ],
   "source": [
    "get_accuracy('KNN', model2.grids[0], model2._X_test, model2._y_test)\n",
    "get_f1_weighted_score('KNN', model2.grids[0], model2._X_test, model2._y_test)\n",
    "get_roc_auc_score('KNN', model2.grids[0], model2._X_test, model2._y_test)\n",
    "print('\\v')\n",
    "get_accuracy('XGB', model2.grids[1], model2._X_test, model2._y_test)\n",
    "get_f1_weighted_score('XGB', model2.grids[1], model2._X_test, model2._y_test)\n",
    "get_roc_auc_score('XGB', model2.grids[1], model2._X_test, model2._y_test)"
   ]
  },
  {
   "cell_type": "code",
   "execution_count": 352,
   "metadata": {},
   "outputs": [
    {
     "data": {
      "text/plain": [
       "[('CE', 0.040790275),\n",
       " ('CP', 0.04286829),\n",
       " ('EPS1', 0.06284462),\n",
       " ('FS1', 0.2675513),\n",
       " ('FS2', 0.033654038),\n",
       " ('PS1', 0.038262468),\n",
       " ('PS2', 0.007846282),\n",
       " ('PS3', 0.012190825),\n",
       " ('PS4', 0.007991362),\n",
       " ('PS5', 0.014833858),\n",
       " ('PS6', 0.009381927),\n",
       " ('SE', 0.3590888),\n",
       " ('TS1', 0.012870789),\n",
       " ('TS2', 0.06422607),\n",
       " ('TS3', 0.01224936),\n",
       " ('TS4', 0.005392367),\n",
       " ('VS1', 0.0079574)]"
      ]
     },
     "execution_count": 352,
     "metadata": {},
     "output_type": "execute_result"
    }
   ],
   "source": [
    "list(zip(model2._X_train.columns, \n",
    "         model2.grids[1].best_estimator_.named_steps['xgb'].feature_importances_))"
   ]
  },
  {
   "cell_type": "code",
   "execution_count": 353,
   "metadata": {},
   "outputs": [
    {
     "data": {
      "text/plain": [
       "<sklearn.metrics._plot.confusion_matrix.ConfusionMatrixDisplay at 0x7fdcca03f4f0>"
      ]
     },
     "execution_count": 353,
     "metadata": {},
     "output_type": "execute_result"
    },
    {
     "data": {
      "image/png": "[encoded data removed]",
      "text/plain": [
       "<Figure size 432x288 with 2 Axes>"
      ]
     },
     "metadata": {
      "needs_background": "light"
     },
     "output_type": "display_data"
    }
   ],
   "source": [
    "create_confusion_matrix(model2.grids[1], model2._X_test, model2._y_test)"
   ]
  },
  {
   "cell_type": "code",
   "execution_count": 354,
   "metadata": {},
   "outputs": [
    {
     "data": {
      "text/plain": [
       "<sklearn.metrics._plot.confusion_matrix.ConfusionMatrixDisplay at 0x7fdc88404d60>"
      ]
     },
     "execution_count": 354,
     "metadata": {},
     "output_type": "execute_result"
    },
    {
     "data": {
      "image/png": "[encoded data removed]",
      "text/plain": [
       "<Figure size 432x288 with 2 Axes>"
      ]
     },
     "metadata": {
      "needs_background": "light"
     },
     "output_type": "display_data"
    }
   ],
   "source": [
    "create_confusion_matrix(model2.grids[0], model2._X_test, model2._y_test)"
   ]
  },
  {
   "cell_type": "markdown",
   "metadata": {},
   "source": [
    "### Second Model:\n",
    "### Feature, Target Variable: Simple Average, Hydraulic Accumulator / Bar"
   ]
  },
  {
   "cell_type": "code",
   "execution_count": 355,
   "metadata": {},
   "outputs": [
    {
     "data": {
      "text/plain": [
       "<__main__.RegularModel at 0x7fdcca9a44f0>"
      ]
     },
     "execution_count": 355,
     "metadata": {},
     "output_type": "execute_result"
    }
   ],
   "source": [
    "model3_X = \"./features/cycle_mean.pkl\"\n",
    "model3_y = \"./target_variables/Hydraulic_accumulator_bar.pkl\"\n",
    "model3 = RegularModel(model3_X, model3_y, 'Simple Averages', 'Hydraulic Accumulator / Bar')\n",
    "model3.fit_model()"
   ]
  },
  {
   "cell_type": "code",
   "execution_count": 356,
   "metadata": {},
   "outputs": [
    {
     "name": "stdout",
     "output_type": "stream",
     "text": [
      "Feature type: Simple Averages\n",
      "Target Variable: Hydraulic Accumulator / Bar\n",
      " \n",
      " K-Nearest Neighbors Test Accuracy: 0.9637462235649547\n",
      " K-Nearest Neighbors Best Params: {'knn__metric': 'manhattan', 'knn__n_neighbors': 4, 'knn__weights': 'distance'}\n",
      " \n",
      " XGBoost Test Accuracy: 0.9697885196374623\n",
      " XGBoost Best Params: {'xgb__learning_rate': 0.2, 'xgb__max_depth': 4, 'xgb__min_child_weight': 1, 'xgb__n_estimators': 150, 'xgb__subsample': 0.5}\n",
      " \n",
      "\n"
     ]
    }
   ],
   "source": [
    "model3.report()"
   ]
  },
  {
   "cell_type": "code",
   "execution_count": 357,
   "metadata": {},
   "outputs": [
    {
     "name": "stdout",
     "output_type": "stream",
     "text": [
      "KNN Accuracy Score: 0.9637462235649547\n",
      "KNN F-1 Weighted Score: 0.9635651973655772\n",
      "KNN ROC-AUC Score: 0.9842895771996268\n",
      "\u000b",
      "\n",
      "XGB Accuracy Score: 0.9697885196374623\n",
      "XGB F-1 Weighted Score: 0.9698609457765859\n",
      "XGB ROC-AUC Score: 0.9994806072890597\n"
     ]
    }
   ],
   "source": [
    "get_accuracy('KNN', model3.grids[0], model3._X_test, model3._y_test)\n",
    "get_f1_weighted_score('KNN', model3.grids[0], model3._X_test, model3._y_test)\n",
    "get_roc_auc_score('KNN', model3.grids[0], model3._X_test, model3._y_test)\n",
    "print('\\v')\n",
    "get_accuracy('XGB', model3.grids[1], model3._X_test, model3._y_test)\n",
    "get_f1_weighted_score('XGB', model3.grids[1], model3._X_test, model3._y_test)\n",
    "get_roc_auc_score('XGB', model3.grids[1], model3._X_test, model3._y_test)"
   ]
  },
  {
   "cell_type": "code",
   "execution_count": 358,
   "metadata": {},
   "outputs": [
    {
     "data": {
      "text/plain": [
       "[('CE', 0.07464489),\n",
       " ('CP', 0.046574567),\n",
       " ('EPS1', 0.059376642),\n",
       " ('FS1', 0.032784436),\n",
       " ('FS2', 0.09706607),\n",
       " ('PS1', 0.02076849),\n",
       " ('PS2', 0.02388537),\n",
       " ('PS3', 0.032448657),\n",
       " ('PS4', 0.030364523),\n",
       " ('PS5', 0.080152676),\n",
       " ('PS6', 0.0651364),\n",
       " ('SE', 0.10053402),\n",
       " ('TS1', 0.054618508),\n",
       " ('TS2', 0.054929644),\n",
       " ('TS3', 0.06911249),\n",
       " ('TS4', 0.1003717),\n",
       " ('VS1', 0.05723092)]"
      ]
     },
     "execution_count": 358,
     "metadata": {},
     "output_type": "execute_result"
    }
   ],
   "source": [
    "list(zip(model3._X_train.columns, \n",
    "         model3.grids[1].best_estimator_.named_steps['xgb'].feature_importances_))"
   ]
  },
  {
   "cell_type": "code",
   "execution_count": 359,
   "metadata": {},
   "outputs": [
    {
     "data": {
      "text/plain": [
       "<sklearn.metrics._plot.confusion_matrix.ConfusionMatrixDisplay at 0x7fdcca9acfd0>"
      ]
     },
     "execution_count": 359,
     "metadata": {},
     "output_type": "execute_result"
    },
    {
     "data": {
      "image/png": "[encoded data removed]",
      "text/plain": [
       "<Figure size 432x288 with 2 Axes>"
      ]
     },
     "metadata": {
      "needs_background": "light"
     },
     "output_type": "display_data"
    }
   ],
   "source": [
    "create_confusion_matrix(model3.grids[1], model3._X_test, model3._y_test)"
   ]
  },
  {
   "cell_type": "code",
   "execution_count": 360,
   "metadata": {},
   "outputs": [
    {
     "data": {
      "text/plain": [
       "<sklearn.metrics._plot.confusion_matrix.ConfusionMatrixDisplay at 0x7fdc887f25b0>"
      ]
     },
     "execution_count": 360,
     "metadata": {},
     "output_type": "execute_result"
    },
    {
     "data": {
      "image/png": "[encoded data removed]",
      "text/plain": [
       "<Figure size 432x288 with 2 Axes>"
      ]
     },
     "metadata": {
      "needs_background": "light"
     },
     "output_type": "display_data"
    }
   ],
   "source": [
    "create_confusion_matrix(model3.grids[0], model3._X_test, model3._y_test)"
   ]
  },
  {
   "cell_type": "markdown",
   "metadata": {},
   "source": [
    "### Feature, Target Variable: Simple Average, Stable Flag"
   ]
  },
  {
   "cell_type": "code",
   "execution_count": 361,
   "metadata": {},
   "outputs": [
    {
     "data": {
      "text/plain": [
       "<__main__.RegularModel at 0x7fdc887f2190>"
      ]
     },
     "execution_count": 361,
     "metadata": {},
     "output_type": "execute_result"
    }
   ],
   "source": [
    "model4_X = \"./features/cycle_mean.pkl\"\n",
    "model4_y = \"./target_variables/stable_flag.pkl\"\n",
    "model4 = RegularModel(model4_X, model4_y, 'Simple Averages', 'Stable Flag')\n",
    "model4.fit_model()"
   ]
  },
  {
   "cell_type": "code",
   "execution_count": 362,
   "metadata": {},
   "outputs": [
    {
     "name": "stdout",
     "output_type": "stream",
     "text": [
      "Feature type: Simple Averages\n",
      "Target Variable: Stable Flag\n",
      " \n",
      " K-Nearest Neighbors Test Accuracy: 0.9637462235649547\n",
      " K-Nearest Neighbors Best Params: {'knn__metric': 'manhattan', 'knn__n_neighbors': 1, 'knn__weights': 'uniform'}\n",
      " \n",
      " XGBoost Test Accuracy: 0.9667673716012085\n",
      " XGBoost Best Params: {'xgb__learning_rate': 0.3, 'xgb__max_depth': 5, 'xgb__min_child_weight': 1, 'xgb__n_estimators': 150, 'xgb__subsample': 0.5}\n",
      " \n",
      "\n"
     ]
    }
   ],
   "source": [
    "model4.report()"
   ]
  },
  {
   "cell_type": "code",
   "execution_count": 363,
   "metadata": {},
   "outputs": [
    {
     "name": "stdout",
     "output_type": "stream",
     "text": [
      "KNN Accuracy Score: 0.9637462235649547\n",
      "KNN F-1 Weighted Score: 0.9633435772317546\n",
      "\u000b",
      "\n",
      "XGB Accuracy Score: 0.9667673716012085\n",
      "XGB F-1 Weighted Score: 0.9663477541221549\n"
     ]
    }
   ],
   "source": [
    "get_accuracy('KNN', model4.grids[0], model4._X_test, model4._y_test)\n",
    "get_f1_weighted_score('KNN', model4.grids[0], model4._X_test, model4._y_test)\n",
    "# get_roc_auc_score('KNN', model4.grids[0], model4._X_test, model4._y_test)\n",
    "print('\\v')\n",
    "get_accuracy('XGB', model4.grids[1], model4._X_test, model4._y_test)\n",
    "get_f1_weighted_score('XGB', model4.grids[1], model4._X_test, model4._y_test)\n",
    "# get_roc_auc_score('XGB', model4.grids[1], model4._X_test, model4._y_test)"
   ]
  },
  {
   "cell_type": "code",
   "execution_count": 364,
   "metadata": {},
   "outputs": [
    {
     "data": {
      "text/plain": [
       "[('CE', 0.055520725),\n",
       " ('CP', 0.027705934),\n",
       " ('EPS1', 0.016901672),\n",
       " ('FS1', 0.07508104),\n",
       " ('FS2', 0.044801302),\n",
       " ('PS1', 0.101923294),\n",
       " ('PS2', 0.045497034),\n",
       " ('PS3', 0.01572853),\n",
       " ('PS4', 0.04360179),\n",
       " ('PS5', 0.18859589),\n",
       " ('PS6', 0.044532917),\n",
       " ('SE', 0.22230943),\n",
       " ('TS1', 0.022184258),\n",
       " ('TS2', 0.04064593),\n",
       " ('TS3', 0.022538431),\n",
       " ('TS4', 0.015656412),\n",
       " ('VS1', 0.016775357)]"
      ]
     },
     "execution_count": 364,
     "metadata": {},
     "output_type": "execute_result"
    }
   ],
   "source": [
    "list(zip(model4._X_train.columns, \n",
    "         model4.grids[1].best_estimator_.named_steps['xgb'].feature_importances_))"
   ]
  },
  {
   "cell_type": "code",
   "execution_count": 365,
   "metadata": {},
   "outputs": [
    {
     "data": {
      "text/plain": [
       "<sklearn.metrics._plot.confusion_matrix.ConfusionMatrixDisplay at 0x7fdcdba39b20>"
      ]
     },
     "execution_count": 365,
     "metadata": {},
     "output_type": "execute_result"
    },
    {
     "data": {
      "image/png": "[encoded data removed]",
      "text/plain": [
       "<Figure size 432x288 with 2 Axes>"
      ]
     },
     "metadata": {
      "needs_background": "light"
     },
     "output_type": "display_data"
    }
   ],
   "source": [
    "create_confusion_matrix(model4.grids[1], model4._X_test, model4._y_test)"
   ]
  },
  {
   "cell_type": "code",
   "execution_count": 366,
   "metadata": {},
   "outputs": [
    {
     "data": {
      "text/plain": [
       "<sklearn.metrics._plot.confusion_matrix.ConfusionMatrixDisplay at 0x7fdc785fe3a0>"
      ]
     },
     "execution_count": 366,
     "metadata": {},
     "output_type": "execute_result"
    },
    {
     "data": {
      "image/png": "[encoded data removed]",
      "text/plain": [
       "<Figure size 432x288 with 2 Axes>"
      ]
     },
     "metadata": {
      "needs_background": "light"
     },
     "output_type": "display_data"
    }
   ],
   "source": [
    "create_confusion_matrix(model4.grids[0], model4._X_test, model4._y_test)"
   ]
  },
  {
   "cell_type": "markdown",
   "metadata": {},
   "source": [
    "### Feature, Target Variable: Simple Average, Cooler Condition / %"
   ]
  },
  {
   "cell_type": "code",
   "execution_count": 367,
   "metadata": {},
   "outputs": [
    {
     "data": {
      "text/plain": [
       "<__main__.RegularModel at 0x7fdce85fbaf0>"
      ]
     },
     "execution_count": 367,
     "metadata": {},
     "output_type": "execute_result"
    }
   ],
   "source": [
    "model5_X = \"./features/cycle_mean.pkl\"\n",
    "model5_y = \"./target_variables/Cooler_Condition.pkl\"\n",
    "model5 = RegularModel(model5_X, model5_y, 'Simple Averages', 'Cooler Condition / %')\n",
    "model5.fit_model()"
   ]
  },
  {
   "cell_type": "code",
   "execution_count": 368,
   "metadata": {},
   "outputs": [
    {
     "name": "stdout",
     "output_type": "stream",
     "text": [
      "Feature type: Simple Averages\n",
      "Target Variable: Cooler Condition / %\n",
      " \n",
      " K-Nearest Neighbors Test Accuracy: 1.0\n",
      " K-Nearest Neighbors Best Params: {'knn__metric': 'euclidean', 'knn__n_neighbors': 1, 'knn__weights': 'uniform'}\n",
      " \n",
      " XGBoost Test Accuracy: 1.0\n",
      " XGBoost Best Params: {'xgb__learning_rate': 0.1, 'xgb__max_depth': 1, 'xgb__min_child_weight': 1, 'xgb__n_estimators': 150, 'xgb__subsample': 1.0}\n",
      " \n",
      "\n"
     ]
    }
   ],
   "source": [
    "model5.report()"
   ]
  },
  {
   "cell_type": "code",
   "execution_count": 369,
   "metadata": {},
   "outputs": [
    {
     "data": {
      "text/plain": [
       "[('CE', 0.5937464),\n",
       " ('CP', 0.19123779),\n",
       " ('EPS1', 0.0),\n",
       " ('FS1', 0.0),\n",
       " ('FS2', 2.8768736e-05),\n",
       " ('PS1', 0.0),\n",
       " ('PS2', 0.20224777),\n",
       " ('PS3', 2.3074144e-05),\n",
       " ('PS4', 0.006340876),\n",
       " ('PS5', 0.0),\n",
       " ('PS6', 0.0),\n",
       " ('SE', 0.00043923742),\n",
       " ('TS1', 0.0),\n",
       " ('TS2', 0.0),\n",
       " ('TS3', 0.0),\n",
       " ('TS4', 0.0059360685),\n",
       " ('VS1', 0.0)]"
      ]
     },
     "execution_count": 369,
     "metadata": {},
     "output_type": "execute_result"
    }
   ],
   "source": [
    "list(zip(model5._X_train.columns, \n",
    "         model5.grids[1].best_estimator_.named_steps['xgb'].feature_importances_))"
   ]
  },
  {
   "cell_type": "code",
   "execution_count": 370,
   "metadata": {},
   "outputs": [],
   "source": [
    "model6_df = pd.read_pickle(model5_X)"
   ]
  },
  {
   "cell_type": "code",
   "execution_count": 371,
   "metadata": {},
   "outputs": [],
   "source": [
    "model6_df = model6_df.drop(['CE', 'FS2', 'PS5', 'PS6', 'CP', 'TS1', 'TS4', 'TS2'], axis = 1)\n",
    "model6_df.to_pickle('./features/model6_dropped_columns.pkl')"
   ]
  },
  {
   "cell_type": "code",
   "execution_count": 372,
   "metadata": {},
   "outputs": [
    {
     "data": {
      "text/plain": [
       "<__main__.RegularModel at 0x7fdce86081f0>"
      ]
     },
     "execution_count": 372,
     "metadata": {},
     "output_type": "execute_result"
    }
   ],
   "source": [
    "model6_X = './features/model6_dropped_columns.pkl'\n",
    "model6_y = './target_variables/Cooler_Condition.pkl'\n",
    "model6 = RegularModel(model6_X, model6_y, 'Simple Averages', 'Cooler Condition / %')\n",
    "model6.fit_model()"
   ]
  },
  {
   "cell_type": "code",
   "execution_count": 373,
   "metadata": {},
   "outputs": [
    {
     "name": "stdout",
     "output_type": "stream",
     "text": [
      "Feature type: Simple Averages\n",
      "Target Variable: Cooler Condition / %\n",
      " \n",
      " K-Nearest Neighbors Test Accuracy: 0.9939577039274925\n",
      " K-Nearest Neighbors Best Params: {'knn__metric': 'manhattan', 'knn__n_neighbors': 1, 'knn__weights': 'uniform'}\n",
      " \n",
      " XGBoost Test Accuracy: 0.9969788519637462\n",
      " XGBoost Best Params: {'xgb__learning_rate': 0.2, 'xgb__max_depth': 2, 'xgb__min_child_weight': 1, 'xgb__n_estimators': 150, 'xgb__subsample': 1.0}\n",
      " \n",
      "\n"
     ]
    }
   ],
   "source": [
    "model6.report()"
   ]
  },
  {
   "cell_type": "code",
   "execution_count": 374,
   "metadata": {},
   "outputs": [
    {
     "data": {
      "text/plain": [
       "[('EPS1', 0.2313137),\n",
       " ('FS1', 0.0018095358),\n",
       " ('PS1', 0.0008786859),\n",
       " ('PS2', 0.115248896),\n",
       " ('PS3', 0.35238746),\n",
       " ('PS4', 0.028239887),\n",
       " ('SE', 0.0093286205),\n",
       " ('TS3', 0.2151588),\n",
       " ('VS1', 0.045634385)]"
      ]
     },
     "execution_count": 374,
     "metadata": {},
     "output_type": "execute_result"
    }
   ],
   "source": [
    "list(zip(model6._X_train.columns, \n",
    "         model6.grids[1].best_estimator_.named_steps['xgb'].feature_importances_))"
   ]
  },
  {
   "cell_type": "code",
   "execution_count": 375,
   "metadata": {},
   "outputs": [
    {
     "name": "stdout",
     "output_type": "stream",
     "text": [
      "KNN Accuracy Score: 0.9939577039274925\n",
      "KNN F-1 Weighted Score: 0.993964498113481\n",
      "KNN ROC-AUC Score: 0.9957652283936271\n",
      "\u000b",
      "\n",
      "XGB Accuracy Score: 0.9969788519637462\n",
      "XGB F-1 Weighted Score: 0.9969809408583403\n",
      "XGB ROC-AUC Score: 1.0\n"
     ]
    }
   ],
   "source": [
    "get_accuracy('KNN', model6.grids[0], model6._X_test, model6._y_test)\n",
    "get_f1_weighted_score('KNN', model6.grids[0], model6._X_test, model6._y_test)\n",
    "get_roc_auc_score('KNN', model6.grids[0], model6._X_test, model6._y_test)\n",
    "print('\\v')\n",
    "get_accuracy('XGB', model6.grids[1], model6._X_test, model6._y_test)\n",
    "get_f1_weighted_score('XGB', model6.grids[1], model6._X_test, model6._y_test)\n",
    "get_roc_auc_score('XGB', model6.grids[1], model6._X_test, model6._y_test)"
   ]
  },
  {
   "cell_type": "code",
   "execution_count": 376,
   "metadata": {
    "scrolled": true
   },
   "outputs": [
    {
     "data": {
      "text/plain": [
       "<sklearn.metrics._plot.confusion_matrix.ConfusionMatrixDisplay at 0x7fdce8600dc0>"
      ]
     },
     "execution_count": 376,
     "metadata": {},
     "output_type": "execute_result"
    },
    {
     "data": {
      "image/png": "[encoded data removed]",
      "text/plain": [
       "<Figure size 432x288 with 2 Axes>"
      ]
     },
     "metadata": {
      "needs_background": "light"
     },
     "output_type": "display_data"
    }
   ],
   "source": [
    "create_confusion_matrix(model6.grids[1], model6._X_test, model6._y_test)"
   ]
  },
  {
   "cell_type": "code",
   "execution_count": 377,
   "metadata": {},
   "outputs": [
    {
     "data": {
      "text/plain": [
       "<sklearn.metrics._plot.confusion_matrix.ConfusionMatrixDisplay at 0x7fdc8880aeb0>"
      ]
     },
     "execution_count": 377,
     "metadata": {},
     "output_type": "execute_result"
    },
    {
     "data": {
      "image/png": "[encoded data removed]",
      "text/plain": [
       "<Figure size 432x288 with 2 Axes>"
      ]
     },
     "metadata": {
      "needs_background": "light"
     },
     "output_type": "display_data"
    }
   ],
   "source": [
    "create_confusion_matrix(model6.grids[0], model6._X_test, model6._y_test)"
   ]
  },
  {
   "cell_type": "markdown",
   "metadata": {},
   "source": [
    "## Modeling Other Features"
   ]
  },
  {
   "cell_type": "code",
   "execution_count": 378,
   "metadata": {},
   "outputs": [],
   "source": [
    "## Average Thirds Models"
   ]
  },
  {
   "cell_type": "code",
   "execution_count": 379,
   "metadata": {},
   "outputs": [],
   "source": [
    "# code here for your first 'substandard' model\n"
   ]
  },
  {
   "cell_type": "code",
   "execution_count": 380,
   "metadata": {},
   "outputs": [],
   "source": [
    "# code here to iteratively improve your models\n"
   ]
  },
  {
   "cell_type": "code",
   "execution_count": 381,
   "metadata": {},
   "outputs": [],
   "source": [
    "# creating a list of the feature and target sets saved to pickle files\n",
    "features = [] \n",
    "for itm in iglob('./features/*.pkl'):\n",
    "    filename = os.path.basename(itm)[:-4]\n",
    "    if filename in [\"cond_encoding\", \"sensor_info\"]:\n",
    "        continue\n",
    "    features.append((filename, itm)) \n",
    "target_vars = [] \n",
    "for f_path in iglob(\"./target_variables/*.pkl\"):\n",
    "    filename = os.path.basename(f_path)[:-4]\n",
    "    target_vars.append((filename, f_path))"
   ]
  },
  {
   "cell_type": "code",
   "execution_count": 382,
   "metadata": {},
   "outputs": [],
   "source": [
    "# creating a list of arguments to pass to the model fit loop\n",
    "args_list = []\n",
    "for name, path in target_vars:\n",
    "    for feature, pkl in features:\n",
    "        args_list.append((pkl, path, feature, name))"
   ]
  },
  {
   "cell_type": "code",
   "execution_count": 383,
   "metadata": {},
   "outputs": [],
   "source": [
    "def pool_func(args):\n",
    "    start_t = perf_counter()\n",
    "    _, _, feature, target = args\n",
    "    model_inst = RegularModel(*args)\n",
    "    model_inst.fit_model()\n",
    "    dump(model_inst, f\"./models/{target}_{feature}.pkl\")\n",
    "    log_loc = f\"./models/{target}_{feature}.txt\"\n",
    "    model_inst.report(\"file\", where=log_loc)\n",
    "        \n",
    "    end_t = perf_counter()\n",
    "    return (f\"Target variable {target} with feature set {feature}\", end_t - start_t)"
   ]
  },
  {
   "cell_type": "code",
   "execution_count": 384,
   "metadata": {
    "scrolled": true
   },
   "outputs": [],
   "source": [
    "# for args in args_list:\n",
    "#     msg, duration = pool_func(args)\n",
    "#     print(f\"{msg} took {duration} to compute.\")"
   ]
  },
  {
   "cell_type": "markdown",
   "metadata": {},
   "source": [
    "| Target     | Feature                   |   KNN Accuracry |   XGBoost Accuracy |\n",
    "|   :---:    |          :---:            |      :---:      |        :---:       |\n",
    "| avg_3rds   | Cooler_Condition          |        1        |           1        |\n",
    "| avg_change | Cooler_Condition          |        0.924471 |           0.987915 |\n",
    "| cycle_mean | Cooler_Condition          |        1        |           1        |\n",
    "| dx_3rds    | Cooler_Condition          |        0.927492 |           0.996979 |\n",
    "| std_3rds   | Cooler_Condition          |        0.996979 |           0.990937 |\n",
    "| std_dev    | Cooler_Condition          |        0.990937 |           0.990937 |\n",
    "| avg_3rds   | Hydraulic_accumulator_bar |        0.963746 |           0.987915 |\n",
    "| avg_change | Hydraulic_accumulator_bar |        0.818731 |           0.963746 |\n",
    "| cycle_mean | Hydraulic_accumulator_bar |        0.963746 |           0.969789 |\n",
    "| dx_3rds    | Hydraulic_accumulator_bar |        0.670695 |           0.942598 |\n",
    "| std_3rds   | Hydraulic_accumulator_bar |        0.930514 |           0.975831 |\n",
    "| std_dev    | Hydraulic_accumulator_bar |        0.8429   |           0.915408 |\n",
    "| avg_3rds   | Internal_pump_leakage     |        0.990937 |           0.996979 |\n",
    "| avg_change | Internal_pump_leakage     |        0.697885 |           0.854985 |\n",
    "| cycle_mean | Internal_pump_leakage     |        0.990937 |           0.987915 |\n",
    "| dx_3rds    | Internal_pump_leakage     |        0.646526 |           0.794562 |\n",
    "| std_3rds   | Internal_pump_leakage     |        0.92145  |           0.969789 |\n",
    "| std_dev    | Internal_pump_leakage     |        0.963746 |           0.984894 |\n",
    "| avg_3rds   | stable_flag               |        0.966767 |           0.963746 |\n",
    "| avg_change | stable_flag               |        0.827795 |           0.942598 |\n",
    "| cycle_mean | stable_flag               |        0.963746 |           0.966767 |\n",
    "| dx_3rds    | stable_flag               |        0.800604 |           0.912387 |\n",
    "| std_3rds   | stable_flag               |        0.957704 |           0.969789 |\n",
    "| std_dev    | stable_flag               |        0.954683 |           0.969789 |\n",
    "| avg_3rds   | Valve_Condition           |        0.984894 |           0.987915 |\n",
    "| avg_change | Valve_Condition           |        0.465257 |           0.504532 |\n",
    "| cycle_mean | Valve_Condition           |        0.918429 |           0.97281  |\n",
    "| dx_3rds    | Valve_Condition           |        0.44713  |           0.483384 |\n",
    "| std_3rds   | Valve_Condition           |        0.694864 |           0.933535 |\n",
    "| std_dev    | Valve_Condition           |        0.752266 |           0.960725 |"
   ]
  },
  {
   "cell_type": "markdown",
   "metadata": {},
   "source": [
    "## Evaluation\n",
    "\n",
    "The evaluation of each model should accompany the creation of each model, and you should be sure to evaluate your models consistently.\n",
    "\n",
    "Evaluate how well your work solves the stated business problem. \n",
    "\n",
    "Questions to consider:\n",
    "\n",
    "- How do you interpret the results?\n",
    "- How well does your model fit your data? How much better is this than your baseline model? Is it over or under fit?\n",
    "- How well does your model/data fit any relevant modeling assumptions?\n",
    "\n",
    "For the final model, you might also consider:\n",
    "\n",
    "- How confident are you that your results would generalize beyond the data you have?\n",
    "- How confident are you that this model would benefit the business if put into use?\n",
    "- What does this final model tell you about the relationship between your inputs and outputs?"
   ]
  },
  {
   "cell_type": "markdown",
   "metadata": {},
   "source": [
    "### 'Final' Model\n",
    "\n",
    "In the end, you'll arrive at a 'final' model - aka the one you'll use to make your recommendations/conclusions. This likely blends any group work. It might not be the one with the highest scores, but instead might be considered 'final' or 'best' for other reasons."
   ]
  },
  {
   "cell_type": "code",
   "execution_count": 385,
   "metadata": {},
   "outputs": [],
   "source": [
    "# code here to show your final model"
   ]
  },
  {
   "cell_type": "code",
   "execution_count": 386,
   "metadata": {},
   "outputs": [],
   "source": [
    "# code here to evaluate your final model"
   ]
  },
  {
   "cell_type": "markdown",
   "metadata": {},
   "source": [
    "## Conclusions\n",
    "\n",
    "Provide your conclusions about the work you've done, including any limitations or next steps.\n",
    "\n",
    "Questions to consider:\n",
    "\n",
    "- What would you recommend the business do as a result of this work?\n",
    "- How could the stakeholder use your model effectively?\n",
    "- What are some reasons why your analysis might not fully solve the business problem?\n",
    "- What else could you do in the future to improve this project (future work)?\n"
   ]
  }
 ],
 "metadata": {
  "kernelspec": {
   "display_name": "Python (learn-env)",
   "language": "python",
   "name": "learn-env"
  },
  "language_info": {
   "codemirror_mode": {
    "name": "ipython",
    "version": 3
   },
   "file_extension": ".py",
   "mimetype": "text/x-python",
   "name": "python",
   "nbconvert_exporter": "python",
   "pygments_lexer": "ipython3",
   "version": "3.8.5"
  },
  "latex_envs": {
   "LaTeX_envs_menu_present": true,
   "autoclose": false,
   "autocomplete": true,
   "bibliofile": "biblio.bib",
   "cite_by": "apalike",
   "current_citInitial": 1,
   "eqLabelWithNumbers": true,
   "eqNumInitial": 1,
   "hotkeys": {
    "equation": "Ctrl-E",
    "itemize": "Ctrl-I"
   },
   "labels_anchors": false,
   "latex_user_defs": false,
   "report_style_numbering": false,
   "user_envs_cfg": false
  },
  "varInspector": {
   "cols": {
    "lenName": 16,
    "lenType": 16,
    "lenVar": 40
   },
   "kernels_config": {
    "python": {
     "delete_cmd_postfix": "",
     "delete_cmd_prefix": "del ",
     "library": "var_list.py",
     "varRefreshCmd": "print(var_dic_list())"
    },
    "r": {
     "delete_cmd_postfix": ") ",
     "delete_cmd_prefix": "rm(",
     "library": "var_list.r",
     "varRefreshCmd": "cat(var_dic_list()) "
    }
   },
   "types_to_exclude": [
    "module",
    "function",
    "builtin_function_or_method",
    "instance",
    "_Feature"
   ],
   "window_display": false
  }
 },
 "nbformat": 4,
 "nbformat_minor": 4
}
