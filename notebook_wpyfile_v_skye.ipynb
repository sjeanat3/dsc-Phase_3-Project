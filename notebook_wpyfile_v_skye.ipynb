{
 "cells": [
  {
   "cell_type": "markdown",
   "metadata": {},
   "source": [
    "# Imports"
   ]
  },
  {
   "cell_type": "code",
   "execution_count": 161,
   "metadata": {},
   "outputs": [],
   "source": [
    "import numpy as np\n",
    "import pandas as pd\n",
    "from pandas.errors import ParserError\n",
    "import matplotlib.pyplot as plt\n",
    "import seaborn as sns\n",
    "import os\n",
    "import glob\n",
    "import pickle\n",
    "\n",
    "from sklearn.pipeline import Pipeline\n",
    "from sklearn.preprocessing import StandardScaler\n",
    "from sklearn.linear_model import LogisticRegression\n",
    "from sklearn.tree import DecisionTreeClassifier\n",
    "from sklearn.ensemble import RandomForestClassifier\n",
    "from sklearn.neighbors import KNeighborsClassifier\n",
    "from sklearn import svm\n",
    "from sklearn.svm import SVC\n",
    "from xgboost import XGBClassifier\n",
    "from sklearn.model_selection import train_test_split, GridSearchCV\n",
    "from sklearn.metrics import plot_confusion_matrix, accuracy_score, recall_score, precision_score, f1_score, roc_auc_score, plot_roc_curve"
   ]
  },
  {
   "cell_type": "code",
   "execution_count": 162,
   "metadata": {},
   "outputs": [],
   "source": [
    "feature_avg = pd.read_pickle('./features/cycle_mean.pkl')"
   ]
  },
  {
   "cell_type": "code",
   "execution_count": 163,
   "metadata": {
    "scrolled": true
   },
   "outputs": [
    {
     "data": {
      "text/html": [
       "<div>\n",
       "<style scoped>\n",
       "    .dataframe tbody tr th:only-of-type {\n",
       "        vertical-align: middle;\n",
       "    }\n",
       "\n",
       "    .dataframe tbody tr th {\n",
       "        vertical-align: top;\n",
       "    }\n",
       "\n",
       "    .dataframe thead th {\n",
       "        text-align: right;\n",
       "    }\n",
       "</style>\n",
       "<table border=\"1\" class=\"dataframe\">\n",
       "  <thead>\n",
       "    <tr style=\"text-align: right;\">\n",
       "      <th></th>\n",
       "      <th>CE</th>\n",
       "      <th>CP</th>\n",
       "      <th>EPS1</th>\n",
       "      <th>FS1</th>\n",
       "      <th>FS2</th>\n",
       "      <th>PS1</th>\n",
       "      <th>PS2</th>\n",
       "      <th>PS3</th>\n",
       "      <th>PS4</th>\n",
       "      <th>PS5</th>\n",
       "      <th>PS6</th>\n",
       "      <th>SE</th>\n",
       "      <th>TS1</th>\n",
       "      <th>TS2</th>\n",
       "      <th>TS3</th>\n",
       "      <th>TS4</th>\n",
       "      <th>VS1</th>\n",
       "    </tr>\n",
       "  </thead>\n",
       "  <tbody>\n",
       "    <tr>\n",
       "      <th>0</th>\n",
       "      <td>39.601350</td>\n",
       "      <td>1.862750</td>\n",
       "      <td>2538.929167</td>\n",
       "      <td>6.709815</td>\n",
       "      <td>10.304592</td>\n",
       "      <td>160.673492</td>\n",
       "      <td>109.466914</td>\n",
       "      <td>1.991475</td>\n",
       "      <td>0.0</td>\n",
       "      <td>9.842169</td>\n",
       "      <td>9.728098</td>\n",
       "      <td>59.157183</td>\n",
       "      <td>35.621983</td>\n",
       "      <td>40.978767</td>\n",
       "      <td>38.471017</td>\n",
       "      <td>31.745250</td>\n",
       "      <td>0.576950</td>\n",
       "    </tr>\n",
       "    <tr>\n",
       "      <th>1</th>\n",
       "      <td>25.786433</td>\n",
       "      <td>1.255550</td>\n",
       "      <td>2531.498900</td>\n",
       "      <td>6.715315</td>\n",
       "      <td>10.403098</td>\n",
       "      <td>160.603320</td>\n",
       "      <td>109.354890</td>\n",
       "      <td>1.976234</td>\n",
       "      <td>0.0</td>\n",
       "      <td>9.635142</td>\n",
       "      <td>9.529488</td>\n",
       "      <td>59.335617</td>\n",
       "      <td>36.676967</td>\n",
       "      <td>41.532767</td>\n",
       "      <td>38.978967</td>\n",
       "      <td>34.493867</td>\n",
       "      <td>0.565850</td>\n",
       "    </tr>\n",
       "    <tr>\n",
       "      <th>2</th>\n",
       "      <td>22.218233</td>\n",
       "      <td>1.113217</td>\n",
       "      <td>2519.928000</td>\n",
       "      <td>6.718522</td>\n",
       "      <td>10.366250</td>\n",
       "      <td>160.347720</td>\n",
       "      <td>109.158845</td>\n",
       "      <td>1.972224</td>\n",
       "      <td>0.0</td>\n",
       "      <td>9.530548</td>\n",
       "      <td>9.427949</td>\n",
       "      <td>59.543150</td>\n",
       "      <td>37.880800</td>\n",
       "      <td>42.442450</td>\n",
       "      <td>39.631950</td>\n",
       "      <td>35.646150</td>\n",
       "      <td>0.576533</td>\n",
       "    </tr>\n",
       "    <tr>\n",
       "      <th>3</th>\n",
       "      <td>20.459817</td>\n",
       "      <td>1.062150</td>\n",
       "      <td>2511.541633</td>\n",
       "      <td>6.720565</td>\n",
       "      <td>10.302678</td>\n",
       "      <td>160.188088</td>\n",
       "      <td>109.064807</td>\n",
       "      <td>1.946575</td>\n",
       "      <td>0.0</td>\n",
       "      <td>9.438827</td>\n",
       "      <td>9.337430</td>\n",
       "      <td>59.794900</td>\n",
       "      <td>38.879050</td>\n",
       "      <td>43.403983</td>\n",
       "      <td>40.403383</td>\n",
       "      <td>36.579467</td>\n",
       "      <td>0.569267</td>\n",
       "    </tr>\n",
       "    <tr>\n",
       "      <th>4</th>\n",
       "      <td>19.787017</td>\n",
       "      <td>1.070467</td>\n",
       "      <td>2503.449500</td>\n",
       "      <td>6.690308</td>\n",
       "      <td>10.237750</td>\n",
       "      <td>160.000472</td>\n",
       "      <td>108.931434</td>\n",
       "      <td>1.922707</td>\n",
       "      <td>0.0</td>\n",
       "      <td>9.358762</td>\n",
       "      <td>9.260636</td>\n",
       "      <td>59.455267</td>\n",
       "      <td>39.803917</td>\n",
       "      <td>44.332750</td>\n",
       "      <td>41.310550</td>\n",
       "      <td>37.427900</td>\n",
       "      <td>0.577367</td>\n",
       "    </tr>\n",
       "  </tbody>\n",
       "</table>\n",
       "</div>"
      ],
      "text/plain": [
       "          CE        CP         EPS1       FS1        FS2         PS1  \\\n",
       "0  39.601350  1.862750  2538.929167  6.709815  10.304592  160.673492   \n",
       "1  25.786433  1.255550  2531.498900  6.715315  10.403098  160.603320   \n",
       "2  22.218233  1.113217  2519.928000  6.718522  10.366250  160.347720   \n",
       "3  20.459817  1.062150  2511.541633  6.720565  10.302678  160.188088   \n",
       "4  19.787017  1.070467  2503.449500  6.690308  10.237750  160.000472   \n",
       "\n",
       "          PS2       PS3  PS4       PS5       PS6         SE        TS1  \\\n",
       "0  109.466914  1.991475  0.0  9.842169  9.728098  59.157183  35.621983   \n",
       "1  109.354890  1.976234  0.0  9.635142  9.529488  59.335617  36.676967   \n",
       "2  109.158845  1.972224  0.0  9.530548  9.427949  59.543150  37.880800   \n",
       "3  109.064807  1.946575  0.0  9.438827  9.337430  59.794900  38.879050   \n",
       "4  108.931434  1.922707  0.0  9.358762  9.260636  59.455267  39.803917   \n",
       "\n",
       "         TS2        TS3        TS4       VS1  \n",
       "0  40.978767  38.471017  31.745250  0.576950  \n",
       "1  41.532767  38.978967  34.493867  0.565850  \n",
       "2  42.442450  39.631950  35.646150  0.576533  \n",
       "3  43.403983  40.403383  36.579467  0.569267  \n",
       "4  44.332750  41.310550  37.427900  0.577367  "
      ]
     },
     "execution_count": 163,
     "metadata": {},
     "output_type": "execute_result"
    }
   ],
   "source": [
    "feature_avg.head()"
   ]
  },
  {
   "cell_type": "code",
   "execution_count": 164,
   "metadata": {},
   "outputs": [],
   "source": [
    "with open('./features/cond_encoding.pkl', 'rb') as file:\n",
    "    encoding = pickle.load(file)"
   ]
  },
  {
   "cell_type": "code",
   "execution_count": 165,
   "metadata": {},
   "outputs": [],
   "source": [
    "target_cols = list(encoding.keys())\n",
    "df = pd.read_csv('./data/profile.txt', sep='\\t', header = None, names = target_cols)"
   ]
  },
  {
   "cell_type": "code",
   "execution_count": 166,
   "metadata": {},
   "outputs": [
    {
     "data": {
      "text/html": [
       "<div>\n",
       "<style scoped>\n",
       "    .dataframe tbody tr th:only-of-type {\n",
       "        vertical-align: middle;\n",
       "    }\n",
       "\n",
       "    .dataframe tbody tr th {\n",
       "        vertical-align: top;\n",
       "    }\n",
       "\n",
       "    .dataframe thead th {\n",
       "        text-align: right;\n",
       "    }\n",
       "</style>\n",
       "<table border=\"1\" class=\"dataframe\">\n",
       "  <thead>\n",
       "    <tr style=\"text-align: right;\">\n",
       "      <th></th>\n",
       "      <th>Cooler Condition / %</th>\n",
       "      <th>Valve Condition / %</th>\n",
       "      <th>Internal pump leakage</th>\n",
       "      <th>Hydraulic accumulator / bar</th>\n",
       "      <th>stable flag</th>\n",
       "    </tr>\n",
       "  </thead>\n",
       "  <tbody>\n",
       "    <tr>\n",
       "      <th>0</th>\n",
       "      <td>3</td>\n",
       "      <td>100</td>\n",
       "      <td>0</td>\n",
       "      <td>130</td>\n",
       "      <td>1</td>\n",
       "    </tr>\n",
       "    <tr>\n",
       "      <th>1</th>\n",
       "      <td>3</td>\n",
       "      <td>100</td>\n",
       "      <td>0</td>\n",
       "      <td>130</td>\n",
       "      <td>1</td>\n",
       "    </tr>\n",
       "    <tr>\n",
       "      <th>2</th>\n",
       "      <td>3</td>\n",
       "      <td>100</td>\n",
       "      <td>0</td>\n",
       "      <td>130</td>\n",
       "      <td>1</td>\n",
       "    </tr>\n",
       "    <tr>\n",
       "      <th>3</th>\n",
       "      <td>3</td>\n",
       "      <td>100</td>\n",
       "      <td>0</td>\n",
       "      <td>130</td>\n",
       "      <td>1</td>\n",
       "    </tr>\n",
       "    <tr>\n",
       "      <th>4</th>\n",
       "      <td>3</td>\n",
       "      <td>100</td>\n",
       "      <td>0</td>\n",
       "      <td>130</td>\n",
       "      <td>1</td>\n",
       "    </tr>\n",
       "  </tbody>\n",
       "</table>\n",
       "</div>"
      ],
      "text/plain": [
       "   Cooler Condition / %  Valve Condition / %  Internal pump leakage  \\\n",
       "0                     3                  100                      0   \n",
       "1                     3                  100                      0   \n",
       "2                     3                  100                      0   \n",
       "3                     3                  100                      0   \n",
       "4                     3                  100                      0   \n",
       "\n",
       "   Hydraulic accumulator / bar  stable flag  \n",
       "0                          130            1  \n",
       "1                          130            1  \n",
       "2                          130            1  \n",
       "3                          130            1  \n",
       "4                          130            1  "
      ]
     },
     "execution_count": 166,
     "metadata": {},
     "output_type": "execute_result"
    }
   ],
   "source": [
    "df.head()"
   ]
  },
  {
   "cell_type": "code",
   "execution_count": 167,
   "metadata": {},
   "outputs": [],
   "source": [
    "model1_X = feature_avg[list(feature_avg.columns)]\n",
    "model1_y = df['Valve Condition / %']"
   ]
  },
  {
   "cell_type": "code",
   "execution_count": 168,
   "metadata": {},
   "outputs": [],
   "source": [
    "%reload_ext autoreload\n",
    "%autoreload 1 \n",
    "%aimport modeling"
   ]
  },
  {
   "cell_type": "code",
   "execution_count": 169,
   "metadata": {},
   "outputs": [],
   "source": [
    "from modeling import RegularModel"
   ]
  },
  {
   "cell_type": "code",
   "execution_count": 170,
   "metadata": {},
   "outputs": [],
   "source": [
    "model1 = RegularModel(model1_X, model1_y, 'Simple Averages', 'Valve Condition / %')"
   ]
  },
  {
   "cell_type": "code",
   "execution_count": 171,
   "metadata": {},
   "outputs": [
    {
     "name": "stderr",
     "output_type": "stream",
     "text": [
      "/opt/anaconda3/envs/learn-env/lib/python3.8/site-packages/sklearn/svm/_base.py:976: ConvergenceWarning: Liblinear failed to converge, increase the number of iterations.\n",
      "  warnings.warn(\"Liblinear failed to converge, increase \"\n"
     ]
    },
    {
     "data": {
      "text/plain": [
       "<modeling.RegularModel at 0x7f96e831ddf0>"
      ]
     },
     "execution_count": 171,
     "metadata": {},
     "output_type": "execute_result"
    }
   ],
   "source": [
    "model1.fit_model()"
   ]
  },
  {
   "cell_type": "code",
   "execution_count": 172,
   "metadata": {},
   "outputs": [
    {
     "name": "stdout",
     "output_type": "stream",
     "text": [
      "Feature type: Simple Averages\n",
      "Target Variable: Valve Condition / %\n",
      "Logistic Regression Test Accuracy: 0.8700906344410876\n",
      "Logistic Regression Best Params: {'lr__C': 1.0, 'lr__penalty': 'l1', 'lr__solver': 'liblinear'}\n",
      "\u000b",
      "\n",
      "Decision Trees Test Accuracy: 0.797583081570997\n",
      "Decision Trees Best Params: {'dtree__criterion': 'gini', 'dtree__max_depth': 6, 'dtree__min_samples_leaf': 1, 'dtree__min_samples_split': 6}\n",
      "\u000b",
      "\n",
      "Random Forest Test Accuracy: 0.8610271903323263\n",
      "Random Forest Best Params: {'rf__max_depth': 6, 'rf__min_samples_leaf': 1, 'rf__min_samples_split': 2}\n",
      "\u000b",
      "\n",
      "K-Nearest Neighbors Test Accuracy: 0.918429003021148\n",
      "K-Nearest Neighbors Best Params: {'knn__metric': 'manhattan', 'knn__n_neighbors': 1, 'knn__weights': 'uniform'}\n",
      "\u000b",
      "\n",
      "Support Vector Machines Test Accuracy: 0.9788519637462235\n",
      "Support Vector Machines Best Params: {'svm__C': 6, 'svm__kernel': 'linear'}\n",
      "\u000b",
      "\n",
      "XGBoost Test Accuracy: 0.972809667673716\n",
      "XGBoost Best Params: {'xgb__learning_rate': 0.2, 'xgb__max_depth': 5, 'xgb__min_child_weight': 1, 'xgb__n_estimators': 150, 'xgb__subsample': 0.5}\n",
      "\u000b",
      "\n"
     ]
    }
   ],
   "source": [
    "model1.print_m()"
   ]
  },
  {
   "cell_type": "code",
   "execution_count": 173,
   "metadata": {},
   "outputs": [],
   "source": [
    "from joblib import dump, load"
   ]
  },
  {
   "cell_type": "code",
   "execution_count": 174,
   "metadata": {},
   "outputs": [
    {
     "data": {
      "text/plain": [
       "['model1.joblib']"
      ]
     },
     "execution_count": 174,
     "metadata": {},
     "output_type": "execute_result"
    }
   ],
   "source": [
    "dump(model1, 'model1.joblib')"
   ]
  },
  {
   "cell_type": "code",
   "execution_count": 175,
   "metadata": {},
   "outputs": [],
   "source": [
    "model1_new = load('model1.joblib')"
   ]
  },
  {
   "cell_type": "code",
   "execution_count": 176,
   "metadata": {},
   "outputs": [
    {
     "name": "stdout",
     "output_type": "stream",
     "text": [
      "Feature type: Simple Averages\n",
      "Target Variable: Valve Condition / %\n",
      "Logistic Regression Test Accuracy: 0.8700906344410876\n",
      "Logistic Regression Best Params: {'lr__C': 1.0, 'lr__penalty': 'l1', 'lr__solver': 'liblinear'}\n",
      "\u000b",
      "\n",
      "Decision Trees Test Accuracy: 0.797583081570997\n",
      "Decision Trees Best Params: {'dtree__criterion': 'gini', 'dtree__max_depth': 6, 'dtree__min_samples_leaf': 1, 'dtree__min_samples_split': 6}\n",
      "\u000b",
      "\n",
      "Random Forest Test Accuracy: 0.8610271903323263\n",
      "Random Forest Best Params: {'rf__max_depth': 6, 'rf__min_samples_leaf': 1, 'rf__min_samples_split': 2}\n",
      "\u000b",
      "\n",
      "K-Nearest Neighbors Test Accuracy: 0.918429003021148\n",
      "K-Nearest Neighbors Best Params: {'knn__metric': 'manhattan', 'knn__n_neighbors': 1, 'knn__weights': 'uniform'}\n",
      "\u000b",
      "\n",
      "Support Vector Machines Test Accuracy: 0.9788519637462235\n",
      "Support Vector Machines Best Params: {'svm__C': 6, 'svm__kernel': 'linear'}\n",
      "\u000b",
      "\n",
      "XGBoost Test Accuracy: 0.972809667673716\n",
      "XGBoost Best Params: {'xgb__learning_rate': 0.2, 'xgb__max_depth': 5, 'xgb__min_child_weight': 1, 'xgb__n_estimators': 150, 'xgb__subsample': 0.5}\n",
      "\u000b",
      "\n"
     ]
    }
   ],
   "source": [
    "model1_new.print_m()"
   ]
  },
  {
   "cell_type": "code",
   "execution_count": null,
   "metadata": {},
   "outputs": [],
   "source": []
  }
 ],
 "metadata": {
  "kernelspec": {
   "display_name": "Python 3",
   "language": "python",
   "name": "python3"
  },
  "language_info": {
   "codemirror_mode": {
    "name": "ipython",
    "version": 3
   },
   "file_extension": ".py",
   "mimetype": "text/x-python",
   "name": "python",
   "nbconvert_exporter": "python",
   "pygments_lexer": "ipython3",
   "version": "3.8.5"
  }
 },
 "nbformat": 4,
 "nbformat_minor": 4
}
